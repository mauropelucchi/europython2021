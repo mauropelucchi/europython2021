{
  "nbformat": 4,
  "nbformat_minor": 0,
  "metadata": {
    "colab": {
      "name": "EUROPYTHON_2021_Web_Scraping_with_Selenium.ipynb",
      "provenance": [],
      "collapsed_sections": [
        "STZyncI72HU0"
      ]
    },
    "kernelspec": {
      "name": "python3",
      "display_name": "Python 3"
    },
    "widgets": {
      "application/vnd.jupyter.widget-state+json": {
        "2fcf734ee54c49dbb03ff27150bfafd8": {
          "model_module": "@jupyter-widgets/controls",
          "model_name": "HBoxModel",
          "state": {
            "_view_name": "HBoxView",
            "_dom_classes": [],
            "_model_name": "HBoxModel",
            "_view_module": "@jupyter-widgets/controls",
            "_model_module_version": "1.5.0",
            "_view_count": null,
            "_view_module_version": "1.5.0",
            "box_style": "",
            "layout": "IPY_MODEL_eaa076f05a52450999cdf2250bfb728c",
            "_model_module": "@jupyter-widgets/controls",
            "children": [
              "IPY_MODEL_358261e375ef48198f86b7cd4c38a9ab",
              "IPY_MODEL_e804fea0c857484cac3160f6e9a6c25a"
            ]
          }
        },
        "eaa076f05a52450999cdf2250bfb728c": {
          "model_module": "@jupyter-widgets/base",
          "model_name": "LayoutModel",
          "state": {
            "_view_name": "LayoutView",
            "grid_template_rows": null,
            "right": null,
            "justify_content": null,
            "_view_module": "@jupyter-widgets/base",
            "overflow": null,
            "_model_module_version": "1.2.0",
            "_view_count": null,
            "flex_flow": null,
            "width": null,
            "min_width": null,
            "border": null,
            "align_items": null,
            "bottom": null,
            "_model_module": "@jupyter-widgets/base",
            "top": null,
            "grid_column": null,
            "overflow_y": null,
            "overflow_x": null,
            "grid_auto_flow": null,
            "grid_area": null,
            "grid_template_columns": null,
            "flex": null,
            "_model_name": "LayoutModel",
            "justify_items": null,
            "grid_row": null,
            "max_height": null,
            "align_content": null,
            "visibility": null,
            "align_self": null,
            "height": null,
            "min_height": null,
            "padding": null,
            "grid_auto_rows": null,
            "grid_gap": null,
            "max_width": null,
            "order": null,
            "_view_module_version": "1.2.0",
            "grid_template_areas": null,
            "object_position": null,
            "object_fit": null,
            "grid_auto_columns": null,
            "margin": null,
            "display": null,
            "left": null
          }
        },
        "358261e375ef48198f86b7cd4c38a9ab": {
          "model_module": "@jupyter-widgets/controls",
          "model_name": "FloatProgressModel",
          "state": {
            "_view_name": "ProgressView",
            "style": "IPY_MODEL_35f4adcc82c14a7a8bdffab29a0c473c",
            "_dom_classes": [],
            "description": "100%",
            "_model_name": "FloatProgressModel",
            "bar_style": "success",
            "max": 12,
            "_view_module": "@jupyter-widgets/controls",
            "_model_module_version": "1.5.0",
            "value": 12,
            "_view_count": null,
            "_view_module_version": "1.5.0",
            "orientation": "horizontal",
            "min": 0,
            "description_tooltip": null,
            "_model_module": "@jupyter-widgets/controls",
            "layout": "IPY_MODEL_97467f6a6e80478786f8a95cc4850a09"
          }
        },
        "e804fea0c857484cac3160f6e9a6c25a": {
          "model_module": "@jupyter-widgets/controls",
          "model_name": "HTMLModel",
          "state": {
            "_view_name": "HTMLView",
            "style": "IPY_MODEL_4014a7d982434cc996117ce6c96283c2",
            "_dom_classes": [],
            "description": "",
            "_model_name": "HTMLModel",
            "placeholder": "​",
            "_view_module": "@jupyter-widgets/controls",
            "_model_module_version": "1.5.0",
            "value": " 12/12 [09:53&lt;00:00, 49.43s/it]",
            "_view_count": null,
            "_view_module_version": "1.5.0",
            "description_tooltip": null,
            "_model_module": "@jupyter-widgets/controls",
            "layout": "IPY_MODEL_4ac0ff94616c424a8c3dd81372d8bd52"
          }
        },
        "35f4adcc82c14a7a8bdffab29a0c473c": {
          "model_module": "@jupyter-widgets/controls",
          "model_name": "ProgressStyleModel",
          "state": {
            "_view_name": "StyleView",
            "_model_name": "ProgressStyleModel",
            "description_width": "initial",
            "_view_module": "@jupyter-widgets/base",
            "_model_module_version": "1.5.0",
            "_view_count": null,
            "_view_module_version": "1.2.0",
            "bar_color": null,
            "_model_module": "@jupyter-widgets/controls"
          }
        },
        "97467f6a6e80478786f8a95cc4850a09": {
          "model_module": "@jupyter-widgets/base",
          "model_name": "LayoutModel",
          "state": {
            "_view_name": "LayoutView",
            "grid_template_rows": null,
            "right": null,
            "justify_content": null,
            "_view_module": "@jupyter-widgets/base",
            "overflow": null,
            "_model_module_version": "1.2.0",
            "_view_count": null,
            "flex_flow": null,
            "width": null,
            "min_width": null,
            "border": null,
            "align_items": null,
            "bottom": null,
            "_model_module": "@jupyter-widgets/base",
            "top": null,
            "grid_column": null,
            "overflow_y": null,
            "overflow_x": null,
            "grid_auto_flow": null,
            "grid_area": null,
            "grid_template_columns": null,
            "flex": null,
            "_model_name": "LayoutModel",
            "justify_items": null,
            "grid_row": null,
            "max_height": null,
            "align_content": null,
            "visibility": null,
            "align_self": null,
            "height": null,
            "min_height": null,
            "padding": null,
            "grid_auto_rows": null,
            "grid_gap": null,
            "max_width": null,
            "order": null,
            "_view_module_version": "1.2.0",
            "grid_template_areas": null,
            "object_position": null,
            "object_fit": null,
            "grid_auto_columns": null,
            "margin": null,
            "display": null,
            "left": null
          }
        },
        "4014a7d982434cc996117ce6c96283c2": {
          "model_module": "@jupyter-widgets/controls",
          "model_name": "DescriptionStyleModel",
          "state": {
            "_view_name": "StyleView",
            "_model_name": "DescriptionStyleModel",
            "description_width": "",
            "_view_module": "@jupyter-widgets/base",
            "_model_module_version": "1.5.0",
            "_view_count": null,
            "_view_module_version": "1.2.0",
            "_model_module": "@jupyter-widgets/controls"
          }
        },
        "4ac0ff94616c424a8c3dd81372d8bd52": {
          "model_module": "@jupyter-widgets/base",
          "model_name": "LayoutModel",
          "state": {
            "_view_name": "LayoutView",
            "grid_template_rows": null,
            "right": null,
            "justify_content": null,
            "_view_module": "@jupyter-widgets/base",
            "overflow": null,
            "_model_module_version": "1.2.0",
            "_view_count": null,
            "flex_flow": null,
            "width": null,
            "min_width": null,
            "border": null,
            "align_items": null,
            "bottom": null,
            "_model_module": "@jupyter-widgets/base",
            "top": null,
            "grid_column": null,
            "overflow_y": null,
            "overflow_x": null,
            "grid_auto_flow": null,
            "grid_area": null,
            "grid_template_columns": null,
            "flex": null,
            "_model_name": "LayoutModel",
            "justify_items": null,
            "grid_row": null,
            "max_height": null,
            "align_content": null,
            "visibility": null,
            "align_self": null,
            "height": null,
            "min_height": null,
            "padding": null,
            "grid_auto_rows": null,
            "grid_gap": null,
            "max_width": null,
            "order": null,
            "_view_module_version": "1.2.0",
            "grid_template_areas": null,
            "object_position": null,
            "object_fit": null,
            "grid_auto_columns": null,
            "margin": null,
            "display": null,
            "left": null
          }
        },
        "73baad2c1ea04112ac1045bd61550f34": {
          "model_module": "@jupyter-widgets/controls",
          "model_name": "HBoxModel",
          "state": {
            "_view_name": "HBoxView",
            "_dom_classes": [],
            "_model_name": "HBoxModel",
            "_view_module": "@jupyter-widgets/controls",
            "_model_module_version": "1.5.0",
            "_view_count": null,
            "_view_module_version": "1.5.0",
            "box_style": "",
            "layout": "IPY_MODEL_3482bb55eb7a479f93b6960700d24618",
            "_model_module": "@jupyter-widgets/controls",
            "children": [
              "IPY_MODEL_c1adaac94c824eb2b03e3ecb928e6aed",
              "IPY_MODEL_9a88fca61a1b4aa39c7c53d5a9cab1fd"
            ]
          }
        },
        "3482bb55eb7a479f93b6960700d24618": {
          "model_module": "@jupyter-widgets/base",
          "model_name": "LayoutModel",
          "state": {
            "_view_name": "LayoutView",
            "grid_template_rows": null,
            "right": null,
            "justify_content": null,
            "_view_module": "@jupyter-widgets/base",
            "overflow": null,
            "_model_module_version": "1.2.0",
            "_view_count": null,
            "flex_flow": null,
            "width": null,
            "min_width": null,
            "border": null,
            "align_items": null,
            "bottom": null,
            "_model_module": "@jupyter-widgets/base",
            "top": null,
            "grid_column": null,
            "overflow_y": null,
            "overflow_x": null,
            "grid_auto_flow": null,
            "grid_area": null,
            "grid_template_columns": null,
            "flex": null,
            "_model_name": "LayoutModel",
            "justify_items": null,
            "grid_row": null,
            "max_height": null,
            "align_content": null,
            "visibility": null,
            "align_self": null,
            "height": null,
            "min_height": null,
            "padding": null,
            "grid_auto_rows": null,
            "grid_gap": null,
            "max_width": null,
            "order": null,
            "_view_module_version": "1.2.0",
            "grid_template_areas": null,
            "object_position": null,
            "object_fit": null,
            "grid_auto_columns": null,
            "margin": null,
            "display": null,
            "left": null
          }
        },
        "c1adaac94c824eb2b03e3ecb928e6aed": {
          "model_module": "@jupyter-widgets/controls",
          "model_name": "FloatProgressModel",
          "state": {
            "_view_name": "ProgressView",
            "style": "IPY_MODEL_ca28ad080a9d46e1af4f81e6ab23eaa6",
            "_dom_classes": [],
            "description": "100%",
            "_model_name": "FloatProgressModel",
            "bar_style": "success",
            "max": 9,
            "_view_module": "@jupyter-widgets/controls",
            "_model_module_version": "1.5.0",
            "value": 9,
            "_view_count": null,
            "_view_module_version": "1.5.0",
            "orientation": "horizontal",
            "min": 0,
            "description_tooltip": null,
            "_model_module": "@jupyter-widgets/controls",
            "layout": "IPY_MODEL_1e7c1475fc7349608800b34fc7700824"
          }
        },
        "9a88fca61a1b4aa39c7c53d5a9cab1fd": {
          "model_module": "@jupyter-widgets/controls",
          "model_name": "HTMLModel",
          "state": {
            "_view_name": "HTMLView",
            "style": "IPY_MODEL_cf5e79fb29e642c787106f70a0ca25e4",
            "_dom_classes": [],
            "description": "",
            "_model_name": "HTMLModel",
            "placeholder": "​",
            "_view_module": "@jupyter-widgets/controls",
            "_model_module_version": "1.5.0",
            "value": " 9/9 [08:58&lt;00:00, 59.79s/it]",
            "_view_count": null,
            "_view_module_version": "1.5.0",
            "description_tooltip": null,
            "_model_module": "@jupyter-widgets/controls",
            "layout": "IPY_MODEL_7ac6b15cf6b346e0849e04f28ead518f"
          }
        },
        "ca28ad080a9d46e1af4f81e6ab23eaa6": {
          "model_module": "@jupyter-widgets/controls",
          "model_name": "ProgressStyleModel",
          "state": {
            "_view_name": "StyleView",
            "_model_name": "ProgressStyleModel",
            "description_width": "initial",
            "_view_module": "@jupyter-widgets/base",
            "_model_module_version": "1.5.0",
            "_view_count": null,
            "_view_module_version": "1.2.0",
            "bar_color": null,
            "_model_module": "@jupyter-widgets/controls"
          }
        },
        "1e7c1475fc7349608800b34fc7700824": {
          "model_module": "@jupyter-widgets/base",
          "model_name": "LayoutModel",
          "state": {
            "_view_name": "LayoutView",
            "grid_template_rows": null,
            "right": null,
            "justify_content": null,
            "_view_module": "@jupyter-widgets/base",
            "overflow": null,
            "_model_module_version": "1.2.0",
            "_view_count": null,
            "flex_flow": null,
            "width": null,
            "min_width": null,
            "border": null,
            "align_items": null,
            "bottom": null,
            "_model_module": "@jupyter-widgets/base",
            "top": null,
            "grid_column": null,
            "overflow_y": null,
            "overflow_x": null,
            "grid_auto_flow": null,
            "grid_area": null,
            "grid_template_columns": null,
            "flex": null,
            "_model_name": "LayoutModel",
            "justify_items": null,
            "grid_row": null,
            "max_height": null,
            "align_content": null,
            "visibility": null,
            "align_self": null,
            "height": null,
            "min_height": null,
            "padding": null,
            "grid_auto_rows": null,
            "grid_gap": null,
            "max_width": null,
            "order": null,
            "_view_module_version": "1.2.0",
            "grid_template_areas": null,
            "object_position": null,
            "object_fit": null,
            "grid_auto_columns": null,
            "margin": null,
            "display": null,
            "left": null
          }
        },
        "cf5e79fb29e642c787106f70a0ca25e4": {
          "model_module": "@jupyter-widgets/controls",
          "model_name": "DescriptionStyleModel",
          "state": {
            "_view_name": "StyleView",
            "_model_name": "DescriptionStyleModel",
            "description_width": "",
            "_view_module": "@jupyter-widgets/base",
            "_model_module_version": "1.5.0",
            "_view_count": null,
            "_view_module_version": "1.2.0",
            "_model_module": "@jupyter-widgets/controls"
          }
        },
        "7ac6b15cf6b346e0849e04f28ead518f": {
          "model_module": "@jupyter-widgets/base",
          "model_name": "LayoutModel",
          "state": {
            "_view_name": "LayoutView",
            "grid_template_rows": null,
            "right": null,
            "justify_content": null,
            "_view_module": "@jupyter-widgets/base",
            "overflow": null,
            "_model_module_version": "1.2.0",
            "_view_count": null,
            "flex_flow": null,
            "width": null,
            "min_width": null,
            "border": null,
            "align_items": null,
            "bottom": null,
            "_model_module": "@jupyter-widgets/base",
            "top": null,
            "grid_column": null,
            "overflow_y": null,
            "overflow_x": null,
            "grid_auto_flow": null,
            "grid_area": null,
            "grid_template_columns": null,
            "flex": null,
            "_model_name": "LayoutModel",
            "justify_items": null,
            "grid_row": null,
            "max_height": null,
            "align_content": null,
            "visibility": null,
            "align_self": null,
            "height": null,
            "min_height": null,
            "padding": null,
            "grid_auto_rows": null,
            "grid_gap": null,
            "max_width": null,
            "order": null,
            "_view_module_version": "1.2.0",
            "grid_template_areas": null,
            "object_position": null,
            "object_fit": null,
            "grid_auto_columns": null,
            "margin": null,
            "display": null,
            "left": null
          }
        },
        "caa8b5d95e0c4cc2b0d6b5f711369407": {
          "model_module": "@jupyter-widgets/controls",
          "model_name": "HBoxModel",
          "state": {
            "_view_name": "HBoxView",
            "_dom_classes": [],
            "_model_name": "HBoxModel",
            "_view_module": "@jupyter-widgets/controls",
            "_model_module_version": "1.5.0",
            "_view_count": null,
            "_view_module_version": "1.5.0",
            "box_style": "",
            "layout": "IPY_MODEL_ae6403aee040479cae41749a15e2232e",
            "_model_module": "@jupyter-widgets/controls",
            "children": [
              "IPY_MODEL_2527773db26e4792b1005ee1bbad9497",
              "IPY_MODEL_38ac960cae7349e0a2e39f32aa2ca000"
            ]
          }
        },
        "ae6403aee040479cae41749a15e2232e": {
          "model_module": "@jupyter-widgets/base",
          "model_name": "LayoutModel",
          "state": {
            "_view_name": "LayoutView",
            "grid_template_rows": null,
            "right": null,
            "justify_content": null,
            "_view_module": "@jupyter-widgets/base",
            "overflow": null,
            "_model_module_version": "1.2.0",
            "_view_count": null,
            "flex_flow": null,
            "width": null,
            "min_width": null,
            "border": null,
            "align_items": null,
            "bottom": null,
            "_model_module": "@jupyter-widgets/base",
            "top": null,
            "grid_column": null,
            "overflow_y": null,
            "overflow_x": null,
            "grid_auto_flow": null,
            "grid_area": null,
            "grid_template_columns": null,
            "flex": null,
            "_model_name": "LayoutModel",
            "justify_items": null,
            "grid_row": null,
            "max_height": null,
            "align_content": null,
            "visibility": null,
            "align_self": null,
            "height": null,
            "min_height": null,
            "padding": null,
            "grid_auto_rows": null,
            "grid_gap": null,
            "max_width": null,
            "order": null,
            "_view_module_version": "1.2.0",
            "grid_template_areas": null,
            "object_position": null,
            "object_fit": null,
            "grid_auto_columns": null,
            "margin": null,
            "display": null,
            "left": null
          }
        },
        "2527773db26e4792b1005ee1bbad9497": {
          "model_module": "@jupyter-widgets/controls",
          "model_name": "FloatProgressModel",
          "state": {
            "_view_name": "ProgressView",
            "style": "IPY_MODEL_80a5e9dd799348f5b260ffc585a95d16",
            "_dom_classes": [],
            "description": "100%",
            "_model_name": "FloatProgressModel",
            "bar_style": "success",
            "max": 100,
            "_view_module": "@jupyter-widgets/controls",
            "_model_module_version": "1.5.0",
            "value": 100,
            "_view_count": null,
            "_view_module_version": "1.5.0",
            "orientation": "horizontal",
            "min": 0,
            "description_tooltip": null,
            "_model_module": "@jupyter-widgets/controls",
            "layout": "IPY_MODEL_a91c98101ef6483c958a0554ec87fc79"
          }
        },
        "38ac960cae7349e0a2e39f32aa2ca000": {
          "model_module": "@jupyter-widgets/controls",
          "model_name": "HTMLModel",
          "state": {
            "_view_name": "HTMLView",
            "style": "IPY_MODEL_e3416a8cbbe640dcae383aeb82bc4901",
            "_dom_classes": [],
            "description": "",
            "_model_name": "HTMLModel",
            "placeholder": "​",
            "_view_module": "@jupyter-widgets/controls",
            "_model_module_version": "1.5.0",
            "value": " 100/100 [17:12&lt;00:00, 10.33s/it]",
            "_view_count": null,
            "_view_module_version": "1.5.0",
            "description_tooltip": null,
            "_model_module": "@jupyter-widgets/controls",
            "layout": "IPY_MODEL_ad92920dbd5c42c1a59c5ec53b5070f6"
          }
        },
        "80a5e9dd799348f5b260ffc585a95d16": {
          "model_module": "@jupyter-widgets/controls",
          "model_name": "ProgressStyleModel",
          "state": {
            "_view_name": "StyleView",
            "_model_name": "ProgressStyleModel",
            "description_width": "initial",
            "_view_module": "@jupyter-widgets/base",
            "_model_module_version": "1.5.0",
            "_view_count": null,
            "_view_module_version": "1.2.0",
            "bar_color": null,
            "_model_module": "@jupyter-widgets/controls"
          }
        },
        "a91c98101ef6483c958a0554ec87fc79": {
          "model_module": "@jupyter-widgets/base",
          "model_name": "LayoutModel",
          "state": {
            "_view_name": "LayoutView",
            "grid_template_rows": null,
            "right": null,
            "justify_content": null,
            "_view_module": "@jupyter-widgets/base",
            "overflow": null,
            "_model_module_version": "1.2.0",
            "_view_count": null,
            "flex_flow": null,
            "width": null,
            "min_width": null,
            "border": null,
            "align_items": null,
            "bottom": null,
            "_model_module": "@jupyter-widgets/base",
            "top": null,
            "grid_column": null,
            "overflow_y": null,
            "overflow_x": null,
            "grid_auto_flow": null,
            "grid_area": null,
            "grid_template_columns": null,
            "flex": null,
            "_model_name": "LayoutModel",
            "justify_items": null,
            "grid_row": null,
            "max_height": null,
            "align_content": null,
            "visibility": null,
            "align_self": null,
            "height": null,
            "min_height": null,
            "padding": null,
            "grid_auto_rows": null,
            "grid_gap": null,
            "max_width": null,
            "order": null,
            "_view_module_version": "1.2.0",
            "grid_template_areas": null,
            "object_position": null,
            "object_fit": null,
            "grid_auto_columns": null,
            "margin": null,
            "display": null,
            "left": null
          }
        },
        "e3416a8cbbe640dcae383aeb82bc4901": {
          "model_module": "@jupyter-widgets/controls",
          "model_name": "DescriptionStyleModel",
          "state": {
            "_view_name": "StyleView",
            "_model_name": "DescriptionStyleModel",
            "description_width": "",
            "_view_module": "@jupyter-widgets/base",
            "_model_module_version": "1.5.0",
            "_view_count": null,
            "_view_module_version": "1.2.0",
            "_model_module": "@jupyter-widgets/controls"
          }
        },
        "ad92920dbd5c42c1a59c5ec53b5070f6": {
          "model_module": "@jupyter-widgets/base",
          "model_name": "LayoutModel",
          "state": {
            "_view_name": "LayoutView",
            "grid_template_rows": null,
            "right": null,
            "justify_content": null,
            "_view_module": "@jupyter-widgets/base",
            "overflow": null,
            "_model_module_version": "1.2.0",
            "_view_count": null,
            "flex_flow": null,
            "width": null,
            "min_width": null,
            "border": null,
            "align_items": null,
            "bottom": null,
            "_model_module": "@jupyter-widgets/base",
            "top": null,
            "grid_column": null,
            "overflow_y": null,
            "overflow_x": null,
            "grid_auto_flow": null,
            "grid_area": null,
            "grid_template_columns": null,
            "flex": null,
            "_model_name": "LayoutModel",
            "justify_items": null,
            "grid_row": null,
            "max_height": null,
            "align_content": null,
            "visibility": null,
            "align_self": null,
            "height": null,
            "min_height": null,
            "padding": null,
            "grid_auto_rows": null,
            "grid_gap": null,
            "max_width": null,
            "order": null,
            "_view_module_version": "1.2.0",
            "grid_template_areas": null,
            "object_position": null,
            "object_fit": null,
            "grid_auto_columns": null,
            "margin": null,
            "display": null,
            "left": null
          }
        },
        "30273b7de4c9497d82b6c5d3e0b09096": {
          "model_module": "@jupyter-widgets/controls",
          "model_name": "HBoxModel",
          "state": {
            "_view_name": "HBoxView",
            "_dom_classes": [],
            "_model_name": "HBoxModel",
            "_view_module": "@jupyter-widgets/controls",
            "_model_module_version": "1.5.0",
            "_view_count": null,
            "_view_module_version": "1.5.0",
            "box_style": "",
            "layout": "IPY_MODEL_c134c365c56449a092eca952d328eb6c",
            "_model_module": "@jupyter-widgets/controls",
            "children": [
              "IPY_MODEL_df44b7e02d934817aaef02faf067898b",
              "IPY_MODEL_2205a90be5d74f269547aa58675e483f"
            ]
          }
        },
        "c134c365c56449a092eca952d328eb6c": {
          "model_module": "@jupyter-widgets/base",
          "model_name": "LayoutModel",
          "state": {
            "_view_name": "LayoutView",
            "grid_template_rows": null,
            "right": null,
            "justify_content": null,
            "_view_module": "@jupyter-widgets/base",
            "overflow": null,
            "_model_module_version": "1.2.0",
            "_view_count": null,
            "flex_flow": null,
            "width": null,
            "min_width": null,
            "border": null,
            "align_items": null,
            "bottom": null,
            "_model_module": "@jupyter-widgets/base",
            "top": null,
            "grid_column": null,
            "overflow_y": null,
            "overflow_x": null,
            "grid_auto_flow": null,
            "grid_area": null,
            "grid_template_columns": null,
            "flex": null,
            "_model_name": "LayoutModel",
            "justify_items": null,
            "grid_row": null,
            "max_height": null,
            "align_content": null,
            "visibility": null,
            "align_self": null,
            "height": null,
            "min_height": null,
            "padding": null,
            "grid_auto_rows": null,
            "grid_gap": null,
            "max_width": null,
            "order": null,
            "_view_module_version": "1.2.0",
            "grid_template_areas": null,
            "object_position": null,
            "object_fit": null,
            "grid_auto_columns": null,
            "margin": null,
            "display": null,
            "left": null
          }
        },
        "df44b7e02d934817aaef02faf067898b": {
          "model_module": "@jupyter-widgets/controls",
          "model_name": "FloatProgressModel",
          "state": {
            "_view_name": "ProgressView",
            "style": "IPY_MODEL_49a9fb3ef02540c9a902a61fe3c3143c",
            "_dom_classes": [],
            "description": "100%",
            "_model_name": "FloatProgressModel",
            "bar_style": "success",
            "max": 116,
            "_view_module": "@jupyter-widgets/controls",
            "_model_module_version": "1.5.0",
            "value": 116,
            "_view_count": null,
            "_view_module_version": "1.5.0",
            "orientation": "horizontal",
            "min": 0,
            "description_tooltip": null,
            "_model_module": "@jupyter-widgets/controls",
            "layout": "IPY_MODEL_a790875774c644af9cab3a8535f641fe"
          }
        },
        "2205a90be5d74f269547aa58675e483f": {
          "model_module": "@jupyter-widgets/controls",
          "model_name": "HTMLModel",
          "state": {
            "_view_name": "HTMLView",
            "style": "IPY_MODEL_288f1e74830b4606a1053548278b85e4",
            "_dom_classes": [],
            "description": "",
            "_model_name": "HTMLModel",
            "placeholder": "​",
            "_view_module": "@jupyter-widgets/controls",
            "_model_module_version": "1.5.0",
            "value": " 116/116 [00:27&lt;00:00,  4.21it/s]",
            "_view_count": null,
            "_view_module_version": "1.5.0",
            "description_tooltip": null,
            "_model_module": "@jupyter-widgets/controls",
            "layout": "IPY_MODEL_237bcde5ab87453a85521199908a8fd1"
          }
        },
        "49a9fb3ef02540c9a902a61fe3c3143c": {
          "model_module": "@jupyter-widgets/controls",
          "model_name": "ProgressStyleModel",
          "state": {
            "_view_name": "StyleView",
            "_model_name": "ProgressStyleModel",
            "description_width": "initial",
            "_view_module": "@jupyter-widgets/base",
            "_model_module_version": "1.5.0",
            "_view_count": null,
            "_view_module_version": "1.2.0",
            "bar_color": null,
            "_model_module": "@jupyter-widgets/controls"
          }
        },
        "a790875774c644af9cab3a8535f641fe": {
          "model_module": "@jupyter-widgets/base",
          "model_name": "LayoutModel",
          "state": {
            "_view_name": "LayoutView",
            "grid_template_rows": null,
            "right": null,
            "justify_content": null,
            "_view_module": "@jupyter-widgets/base",
            "overflow": null,
            "_model_module_version": "1.2.0",
            "_view_count": null,
            "flex_flow": null,
            "width": null,
            "min_width": null,
            "border": null,
            "align_items": null,
            "bottom": null,
            "_model_module": "@jupyter-widgets/base",
            "top": null,
            "grid_column": null,
            "overflow_y": null,
            "overflow_x": null,
            "grid_auto_flow": null,
            "grid_area": null,
            "grid_template_columns": null,
            "flex": null,
            "_model_name": "LayoutModel",
            "justify_items": null,
            "grid_row": null,
            "max_height": null,
            "align_content": null,
            "visibility": null,
            "align_self": null,
            "height": null,
            "min_height": null,
            "padding": null,
            "grid_auto_rows": null,
            "grid_gap": null,
            "max_width": null,
            "order": null,
            "_view_module_version": "1.2.0",
            "grid_template_areas": null,
            "object_position": null,
            "object_fit": null,
            "grid_auto_columns": null,
            "margin": null,
            "display": null,
            "left": null
          }
        },
        "288f1e74830b4606a1053548278b85e4": {
          "model_module": "@jupyter-widgets/controls",
          "model_name": "DescriptionStyleModel",
          "state": {
            "_view_name": "StyleView",
            "_model_name": "DescriptionStyleModel",
            "description_width": "",
            "_view_module": "@jupyter-widgets/base",
            "_model_module_version": "1.5.0",
            "_view_count": null,
            "_view_module_version": "1.2.0",
            "_model_module": "@jupyter-widgets/controls"
          }
        },
        "237bcde5ab87453a85521199908a8fd1": {
          "model_module": "@jupyter-widgets/base",
          "model_name": "LayoutModel",
          "state": {
            "_view_name": "LayoutView",
            "grid_template_rows": null,
            "right": null,
            "justify_content": null,
            "_view_module": "@jupyter-widgets/base",
            "overflow": null,
            "_model_module_version": "1.2.0",
            "_view_count": null,
            "flex_flow": null,
            "width": null,
            "min_width": null,
            "border": null,
            "align_items": null,
            "bottom": null,
            "_model_module": "@jupyter-widgets/base",
            "top": null,
            "grid_column": null,
            "overflow_y": null,
            "overflow_x": null,
            "grid_auto_flow": null,
            "grid_area": null,
            "grid_template_columns": null,
            "flex": null,
            "_model_name": "LayoutModel",
            "justify_items": null,
            "grid_row": null,
            "max_height": null,
            "align_content": null,
            "visibility": null,
            "align_self": null,
            "height": null,
            "min_height": null,
            "padding": null,
            "grid_auto_rows": null,
            "grid_gap": null,
            "max_width": null,
            "order": null,
            "_view_module_version": "1.2.0",
            "grid_template_areas": null,
            "object_position": null,
            "object_fit": null,
            "grid_auto_columns": null,
            "margin": null,
            "display": null,
            "left": null
          }
        }
      }
    }
  },
  "cells": [
    {
      "cell_type": "markdown",
      "metadata": {
        "id": "QSXSlTdb8NHq"
      },
      "source": [
        "# Welcome to EUROPYTHON 2021!\n",
        "\n",
        "![](https://raw.githubusercontent.com/mauropelucchi/europython2021/main/img/ep2021-logo-1024px-alpha.png)"
      ]
    },
    {
      "cell_type": "markdown",
      "metadata": {
        "id": "VYfg3I_fSt6e"
      },
      "source": [
        "\n",
        "\n",
        "# WebScraping with Selenium\n",
        "\n",
        "This notebook shows how use selenium to scrape data from Indiegogo.com\n",
        "The scope is only to understand the capabilities of web scraping and prepare a dataset for academic purporse.\n",
        "\n",
        "Let’s begin writing our scraper!\n",
        "\n",
        "We will first install important modules and packages for our Notebook\n",
        "\n",
        "\n",
        "*   Selenium\n",
        "*   Chromium-chromedriver\n",
        "\n",
        "[![Open In Colab](https://colab.research.google.com/assets/colab-badge.svg)](https://raw.githubusercontent.com/mauropelucchi/europython2021/main/notebook/EUROPYTHON_2021_Web_Scraping_with_Selenium.ipynb)\n"
      ]
    },
    {
      "cell_type": "code",
      "metadata": {
        "id": "6E11q1711nmO",
        "colab": {
          "base_uri": "https://localhost:8080/"
        },
        "outputId": "9dc910b7-5bbc-4243-cd95-c1722726b597"
      },
      "source": [
        "!pip install selenium\n",
        "!apt-get update\n",
        "!apt install chromium-chromedriver\n",
        "!cp /usr/lib/chromium-browser/chromedriver /usr/bin"
      ],
      "execution_count": 1,
      "outputs": [
        {
          "output_type": "stream",
          "text": [
            "Selecting previously unselected package chromium-browser-l10n.\n",
            "Preparing to unpack .../chromium-browser-l10n_91.0.4472.101-0ubuntu0.18.04.1_all.deb ...\n",
            "Unpacking chromium-browser-l10n (91.0.4472.101-0ubuntu0.18.04.1) ...\n",
            "Selecting previously unselected package chromium-chromedriver.\n",
            "Preparing to unpack .../chromium-chromedriver_91.0.4472.101-0ubuntu0.18.04.1_amd64.deb ...\n",
            "Unpacking chromium-chromedriver (91.0.4472.101-0ubuntu0.18.04.1) ...\n",
            "Setting up chromium-codecs-ffmpeg-extra (91.0.4472.101-0ubuntu0.18.04.1) ...\n",
            "Setting up chromium-browser (91.0.4472.101-0ubuntu0.18.04.1) ...\n",
            "update-alternatives: using /usr/bin/chromium-browser to provide /usr/bin/x-www-browser (x-www-browser) in auto mode\n",
            "update-alternatives: using /usr/bin/chromium-browser to provide /usr/bin/gnome-www-browser (gnome-www-browser) in auto mode\n",
            "Setting up chromium-chromedriver (91.0.4472.101-0ubuntu0.18.04.1) ...\n",
            "Setting up chromium-browser-l10n (91.0.4472.101-0ubuntu0.18.04.1) ...\n",
            "Processing triggers for man-db (2.8.3-2ubuntu0.1) ...\n",
            "Processing triggers for hicolor-icon-theme (0.17-2) ...\n",
            "Processing triggers for mime-support (3.60ubuntu1) ...\n",
            "Processing triggers for libc-bin (2.27-3ubuntu1.2) ...\n",
            "/sbin/ldconfig.real: /usr/local/lib/python3.7/dist-packages/ideep4py/lib/libmkldnn.so.0 is not a symbolic link\n",
            "\n",
            "cp: '/usr/lib/chromium-browser/chromedriver' and '/usr/bin/chromedriver' are the same file\n"
          ],
          "name": "stdout"
        }
      ]
    },
    {
      "cell_type": "markdown",
      "metadata": {
        "id": "kuhZcDh4UHYp"
      },
      "source": [
        "And now we will import some modules on our Notebook\n",
        "\n",
        "\n",
        "1.   sys: to setup the path of chrome driver\n",
        "2.   **selenium**: to emulate the user behaviour\n",
        "3.   **pandas**: to work with data\n",
        "4.   tqdm: to show a progress bar in our notebook\n",
        "5.   json: to work with json format\n",
        "\n",
        "\n",
        "\n"
      ]
    },
    {
      "cell_type": "code",
      "metadata": {
        "id": "YRt5yEXxA-jW"
      },
      "source": [
        "import sys\n",
        "import logging\n",
        "from selenium.webdriver.remote.remote_connection import LOGGER\n",
        "LOGGER.setLevel(logging.WARNING)\n",
        "sys.path.insert(0,'/usr/lib/chromium-browser/chromedriver')\n",
        "from selenium import webdriver\n",
        "from tqdm.notebook import tqdm\n",
        "import pandas\n",
        "import json\n",
        "import pprint"
      ],
      "execution_count": 10,
      "outputs": []
    },
    {
      "cell_type": "markdown",
      "metadata": {
        "id": "mpgIW1_I7BiP"
      },
      "source": [
        "Note: if you want to run your scraper locally please:\n",
        "1. Download ChromeDriver [https://chromedriver.chromium.org/downloads](https://chromedriver.chromium.org/downloads)\n",
        "2. Import these libs\n",
        "\n",
        "```\n",
        "import sys\n",
        "import logging\n",
        "from selenium.webdriver.remote.remote_connection import LOGGER\n",
        "LOGGER.setLevel(logging.WARNING)\n",
        "from selenium import webdriver\n",
        "from tqdm import tqdm_notebook as tqdm\n",
        "import pandas\n",
        "import json\n",
        "import pprint\n",
        "```\n",
        "3. Create your ChromeDriver\n",
        "```\n",
        "wd = webdriver.Chrome('<path where you stored chromedriver>/chromedriver',chrome_options=chrome_options)\n",
        "```"
      ]
    },
    {
      "cell_type": "markdown",
      "metadata": {
        "id": "ksyefP35VQc2"
      },
      "source": [
        "First we need to set the options for the ghost browser.\n",
        "\n",
        "The most important is `--headless` because we are in a \"cloud\" ntotebook on Google Colab.\n",
        "\n",
        "In our local notebook we can remove the `--headless` option.  \n"
      ]
    },
    {
      "cell_type": "code",
      "metadata": {
        "id": "DTfvdy_gBCBU"
      },
      "source": [
        "chrome_options = webdriver.ChromeOptions()\n",
        "chrome_options.add_argument('--headless')\n",
        "chrome_options.add_argument('--no-sandbox')\n",
        "chrome_options.add_argument('--disable-dev-shm-usage')\n",
        "chrome_options.add_argument(\"user-agent=Mozilla/5.0 (Macintosh; Intel Mac OS X 10_15_7) AppleWebKit/537.36 (KHTML, like Gecko) Chrome/90.0.4430.212 Safari/537.36\")"
      ],
      "execution_count": 3,
      "outputs": []
    },
    {
      "cell_type": "markdown",
      "metadata": {
        "id": "0DpumOn7VoFw"
      },
      "source": [
        "`webdriver` is the most importa object in Selenium.\n",
        "With `webdriver` we can start the phantom browser, emulate the user navigation and scrape our data. \n",
        "\n",
        "Let’s now create a new instance of google chrome.\n",
        "\n",
        "\n",
        "We will navitage to page by a `get` request. With http we can do a get or a post (or others but they are not important for us): https://www.w3schools.com/tags/ref_httpmethods.asp \n",
        "\n",
        "\n",
        "\n",
        "```\n",
        "wd.get(\"https://www.indiegogo.com/explore/all?project_type=campaign&project_timing=all&sort=trending\")\n",
        "```\n",
        "\n"
      ]
    },
    {
      "cell_type": "markdown",
      "metadata": {
        "id": "lgTKWzXh8p1v"
      },
      "source": [
        "What does **user agent** mean??\n",
        "[https://en.wikipedia.org/wiki/User_agent](https://en.wikipedia.org/wiki/User_agent) and [https://www.w3.org/WAI/UA/work/wiki/Definition_of_User_Agent](https://www.w3.org/WAI/UA/work/wiki/Definition_of_User_Agent)\n",
        "\n",
        "\n",
        "> A user agent is any software that retrieves and presents Web content for end users or is implemented using Web technologies. User agents include Web browsers, media players, and plug-ins that help in retrieving, rendering and interacting with Web content.\n",
        "\n",
        "In our case we are using the mark of \"Mozilla/5.0....\" to emulate a Chrome Browser.\n",
        "\n",
        "You can find a valid user agent signature here:\n",
        "[https://developers.whatismybrowser.com/useragents/explore/](https://developers.whatismybrowser.com/useragents/explore/)\n",
        "\n",
        "In some case is better to user a specific user agent to infor the scraped web site:\n",
        "> I am a bot, and I am scraping you\n",
        "\n"
      ]
    },
    {
      "cell_type": "markdown",
      "metadata": {
        "id": "YUp_U6IY2Rgu"
      },
      "source": [
        "## First connection"
      ]
    },
    {
      "cell_type": "code",
      "metadata": {
        "colab": {
          "base_uri": "https://localhost:8080/"
        },
        "id": "ON4OHPZm1yTf",
        "outputId": "fd704b15-f454-4e4a-fa42-b85d9efb9275"
      },
      "source": [
        "wd = webdriver.Chrome('chromedriver',chrome_options=chrome_options)"
      ],
      "execution_count": 4,
      "outputs": [
        {
          "output_type": "stream",
          "text": [
            "/usr/local/lib/python3.7/dist-packages/ipykernel_launcher.py:1: DeprecationWarning: use options instead of chrome_options\n",
            "  \"\"\"Entry point for launching an IPython kernel.\n"
          ],
          "name": "stderr"
        }
      ]
    },
    {
      "cell_type": "code",
      "metadata": {
        "id": "Y9Gviq-mn5Sg"
      },
      "source": [
        "wd.get(\"https://www.indiegogo.com/explore/all?project_type=campaign&project_timing=all&sort=trending\")"
      ],
      "execution_count": 5,
      "outputs": []
    },
    {
      "cell_type": "markdown",
      "metadata": {
        "id": "p3Sbfud-WbV-"
      },
      "source": [
        "Take a look to the screenshot from our phantom browser.\n",
        "\n",
        "Note:\n",
        "- la language and the locale: It is en_US but we are coming from different locale\n",
        "- the screen ratio: is it the same of our notebook?"
      ]
    },
    {
      "cell_type": "code",
      "metadata": {
        "id": "iBCZSC4dWfKW",
        "colab": {
          "base_uri": "https://localhost:8080/",
          "height": 287
        },
        "outputId": "7027196f-f50f-43bf-9a68-2eb9bb5baa84"
      },
      "source": [
        "wd.save_screenshot('screenshot.png')\n",
        "\n",
        "%pylab inline\n",
        "import matplotlib.pyplot as plt\n",
        "import matplotlib.image as mpimg\n",
        "img=mpimg.imread('/content/screenshot.png')\n",
        "imgplot = plt.imshow(img)\n",
        "plt.show()"
      ],
      "execution_count": 6,
      "outputs": [
        {
          "output_type": "stream",
          "text": [
            "Populating the interactive namespace from numpy and matplotlib\n"
          ],
          "name": "stdout"
        },
        {
          "output_type": "display_data",
          "data": {
            "image/png": "[encoded data removed]",
            "text/plain": [
              "<Figure size 432x288 with 1 Axes>"
            ]
          },
          "metadata": {
            "tags": [],
            "needs_background": "light"
          }
        }
      ]
    },
    {
      "cell_type": "markdown",
      "metadata": {
        "id": "kRr2IAQsa1s_"
      },
      "source": [
        "Let's try to extract some information from the page\n",
        "\n",
        "\n",
        "\n",
        "`title` contains the title of our page.\n",
        "\n",
        "\n"
      ]
    },
    {
      "cell_type": "code",
      "metadata": {
        "id": "X033nUzra6uq",
        "colab": {
          "base_uri": "https://localhost:8080/"
        },
        "outputId": "7eba0ddd-bff8-4c90-ac36-6265dc7ba214"
      },
      "source": [
        "print(wd.title)"
      ],
      "execution_count": 7,
      "outputs": [
        {
          "output_type": "stream",
          "text": [
            "Explore Crowdfunding Campaigns & Unique Products | Indiegogo\n"
          ],
          "name": "stdout"
        }
      ]
    },
    {
      "cell_type": "markdown",
      "metadata": {
        "id": "C2FL7PA0jXdP"
      },
      "source": [
        "### First exercise with *Selenium*\n",
        "\n",
        "Try it yourself... Print the contents of the page on the screen!\n",
        "\n",
        "Complete the code and annotate the different behaviour.\n",
        "\n",
        "Try to use the attributes/methods applied to `wd`\n",
        "\n",
        "- `page_source`\n",
        "- `find_element_by_tag_name(\"body\")`\n",
        "- `find_element_by_tag_name(\"body\").text`\n",
        "\n",
        "\n"
      ]
    },
    {
      "cell_type": "code",
      "metadata": {
        "id": "wkPbJsAPj19o"
      },
      "source": [
        "print(....)"
      ],
      "execution_count": null,
      "outputs": []
    },
    {
      "cell_type": "markdown",
      "metadata": {
        "id": "zK7Cf_mradiL"
      },
      "source": [
        "### How do we extract the values inside a page with CSS Selector?\n",
        "\n",
        "Selenium has a method called `find_elements_by_css_selector`.\n",
        "\n",
        "We will pass our CSS Selector into this method and get a list of selenium elements.\n",
        "\n",
        "Once we have the element, we can extract the text inside it using the `text` function."
      ]
    },
    {
      "cell_type": "code",
      "metadata": {
        "id": "WFuRVKIdbWN3",
        "colab": {
          "base_uri": "https://localhost:8080/"
        },
        "outputId": "3d788486-2eb1-46e2-bab9-293288d360a2"
      },
      "source": [
        "list_titles = wd.find_elements_by_css_selector(\"div.discoverableCard-title\")\n",
        "print(len(list_titles))"
      ],
      "execution_count": 11,
      "outputs": [
        {
          "output_type": "stream",
          "text": [
            "12\n"
          ],
          "name": "stdout"
        }
      ]
    },
    {
      "cell_type": "code",
      "metadata": {
        "id": "cRPP5xUrbwcE",
        "colab": {
          "base_uri": "https://localhost:8080/"
        },
        "outputId": "997afec0-d6c4-4905-87dd-28ff5e98041f"
      },
      "source": [
        "print(list_titles[0].text)\n",
        "print(list_titles[1].text)"
      ],
      "execution_count": 12,
      "outputs": [
        {
          "output_type": "stream",
          "text": [
            "SHI: OMNIBUS EDITION VOL. 1 INDIEGOGO EXCLUSIVE!\n",
            "Flash Pro: World's Fastest Powerbank Redesigned\n"
          ],
          "name": "stdout"
        }
      ]
    },
    {
      "cell_type": "markdown",
      "metadata": {
        "id": "bAtLMeKVb8Wp"
      },
      "source": [
        "### Exercise on *find_elements_by_css_selector*\n",
        "\n",
        "Try to export the list of `div.discoverableCard-description` elements and show the content of the first element.\n",
        "\n",
        "\n",
        "**Scope: get the description of the projects**\n",
        "\n",
        "\n"
      ]
    },
    {
      "cell_type": "code",
      "metadata": {
        "id": "6_4-y31fcEYq"
      },
      "source": [
        "list_description = wd......(\"...\")\n",
        "print(len(list_description))"
      ],
      "execution_count": null,
      "outputs": []
    },
    {
      "cell_type": "markdown",
      "metadata": {
        "id": "A1ETBqlPcQhl"
      },
      "source": [
        "# Project List from Indiegogo\n",
        "\n",
        "Let's begin to download the list of projects.\n",
        "\n",
        "The list of projects is defined by the css selection rule\n",
        "`discoverable-card`\n",
        "\n",
        "\n",
        "\n",
        "![](https://raw.githubusercontent.com/mauropelucchi/europython2021/main/img/indiegogo_1.png)\n",
        "\n"
      ]
    },
    {
      "cell_type": "code",
      "metadata": {
        "id": "_V1hNO9ZcJy6",
        "colab": {
          "base_uri": "https://localhost:8080/"
        },
        "outputId": "3982e4b9-0d82-43b1-dc7e-b1f3bc9b2e53"
      },
      "source": [
        "list_projects = wd.find_elements_by_css_selector(\"discoverable-card\")\n",
        "print(len(list_projects))"
      ],
      "execution_count": 13,
      "outputs": [
        {
          "output_type": "stream",
          "text": [
            "12\n"
          ],
          "name": "stdout"
        }
      ]
    },
    {
      "cell_type": "markdown",
      "metadata": {
        "id": "k_fSFWX0cktI"
      },
      "source": [
        "Gread! We find 12 project!\n",
        "\n",
        "Now, we will extract the attribute from each single element.\n",
        "The scope is to create one dict for each project in the list with the attribute:\n",
        "\n",
        "\n",
        "1.   url\n",
        "2.   title\n",
        "3.   description\n",
        "4.   category\n",
        "5.   progress\n",
        "\n"
      ]
    },
    {
      "cell_type": "code",
      "metadata": {
        "id": "1J2xAL6qcj9-"
      },
      "source": [
        "import pprint\n",
        "detail_projects = []\n",
        "for project in list_projects:\n",
        "    url = project.find_elements_by_css_selector(\"a\")[0].get_attribute(\"href\")\n",
        "    title = \"\"\n",
        "    description = \"\"\n",
        "    category = \"\"\n",
        "    project_id = \"\"\n",
        "    balance = \"\"\n",
        "    currency = \"\"\n",
        "    image = \"\"\n",
        "    progress = \"\"\n",
        "    if(len(project.find_elements_by_css_selector(\".discoverableCard-title\")) > 0):\n",
        "      title = project.find_elements_by_css_selector(\".discoverableCard-title\")[0].text\n",
        "    if(len(project.find_elements_by_css_selector(\".discoverableCard-description\")) > 0):\n",
        "      description = project.find_elements_by_css_selector(\".discoverableCard-description\")[0].text\n",
        "    if(len(project.find_elements_by_css_selector(\".discoverableCard-category\")) > 0):\n",
        "      category = project.find_elements_by_css_selector(\".discoverableCard-category\")[0].text\n",
        "    if(len(project.find_elements_by_css_selector(\".discoverableCard-balance\")) > 0):\n",
        "      balance = project.find_elements_by_css_selector(\".discoverableCard-balance\")[0].text\n",
        "    if(len(project.find_elements_by_css_selector(\".discoverableCard-percent\")) > 0):\n",
        "      progress = project.find_elements_by_css_selector(\".discoverableCard-percent\")[0].text\n",
        "    if(len(project.find_elements_by_css_selector(\".discoverableCard-unitsRaised\")) > 0):\n",
        "      currency = project.find_elements_by_css_selector(\".discoverableCard-unitsRaised\")[0].text\n",
        "    project_id = url\n",
        "    if(len(project.find_elements_by_css_selector(\".discoverableCard-image\")) > 0):\n",
        "      image = project.find_elements_by_css_selector(\".discoverableCard-image\")[0].get_attribute(\"data-bgset\")\n",
        "\n",
        "    detail_projects.append({'url': url,\n",
        "                            'image': image,\n",
        "                            'title': title,\n",
        "                            'description': description,\n",
        "                            'category': category,\n",
        "                            'balance': balance,\n",
        "                            'currency': currency,\n",
        "                            'progress': progress,\n",
        "                            'project_id': project_id})\n"
      ],
      "execution_count": 14,
      "outputs": []
    },
    {
      "cell_type": "code",
      "metadata": {
        "colab": {
          "base_uri": "https://localhost:8080/"
        },
        "id": "WVTmAfvZ_r-P",
        "outputId": "b5314d30-29c8-4381-ebfb-1853e5c942bd"
      },
      "source": [
        "len(detail_projects)\n",
        "pprint.pprint(detail_projects[0:2])"
      ],
      "execution_count": 15,
      "outputs": [
        {
          "output_type": "stream",
          "text": [
            "[{'balance': '$75,478 ',\n",
            "  'category': 'COMICS',\n",
            "  'currency': 'USD raised',\n",
            "  'description': \"Billy's Tucci's classic is collected in this Premiere \"\n",
            "                 '488-pg. Full-Color, Hardcover Omnibus Edition!',\n",
            "  'image': 'https://c1.iggcdn.com/indiegogo-media-prod-cld/image/upload/c_fill,f_auto,h_273,w_273/in2btesxih7lwi3z95uv.jpg',\n",
            "  'progress': '755%',\n",
            "  'project_id': 'https://www.indiegogo.com/projects/shi-omnibus-edition-vol-1-indiegogo-exclusive/pica',\n",
            "  'title': 'SHI: OMNIBUS EDITION VOL. 1 INDIEGOGO EXCLUSIVE!',\n",
            "  'url': 'https://www.indiegogo.com/projects/shi-omnibus-edition-vol-1-indiegogo-exclusive/pica'},\n",
            " {'balance': '$154,338 ',\n",
            "  'category': 'PHONES & ACCESSORIES',\n",
            "  'currency': 'USD raised',\n",
            "  'description': '25000mAh/92.5Wh | OLED Screen | 3 USB-C Ports | Magsafe + '\n",
            "                 'Apple Watch | 6 Ports | 190W Total Output',\n",
            "  'image': 'https://c1.iggcdn.com/indiegogo-media-prod-cld/image/upload/c_fill,f_auto,h_273,w_273/u6esnbwpkhucun6dlqut.jpg',\n",
            "  'progress': '1,543%',\n",
            "  'project_id': 'https://www.indiegogo.com/projects/flash-pro-world-s-fastest-powerbank-redesigned/pica',\n",
            "  'title': \"Flash Pro: World's Fastest Powerbank Redesigned\",\n",
            "  'url': 'https://www.indiegogo.com/projects/flash-pro-world-s-fastest-powerbank-redesigned/pica'}]\n"
          ],
          "name": "stdout"
        }
      ]
    },
    {
      "cell_type": "markdown",
      "metadata": {
        "id": "9Sn0txryfR4c"
      },
      "source": [
        "Now let's try downloading all the ads on the front page...\n",
        "and then move on to the second page...\n",
        "\n",
        "First we define a `parse_project` function to make the code cleaner and to reuse the function."
      ]
    },
    {
      "cell_type": "code",
      "metadata": {
        "id": "tD3KLUrIfTJd"
      },
      "source": [
        "def parse_project(project):\n",
        "  url = project.find_elements_by_css_selector(\"a\")[0].get_attribute(\"href\")\n",
        "  title = \"\"\n",
        "  description = \"\"\n",
        "  category = \"\"\n",
        "  project_id = \"\"\n",
        "  balance = \"\"\n",
        "  currency = \"\"\n",
        "  progress = \"\"\n",
        "  image = \"\"\n",
        "  try:\n",
        "    if(len(project.find_elements_by_css_selector(\".discoverableCard-title\")) > 0):\n",
        "      title = project.find_elements_by_css_selector(\".discoverableCard-title\")[0].text\n",
        "    if(len(project.find_elements_by_css_selector(\".discoverableCard-description\")) > 0):\n",
        "      description = project.find_elements_by_css_selector(\".discoverableCard-description\")[0].text\n",
        "    if(len(project.find_elements_by_css_selector(\".discoverableCard-category\")) > 0):\n",
        "      category = project.find_elements_by_css_selector(\".discoverableCard-category\")[0].text\n",
        "    if(len(project.find_elements_by_css_selector(\".discoverableCard-balance\")) > 0):\n",
        "      balance = project.find_elements_by_css_selector(\".discoverableCard-balance\")[0].text\n",
        "    if(len(project.find_elements_by_css_selector(\".discoverableCard-percent\")) > 0):\n",
        "      progress = project.find_elements_by_css_selector(\".discoverableCard-percent\")[0].text\n",
        "    if(len(project.find_elements_by_css_selector(\".discoverableCard-unitsRaised\")) > 0):\n",
        "      currency = project.find_elements_by_css_selector(\".discoverableCard-unitsRaised\")[0].text\n",
        "    if(len(project.find_elements_by_css_selector(\".discoverableCard-image\")) > 0):\n",
        "      image = project.find_elements_by_css_selector(\".discoverableCard-image\")[0].get_attribute(\"data-bgset\")\n",
        "    project_id = url\n",
        "  except:\n",
        "    pass\n",
        "  return {'url': url,\n",
        "          'title': title,\n",
        "          'image': image,\n",
        "          'description': description,\n",
        "          'category': category,\n",
        "          'balance': balance,\n",
        "          'currency': currency,\n",
        "          'progress': progress,\n",
        "          'project_id': project_id}\n"
      ],
      "execution_count": 16,
      "outputs": []
    },
    {
      "cell_type": "markdown",
      "metadata": {
        "id": "SR-xG0FIgf7u"
      },
      "source": [
        "Here's how to download the first page of projects..."
      ]
    },
    {
      "cell_type": "code",
      "metadata": {
        "id": "TfWSS_33fbZg",
        "colab": {
          "base_uri": "https://localhost:8080/",
          "height": 84,
          "referenced_widgets": [
            "2fcf734ee54c49dbb03ff27150bfafd8",
            "eaa076f05a52450999cdf2250bfb728c",
            "358261e375ef48198f86b7cd4c38a9ab",
            "e804fea0c857484cac3160f6e9a6c25a",
            "35f4adcc82c14a7a8bdffab29a0c473c",
            "97467f6a6e80478786f8a95cc4850a09",
            "4014a7d982434cc996117ce6c96283c2",
            "4ac0ff94616c424a8c3dd81372d8bd52"
          ]
        },
        "outputId": "4dc9b922-8bee-49f6-d2c3-270d933c5acb"
      },
      "source": [
        "detail_projects = []\n",
        "wd.get(\"https://www.indiegogo.com/explore/all?project_type=campaign&project_timing=all&sort=trending\")\n",
        "wd.save_screenshot(f'screenshot.png')\n",
        "list_projects = wd.find_elements_by_css_selector(\"discoverable-card\")\n",
        "for project in tqdm(list_projects):\n",
        "  detail_projects.append(parse_project(project))\n",
        "\n",
        "print(len(detail_projects))"
      ],
      "execution_count": 17,
      "outputs": [
        {
          "output_type": "display_data",
          "data": {
            "application/vnd.jupyter.widget-view+json": {
              "model_id": "2fcf734ee54c49dbb03ff27150bfafd8",
              "version_minor": 0,
              "version_major": 2
            },
            "text/plain": [
              "HBox(children=(FloatProgress(value=0.0, max=12.0), HTML(value='')))"
            ]
          },
          "metadata": {
            "tags": []
          }
        },
        {
          "output_type": "stream",
          "text": [
            "\n",
            "12\n"
          ],
          "name": "stdout"
        }
      ]
    },
    {
      "cell_type": "markdown",
      "metadata": {
        "id": "HbjVFLOOgnNx"
      },
      "source": [
        "Have you seen the **tqdm**!\n",
        "\n",
        "Find at this link all the documentation **https://github.com/tqdm/tqdm**:\n",
        "is very useful to make our notebook more nice..."
      ]
    },
    {
      "cell_type": "markdown",
      "metadata": {
        "id": "S9MsWLutg4Oi"
      },
      "source": [
        "### How to end scraping?\n",
        "Problem: When do we stop?\n",
        "\n",
        "There are several ways. Some simpler and some more advanced:\n",
        "- We can search inside the page for the ad number and divide it by 12\n",
        "- We can check the status of the request (if (status_code == 200):... for a list of possible http status codes please check https://en.wikipedia.org/wiki/List_of_HTTP_status_codes)\n",
        "- We can check the number of ads found (if > 0...)\n",
        "- Other more advanced techniques...\n",
        "\n",
        "For example, in our case, let's go to verify the presence, or not, of the *Snow more* button inside the page. If present, we continue scraping, otherwise we stop.\n",
        "\n",
        "Actually, we can also combine more than one of these techniques.\n",
        "\n"
      ]
    },
    {
      "cell_type": "markdown",
      "metadata": {
        "id": "U3LDzUWY_8ED"
      },
      "source": [
        "The cookie law form...\n",
        "\n",
        "Can we click the button? Of course... it's better to click and hide the form to avoid issue during the scraping: remember we have to emulate the user navitagion\n",
        "\n",
        "\n",
        "```\n",
        "if (len(wd.find_elements_by_id(\"CybotCookiebotDialogBodyButtonAccept\")) > 0):\n",
        "  print(\"Click cookie law button\")\n",
        "  wd.find_elements_by_id(\"CybotCookiebotDialogBodyButtonAccept\")[0].click()\n",
        "```\n",
        "The \n",
        "\n",
        "```\n",
        ".click()\n",
        "```\n",
        "method emulates the user click on a button, a area, an image, ...\n",
        "\n"
      ]
    },
    {
      "cell_type": "code",
      "metadata": {
        "id": "nkofmsCGgwQA",
        "colab": {
          "base_uri": "https://localhost:8080/",
          "height": 84,
          "referenced_widgets": [
            "73baad2c1ea04112ac1045bd61550f34",
            "3482bb55eb7a479f93b6960700d24618",
            "c1adaac94c824eb2b03e3ecb928e6aed",
            "9a88fca61a1b4aa39c7c53d5a9cab1fd",
            "ca28ad080a9d46e1af4f81e6ab23eaa6",
            "1e7c1475fc7349608800b34fc7700824",
            "cf5e79fb29e642c787106f70a0ca25e4",
            "7ac6b15cf6b346e0849e04f28ead518f"
          ]
        },
        "outputId": "5c0f865b-0902-468a-e92b-729f75c1bbc0"
      },
      "source": [
        "import time\n",
        "detail_projects = []\n",
        "wd.get(\"https://www.indiegogo.com/explore/all?project_type=campaign&project_timing=all&sort=trending\")\n",
        "time.sleep(5)\n",
        "wd.save_screenshot(\"check_browser.png\")\n",
        "\n",
        "if (len(wd.find_elements_by_id(\"CybotCookiebotDialogBodyButtonAccept\")) > 0):\n",
        "  print(\"Click cookie law button\")\n",
        "  wd.find_elements_by_id(\"CybotCookiebotDialogBodyButtonAccept\")[0].click()\n",
        "\n",
        "for num in tqdm(range(1,10)):\n",
        "  items = (num - 1) * 12\n",
        "  list_projects = wd.find_elements_by_css_selector(f\"discoverable-card:nth-child(n+{items})\")\n",
        "  for project in list_projects:\n",
        "    detail_projects.append(parse_project(project))\n",
        "  if (len(wd.find_elements_by_css_selector(\".i-cta-1\")) > 0):\n",
        "    wd.find_element_by_css_selector(\".i-cta-1\").click()\n",
        "    time.sleep(3)\n",
        "    wd.save_screenshot(\"check_browser.png\")\n",
        "  else:\n",
        "    break\n",
        "\n"
      ],
      "execution_count": 18,
      "outputs": [
        {
          "output_type": "stream",
          "text": [
            "Click cookie law button\n"
          ],
          "name": "stdout"
        },
        {
          "output_type": "display_data",
          "data": {
            "application/vnd.jupyter.widget-view+json": {
              "model_id": "73baad2c1ea04112ac1045bd61550f34",
              "version_minor": 0,
              "version_major": 2
            },
            "text/plain": [
              "HBox(children=(FloatProgress(value=0.0, max=9.0), HTML(value='')))"
            ]
          },
          "metadata": {
            "tags": []
          }
        },
        {
          "output_type": "stream",
          "text": [
            "\n"
          ],
          "name": "stdout"
        }
      ]
    },
    {
      "cell_type": "code",
      "metadata": {
        "colab": {
          "base_uri": "https://localhost:8080/"
        },
        "id": "Gmq5qNHoAUk7",
        "outputId": "8e37ff01-7c28-46be-8f0f-05a1e946ff41"
      },
      "source": [
        "print(len(detail_projects))\n",
        "print(detail_projects[30:32])"
      ],
      "execution_count": 19,
      "outputs": [
        {
          "output_type": "stream",
          "text": [
            "116\n",
            "[{'url': 'https://www.indiegogo.com/projects/soviet-airborne-the-345th-regiment-in-afghanistan/pica', 'title': 'Soviet Airborne: the 345th Regiment in Afghanistan', 'image': 'https://c1.iggcdn.com/indiegogo-media-prod-cld/image/upload/c_fill,f_auto,h_273,w_273/qrr4xdnbrcpqcknnbv3d.jpg', 'description': 'A highly detailed photo book depicting Soviet Airborne forces in Afghanistan (1979-1989)', 'category': 'WRITING & PUBLISHING', 'balance': '$56,736 ', 'currency': 'USD raised', 'progress': '1,132%', 'project_id': 'https://www.indiegogo.com/projects/soviet-airborne-the-345th-regiment-in-afghanistan/pica'}, {'url': 'https://www.indiegogo.com/projects/gimdow-upgrade-existing-doorlock-to-keyless-entry/pica', 'title': 'Gimdow: Upgrade Existing Doorlock to Keyless Entry', 'image': 'https://c1.iggcdn.com/indiegogo-media-prod-cld/image/upload/c_fill,f_auto,h_273,w_273/aimkskd6f9l7xa1vjmae.jpg', 'description': 'Install in Seconds | Keyless & Phoneless Entry | Manage Access From the Phone | Alexa Voice Control', 'category': 'HOME', 'balance': '$91,863 ', 'currency': 'HKD raised', 'progress': '237%', 'project_id': 'https://www.indiegogo.com/projects/gimdow-upgrade-existing-doorlock-to-keyless-entry/pica'}]\n"
          ],
          "name": "stdout"
        }
      ]
    },
    {
      "cell_type": "markdown",
      "metadata": {
        "id": "TqxsicNNovfy"
      },
      "source": [
        "# Pandas and data processing\n",
        "\n",
        "**Well!**\n",
        "We're starting to see another amazing library for working with data!\n",
        "\n",
        "It's **pandas**: *Python library for data analysis*.\n",
        "\n",
        "Basically, with pandas we can manipulate a data set or a historical series in Python.\n",
        "\n",
        "For now, we start to give a couple of concepts.\n",
        "\n",
        "Pandas is based on two types of data: **Series** and **DataFrame**:\n",
        "- `Series` represents a list of data\n",
        "- `DataFrame` represent a data set in tabular format\n",
        "\n",
        "Each column of a `DataFrame` is a `Series`.\n",
        "\n",
        "We can create a `DataFrame` using the `pd.DataFrame` method by passing our dictionary as an input parameter.\n",
        "\n",
        "A `DataFrame` pandas can be easily exported in *CSV*, *Excel*, ...\n",
        "\n",
        "For more information about `Pandas` see\n",
        "\n",
        "https://pandas.pydata.org/getting_started.html\n"
      ]
    },
    {
      "cell_type": "code",
      "metadata": {
        "id": "MumFgyNypoBo",
        "colab": {
          "base_uri": "https://localhost:8080/",
          "height": 555
        },
        "outputId": "191d96ad-488e-4d49-8058-58e3a6c86aa2"
      },
      "source": [
        "import pandas as pd\n",
        "ds_detail_projects = pd.DataFrame(detail_projects)\n",
        "ds_detail_projects.set_index(\"project_id\")\n",
        "ds_detail_projects.head()"
      ],
      "execution_count": 20,
      "outputs": [
        {
          "output_type": "execute_result",
          "data": {
            "text/html": [
              "<div>\n",
              "<style scoped>\n",
              "    .dataframe tbody tr th:only-of-type {\n",
              "        vertical-align: middle;\n",
              "    }\n",
              "\n",
              "    .dataframe tbody tr th {\n",
              "        vertical-align: top;\n",
              "    }\n",
              "\n",
              "    .dataframe thead th {\n",
              "        text-align: right;\n",
              "    }\n",
              "</style>\n",
              "<table border=\"1\" class=\"dataframe\">\n",
              "  <thead>\n",
              "    <tr style=\"text-align: right;\">\n",
              "      <th></th>\n",
              "      <th>url</th>\n",
              "      <th>title</th>\n",
              "      <th>image</th>\n",
              "      <th>description</th>\n",
              "      <th>category</th>\n",
              "      <th>balance</th>\n",
              "      <th>currency</th>\n",
              "      <th>progress</th>\n",
              "      <th>project_id</th>\n",
              "    </tr>\n",
              "  </thead>\n",
              "  <tbody>\n",
              "    <tr>\n",
              "      <th>0</th>\n",
              "      <td>https://www.indiegogo.com/projects/shi-omnibus...</td>\n",
              "      <td>SHI: OMNIBUS EDITION VOL. 1 INDIEGOGO EXCLUSIVE!</td>\n",
              "      <td>https://c1.iggcdn.com/indiegogo-media-prod-cld...</td>\n",
              "      <td>Billy's Tucci's classic is collected in this P...</td>\n",
              "      <td>COMICS</td>\n",
              "      <td>$75,478</td>\n",
              "      <td>USD raised</td>\n",
              "      <td>755%</td>\n",
              "      <td>https://www.indiegogo.com/projects/shi-omnibus...</td>\n",
              "    </tr>\n",
              "    <tr>\n",
              "      <th>1</th>\n",
              "      <td>https://www.indiegogo.com/projects/flash-pro-w...</td>\n",
              "      <td>Flash Pro: World's Fastest Powerbank Redesigned</td>\n",
              "      <td>https://c1.iggcdn.com/indiegogo-media-prod-cld...</td>\n",
              "      <td>25000mAh/92.5Wh | OLED Screen | 3 USB-C Ports ...</td>\n",
              "      <td>PHONES &amp; ACCESSORIES</td>\n",
              "      <td>$154,338</td>\n",
              "      <td>USD raised</td>\n",
              "      <td>1,543%</td>\n",
              "      <td>https://www.indiegogo.com/projects/flash-pro-w...</td>\n",
              "    </tr>\n",
              "    <tr>\n",
              "      <th>2</th>\n",
              "      <td>https://www.indiegogo.com/projects/ballad-of-d...</td>\n",
              "      <td>Ballad of Dreams By Allyson Hernandez</td>\n",
              "      <td>https://c1.iggcdn.com/indiegogo-media-prod-cld...</td>\n",
              "      <td>Ballad of Dreams is a novel with music. Pre-sa...</td>\n",
              "      <td>WRITING &amp; PUBLISHING</td>\n",
              "      <td>$1,920</td>\n",
              "      <td>USD raised</td>\n",
              "      <td>30%</td>\n",
              "      <td>https://www.indiegogo.com/projects/ballad-of-d...</td>\n",
              "    </tr>\n",
              "    <tr>\n",
              "      <th>3</th>\n",
              "      <td>https://www.indiegogo.com/projects/crisis-proo...</td>\n",
              "      <td>Crisis Proof Leadership by Beth Rashleigh</td>\n",
              "      <td>https://c1.iggcdn.com/indiegogo-media-prod-cld...</td>\n",
              "      <td>My book is about what the best leaders do duri...</td>\n",
              "      <td>WRITING &amp; PUBLISHING</td>\n",
              "      <td>$2,901</td>\n",
              "      <td>USD raised</td>\n",
              "      <td>53%</td>\n",
              "      <td>https://www.indiegogo.com/projects/crisis-proo...</td>\n",
              "    </tr>\n",
              "    <tr>\n",
              "      <th>4</th>\n",
              "      <td>https://www.indiegogo.com/projects/firewalla-p...</td>\n",
              "      <td>Firewalla Purple: Gigabit Cyber Security</td>\n",
              "      <td>https://c1.iggcdn.com/indiegogo-media-prod-cld...</td>\n",
              "      <td>Next-generation smart firewall for home and wo...</td>\n",
              "      <td>PRODUCTIVITY</td>\n",
              "      <td>$198,261</td>\n",
              "      <td>USD raised</td>\n",
              "      <td>397%</td>\n",
              "      <td>https://www.indiegogo.com/projects/firewalla-p...</td>\n",
              "    </tr>\n",
              "  </tbody>\n",
              "</table>\n",
              "</div>"
            ],
            "text/plain": [
              "                                                 url  ...                                         project_id\n",
              "0  https://www.indiegogo.com/projects/shi-omnibus...  ...  https://www.indiegogo.com/projects/shi-omnibus...\n",
              "1  https://www.indiegogo.com/projects/flash-pro-w...  ...  https://www.indiegogo.com/projects/flash-pro-w...\n",
              "2  https://www.indiegogo.com/projects/ballad-of-d...  ...  https://www.indiegogo.com/projects/ballad-of-d...\n",
              "3  https://www.indiegogo.com/projects/crisis-proo...  ...  https://www.indiegogo.com/projects/crisis-proo...\n",
              "4  https://www.indiegogo.com/projects/firewalla-p...  ...  https://www.indiegogo.com/projects/firewalla-p...\n",
              "\n",
              "[5 rows x 9 columns]"
            ]
          },
          "metadata": {
            "tags": []
          },
          "execution_count": 20
        }
      ]
    },
    {
      "cell_type": "markdown",
      "metadata": {
        "id": "GwW7Sj7irFDT"
      },
      "source": [
        "The `.info()` method provides an indication of the structure and data of the `DataFrame`."
      ]
    },
    {
      "cell_type": "code",
      "metadata": {
        "id": "_tFbyPwcrNY4",
        "colab": {
          "base_uri": "https://localhost:8080/"
        },
        "outputId": "7078f639-8dfe-41bc-f651-80702da4202f"
      },
      "source": [
        "ds_detail_projects.info()"
      ],
      "execution_count": 21,
      "outputs": [
        {
          "output_type": "stream",
          "text": [
            "<class 'pandas.core.frame.DataFrame'>\n",
            "RangeIndex: 116 entries, 0 to 115\n",
            "Data columns (total 9 columns):\n",
            " #   Column       Non-Null Count  Dtype \n",
            "---  ------       --------------  ----- \n",
            " 0   url          116 non-null    object\n",
            " 1   title        116 non-null    object\n",
            " 2   image        116 non-null    object\n",
            " 3   description  116 non-null    object\n",
            " 4   category     116 non-null    object\n",
            " 5   balance      116 non-null    object\n",
            " 6   currency     116 non-null    object\n",
            " 7   progress     116 non-null    object\n",
            " 8   project_id   116 non-null    object\n",
            "dtypes: object(9)\n",
            "memory usage: 8.3+ KB\n"
          ],
          "name": "stdout"
        }
      ]
    },
    {
      "cell_type": "code",
      "metadata": {
        "id": "3lUw4-_BrQDh"
      },
      "source": [
        "ds_detail_projects.to_csv('ds_projects.csv')"
      ],
      "execution_count": 22,
      "outputs": []
    },
    {
      "cell_type": "markdown",
      "metadata": {
        "id": "SfRz5D03J3qR"
      },
      "source": [
        "We are storing the data on our temporary area. In Google Colab is also possible to store files and data on our Google Drive."
      ]
    },
    {
      "cell_type": "markdown",
      "metadata": {
        "id": "AXdgP8t3q_A-"
      },
      "source": [
        "# Indiegogo Project pages ###\n",
        "\n",
        "Now, the goal is to navigate and download the details of each project and pictures of the houses.\n",
        "\n",
        "**Pandas** provides the *.read_csv* method that allows you to upload in CSV format files within a DataFrame."
      ]
    },
    {
      "cell_type": "code",
      "metadata": {
        "id": "yVnUyfGsvcac",
        "colab": {
          "base_uri": "https://localhost:8080/",
          "height": 604
        },
        "outputId": "911b53e9-7218-4a95-d46a-91d38756f41e"
      },
      "source": [
        "# open csv file\n",
        "import pandas as pd\n",
        "ds_detail_projects = pd.read_csv(\"ds_projects.csv\", index_col=\"project_id\")\n",
        "ds_detail_projects.head()"
      ],
      "execution_count": 23,
      "outputs": [
        {
          "output_type": "execute_result",
          "data": {
            "text/html": [
              "<div>\n",
              "<style scoped>\n",
              "    .dataframe tbody tr th:only-of-type {\n",
              "        vertical-align: middle;\n",
              "    }\n",
              "\n",
              "    .dataframe tbody tr th {\n",
              "        vertical-align: top;\n",
              "    }\n",
              "\n",
              "    .dataframe thead th {\n",
              "        text-align: right;\n",
              "    }\n",
              "</style>\n",
              "<table border=\"1\" class=\"dataframe\">\n",
              "  <thead>\n",
              "    <tr style=\"text-align: right;\">\n",
              "      <th></th>\n",
              "      <th>Unnamed: 0</th>\n",
              "      <th>url</th>\n",
              "      <th>title</th>\n",
              "      <th>image</th>\n",
              "      <th>description</th>\n",
              "      <th>category</th>\n",
              "      <th>balance</th>\n",
              "      <th>currency</th>\n",
              "      <th>progress</th>\n",
              "    </tr>\n",
              "    <tr>\n",
              "      <th>project_id</th>\n",
              "      <th></th>\n",
              "      <th></th>\n",
              "      <th></th>\n",
              "      <th></th>\n",
              "      <th></th>\n",
              "      <th></th>\n",
              "      <th></th>\n",
              "      <th></th>\n",
              "      <th></th>\n",
              "    </tr>\n",
              "  </thead>\n",
              "  <tbody>\n",
              "    <tr>\n",
              "      <th>https://www.indiegogo.com/projects/shi-omnibus-edition-vol-1-indiegogo-exclusive/pica</th>\n",
              "      <td>0</td>\n",
              "      <td>https://www.indiegogo.com/projects/shi-omnibus...</td>\n",
              "      <td>SHI: OMNIBUS EDITION VOL. 1 INDIEGOGO EXCLUSIVE!</td>\n",
              "      <td>https://c1.iggcdn.com/indiegogo-media-prod-cld...</td>\n",
              "      <td>Billy's Tucci's classic is collected in this P...</td>\n",
              "      <td>COMICS</td>\n",
              "      <td>$75,478</td>\n",
              "      <td>USD raised</td>\n",
              "      <td>755%</td>\n",
              "    </tr>\n",
              "    <tr>\n",
              "      <th>https://www.indiegogo.com/projects/flash-pro-world-s-fastest-powerbank-redesigned/pica</th>\n",
              "      <td>1</td>\n",
              "      <td>https://www.indiegogo.com/projects/flash-pro-w...</td>\n",
              "      <td>Flash Pro: World's Fastest Powerbank Redesigned</td>\n",
              "      <td>https://c1.iggcdn.com/indiegogo-media-prod-cld...</td>\n",
              "      <td>25000mAh/92.5Wh | OLED Screen | 3 USB-C Ports ...</td>\n",
              "      <td>PHONES &amp; ACCESSORIES</td>\n",
              "      <td>$154,338</td>\n",
              "      <td>USD raised</td>\n",
              "      <td>1,543%</td>\n",
              "    </tr>\n",
              "    <tr>\n",
              "      <th>https://www.indiegogo.com/projects/ballad-of-dreams-by-allyson-hernandez--2/pica</th>\n",
              "      <td>2</td>\n",
              "      <td>https://www.indiegogo.com/projects/ballad-of-d...</td>\n",
              "      <td>Ballad of Dreams By Allyson Hernandez</td>\n",
              "      <td>https://c1.iggcdn.com/indiegogo-media-prod-cld...</td>\n",
              "      <td>Ballad of Dreams is a novel with music. Pre-sa...</td>\n",
              "      <td>WRITING &amp; PUBLISHING</td>\n",
              "      <td>$1,920</td>\n",
              "      <td>USD raised</td>\n",
              "      <td>30%</td>\n",
              "    </tr>\n",
              "    <tr>\n",
              "      <th>https://www.indiegogo.com/projects/crisis-proof-leadership-by-beth-rashleigh/pica</th>\n",
              "      <td>3</td>\n",
              "      <td>https://www.indiegogo.com/projects/crisis-proo...</td>\n",
              "      <td>Crisis Proof Leadership by Beth Rashleigh</td>\n",
              "      <td>https://c1.iggcdn.com/indiegogo-media-prod-cld...</td>\n",
              "      <td>My book is about what the best leaders do duri...</td>\n",
              "      <td>WRITING &amp; PUBLISHING</td>\n",
              "      <td>$2,901</td>\n",
              "      <td>USD raised</td>\n",
              "      <td>53%</td>\n",
              "    </tr>\n",
              "    <tr>\n",
              "      <th>https://www.indiegogo.com/projects/firewalla-purple-gigabit-cyber-security/pica</th>\n",
              "      <td>4</td>\n",
              "      <td>https://www.indiegogo.com/projects/firewalla-p...</td>\n",
              "      <td>Firewalla Purple: Gigabit Cyber Security</td>\n",
              "      <td>https://c1.iggcdn.com/indiegogo-media-prod-cld...</td>\n",
              "      <td>Next-generation smart firewall for home and wo...</td>\n",
              "      <td>PRODUCTIVITY</td>\n",
              "      <td>$198,261</td>\n",
              "      <td>USD raised</td>\n",
              "      <td>397%</td>\n",
              "    </tr>\n",
              "  </tbody>\n",
              "</table>\n",
              "</div>"
            ],
            "text/plain": [
              "                                                    Unnamed: 0  ... progress\n",
              "project_id                                                      ...         \n",
              "https://www.indiegogo.com/projects/shi-omnibus-...           0  ...     755%\n",
              "https://www.indiegogo.com/projects/flash-pro-wo...           1  ...   1,543%\n",
              "https://www.indiegogo.com/projects/ballad-of-dr...           2  ...      30%\n",
              "https://www.indiegogo.com/projects/crisis-proof...           3  ...      53%\n",
              "https://www.indiegogo.com/projects/firewalla-pu...           4  ...     397%\n",
              "\n",
              "[5 rows x 9 columns]"
            ]
          },
          "metadata": {
            "tags": []
          },
          "execution_count": 23
        }
      ]
    },
    {
      "cell_type": "markdown",
      "metadata": {
        "id": "8VaXQ52Kv2am"
      },
      "source": [
        "***For each project we go to the link... how do you think we do it?***\n",
        "\n",
        "Let's try the first 5 projects.\n",
        "\n",
        "\n",
        "\n",
        "These days most of the web apps are using AJAX techniques. When a page is loaded by the browser, the elements within that page may load at different time intervals. Using waits, we can stop our scraping and wait the loading of a element.\n",
        "\n",
        "Selenium Webdriver provides two types of waits - implicit & explicit. An explicit wait makes WebDriver wait for a certain condition to occur before proceeding further with execution. An implicit wait makes WebDriver poll the DOM for a certain amount of time when trying to locate an element.\n"
      ]
    },
    {
      "cell_type": "code",
      "metadata": {
        "colab": {
          "base_uri": "https://localhost:8080/",
          "height": 604
        },
        "id": "rJDu5yiVFFpS",
        "outputId": "6a133d99-45dd-425d-8b6e-95126859d868"
      },
      "source": [
        "# open csv file\n",
        "import pandas as pd\n",
        "ds_detail_projects = pd.read_csv(\"ds_projects.csv\", index_col=\"project_id\")\n",
        "ds_detail_projects.head()"
      ],
      "execution_count": 24,
      "outputs": [
        {
          "output_type": "execute_result",
          "data": {
            "text/html": [
              "<div>\n",
              "<style scoped>\n",
              "    .dataframe tbody tr th:only-of-type {\n",
              "        vertical-align: middle;\n",
              "    }\n",
              "\n",
              "    .dataframe tbody tr th {\n",
              "        vertical-align: top;\n",
              "    }\n",
              "\n",
              "    .dataframe thead th {\n",
              "        text-align: right;\n",
              "    }\n",
              "</style>\n",
              "<table border=\"1\" class=\"dataframe\">\n",
              "  <thead>\n",
              "    <tr style=\"text-align: right;\">\n",
              "      <th></th>\n",
              "      <th>Unnamed: 0</th>\n",
              "      <th>url</th>\n",
              "      <th>title</th>\n",
              "      <th>image</th>\n",
              "      <th>description</th>\n",
              "      <th>category</th>\n",
              "      <th>balance</th>\n",
              "      <th>currency</th>\n",
              "      <th>progress</th>\n",
              "    </tr>\n",
              "    <tr>\n",
              "      <th>project_id</th>\n",
              "      <th></th>\n",
              "      <th></th>\n",
              "      <th></th>\n",
              "      <th></th>\n",
              "      <th></th>\n",
              "      <th></th>\n",
              "      <th></th>\n",
              "      <th></th>\n",
              "      <th></th>\n",
              "    </tr>\n",
              "  </thead>\n",
              "  <tbody>\n",
              "    <tr>\n",
              "      <th>https://www.indiegogo.com/projects/shi-omnibus-edition-vol-1-indiegogo-exclusive/pica</th>\n",
              "      <td>0</td>\n",
              "      <td>https://www.indiegogo.com/projects/shi-omnibus...</td>\n",
              "      <td>SHI: OMNIBUS EDITION VOL. 1 INDIEGOGO EXCLUSIVE!</td>\n",
              "      <td>https://c1.iggcdn.com/indiegogo-media-prod-cld...</td>\n",
              "      <td>Billy's Tucci's classic is collected in this P...</td>\n",
              "      <td>COMICS</td>\n",
              "      <td>$75,478</td>\n",
              "      <td>USD raised</td>\n",
              "      <td>755%</td>\n",
              "    </tr>\n",
              "    <tr>\n",
              "      <th>https://www.indiegogo.com/projects/flash-pro-world-s-fastest-powerbank-redesigned/pica</th>\n",
              "      <td>1</td>\n",
              "      <td>https://www.indiegogo.com/projects/flash-pro-w...</td>\n",
              "      <td>Flash Pro: World's Fastest Powerbank Redesigned</td>\n",
              "      <td>https://c1.iggcdn.com/indiegogo-media-prod-cld...</td>\n",
              "      <td>25000mAh/92.5Wh | OLED Screen | 3 USB-C Ports ...</td>\n",
              "      <td>PHONES &amp; ACCESSORIES</td>\n",
              "      <td>$154,338</td>\n",
              "      <td>USD raised</td>\n",
              "      <td>1,543%</td>\n",
              "    </tr>\n",
              "    <tr>\n",
              "      <th>https://www.indiegogo.com/projects/ballad-of-dreams-by-allyson-hernandez--2/pica</th>\n",
              "      <td>2</td>\n",
              "      <td>https://www.indiegogo.com/projects/ballad-of-d...</td>\n",
              "      <td>Ballad of Dreams By Allyson Hernandez</td>\n",
              "      <td>https://c1.iggcdn.com/indiegogo-media-prod-cld...</td>\n",
              "      <td>Ballad of Dreams is a novel with music. Pre-sa...</td>\n",
              "      <td>WRITING &amp; PUBLISHING</td>\n",
              "      <td>$1,920</td>\n",
              "      <td>USD raised</td>\n",
              "      <td>30%</td>\n",
              "    </tr>\n",
              "    <tr>\n",
              "      <th>https://www.indiegogo.com/projects/crisis-proof-leadership-by-beth-rashleigh/pica</th>\n",
              "      <td>3</td>\n",
              "      <td>https://www.indiegogo.com/projects/crisis-proo...</td>\n",
              "      <td>Crisis Proof Leadership by Beth Rashleigh</td>\n",
              "      <td>https://c1.iggcdn.com/indiegogo-media-prod-cld...</td>\n",
              "      <td>My book is about what the best leaders do duri...</td>\n",
              "      <td>WRITING &amp; PUBLISHING</td>\n",
              "      <td>$2,901</td>\n",
              "      <td>USD raised</td>\n",
              "      <td>53%</td>\n",
              "    </tr>\n",
              "    <tr>\n",
              "      <th>https://www.indiegogo.com/projects/firewalla-purple-gigabit-cyber-security/pica</th>\n",
              "      <td>4</td>\n",
              "      <td>https://www.indiegogo.com/projects/firewalla-p...</td>\n",
              "      <td>Firewalla Purple: Gigabit Cyber Security</td>\n",
              "      <td>https://c1.iggcdn.com/indiegogo-media-prod-cld...</td>\n",
              "      <td>Next-generation smart firewall for home and wo...</td>\n",
              "      <td>PRODUCTIVITY</td>\n",
              "      <td>$198,261</td>\n",
              "      <td>USD raised</td>\n",
              "      <td>397%</td>\n",
              "    </tr>\n",
              "  </tbody>\n",
              "</table>\n",
              "</div>"
            ],
            "text/plain": [
              "                                                    Unnamed: 0  ... progress\n",
              "project_id                                                      ...         \n",
              "https://www.indiegogo.com/projects/shi-omnibus-...           0  ...     755%\n",
              "https://www.indiegogo.com/projects/flash-pro-wo...           1  ...   1,543%\n",
              "https://www.indiegogo.com/projects/ballad-of-dr...           2  ...      30%\n",
              "https://www.indiegogo.com/projects/crisis-proof...           3  ...      53%\n",
              "https://www.indiegogo.com/projects/firewalla-pu...           4  ...     397%\n",
              "\n",
              "[5 rows x 9 columns]"
            ]
          },
          "metadata": {
            "tags": []
          },
          "execution_count": 24
        }
      ]
    },
    {
      "cell_type": "code",
      "metadata": {
        "id": "7RJTIyFfv-Ig",
        "colab": {
          "base_uri": "https://localhost:8080/"
        },
        "outputId": "9762e7ac-cd17-442d-876b-2af5ff64c021"
      },
      "source": [
        "from selenium.webdriver.common.by import By\n",
        "from selenium.webdriver.support.ui import WebDriverWait\n",
        "from selenium.webdriver.support import expected_conditions as EC\n",
        "import time\n",
        "details = []\n",
        "for project_id, project in ds_detail_projects.head().iterrows():\n",
        "    link = project[\"url\"]\n",
        "    print(link)\n",
        "    wd.set_window_size(1920, 1080)\n",
        "    wd.get(link)\n",
        "    try:\n",
        "      WebDriverWait(wd, 10).until(\n",
        "          EC.element_to_be_clickable((By.CSS_SELECTOR, \"div.basicsBackerActions\"))\n",
        "      )\n",
        "    except:\n",
        "      continue\n",
        "\n",
        "    backers = wd.find_elements_by_css_selector(\".basicsGoalProgress-claimedOrBackers\")[0].text\n",
        "    goal = wd.find_elements_by_css_selector(\".basicsGoalProgress-progressDetails-detailsGoal-goalPercentageOrInitiallyRaised\")[0].text\n",
        "    left = wd.find_elements_by_css_selector(\".basicsGoalProgress-progressDetails-detailsTimeLeft\")[0].text\n",
        "    location = wd.find_elements_by_css_selector(\".basicsCampaignOwner-details-city\")[0].text\n",
        "    owner = wd.find_elements_by_css_selector(\".campaignOwnerName-tooltip\")[0].text\n",
        "    details.append({'project_id': project_id,\n",
        "                    'backers': backers,\n",
        "                    'goal': goal,\n",
        "                    'left': left,\n",
        "                    'owner': owner,\n",
        "                    'location': location})\n",
        "  \n",
        "len(details)\n",
        "pprint.pprint(details)\n"
      ],
      "execution_count": 26,
      "outputs": [
        {
          "output_type": "stream",
          "text": [
            "https://www.indiegogo.com/projects/shi-omnibus-edition-vol-1-indiegogo-exclusive/pica\n",
            "https://www.indiegogo.com/projects/flash-pro-world-s-fastest-powerbank-redesigned/pica\n",
            "https://www.indiegogo.com/projects/ballad-of-dreams-by-allyson-hernandez--2/pica\n",
            "https://www.indiegogo.com/projects/crisis-proof-leadership-by-beth-rashleigh/pica\n",
            "https://www.indiegogo.com/projects/firewalla-purple-gigabit-cyber-security/pica\n",
            "[{'backers': '684 backers',\n",
            "  'goal': '755% of $10,000',\n",
            "  'left': '29 days left',\n",
            "  'location': 'Bayport, United States',\n",
            "  'owner': 'Deborah Tucci',\n",
            "  'project_id': 'https://www.indiegogo.com/projects/shi-omnibus-edition-vol-1-indiegogo-exclusive/pica'},\n",
            " {'backers': '834 backers',\n",
            "  'goal': '1546% of $10,000',\n",
            "  'left': '38 days left',\n",
            "  'location': 'Los Angeles, United States',\n",
            "  'owner': 'Chargeasap',\n",
            "  'project_id': 'https://www.indiegogo.com/projects/flash-pro-world-s-fastest-powerbank-redesigned/pica'},\n",
            " {'backers': '16 backers',\n",
            "  'goal': '29% of $6,500',\n",
            "  'left': '30 days left',\n",
            "  'location': 'Washington, United States',\n",
            "  'owner': 'Allyson Hernandez',\n",
            "  'project_id': 'https://www.indiegogo.com/projects/ballad-of-dreams-by-allyson-hernandez--2/pica'},\n",
            " {'backers': '36 backers',\n",
            "  'goal': '52% of $5,500',\n",
            "  'left': '30 days left',\n",
            "  'location': 'Washington, United States',\n",
            "  'owner': 'Beth Rashleigh',\n",
            "  'project_id': 'https://www.indiegogo.com/projects/crisis-proof-leadership-by-beth-rashleigh/pica'},\n",
            " {'backers': '620 backers',\n",
            "  'goal': '396% of $50,000',\n",
            "  'left': '27 days left',\n",
            "  'location': 'SAN JOSE, United States',\n",
            "  'owner': 'Firewalla Inc',\n",
            "  'project_id': 'https://www.indiegogo.com/projects/firewalla-purple-gigabit-cyber-security/pica'}]\n"
          ],
          "name": "stdout"
        }
      ]
    },
    {
      "cell_type": "code",
      "metadata": {
        "id": "xf7bDTWTxLlf",
        "colab": {
          "base_uri": "https://localhost:8080/",
          "height": 483,
          "referenced_widgets": [
            "caa8b5d95e0c4cc2b0d6b5f711369407",
            "ae6403aee040479cae41749a15e2232e",
            "2527773db26e4792b1005ee1bbad9497",
            "38ac960cae7349e0a2e39f32aa2ca000",
            "80a5e9dd799348f5b260ffc585a95d16",
            "a91c98101ef6483c958a0554ec87fc79",
            "e3416a8cbbe640dcae383aeb82bc4901",
            "ad92920dbd5c42c1a59c5ec53b5070f6"
          ]
        },
        "outputId": "408ec7ca-b670-4c47-daa2-0df96949306a"
      },
      "source": [
        "from selenium.webdriver.common.by import By\n",
        "from selenium.webdriver.support.ui import WebDriverWait\n",
        "from selenium.webdriver.support import expected_conditions as EC\n",
        "import time\n",
        "details = []\n",
        "ds_detail_projects = ds_detail_projects.head(n = 20)\n",
        "for project_id, project in tqdm(ds_detail_projects.iterrows(), total=ds_detail_projects.shape[0]):\n",
        "    time.sleep(1)\n",
        "    link = project[\"url\"]\n",
        "    backers = 0\n",
        "    goal = 0\n",
        "    left = 0\n",
        "    location = \"\"\n",
        "    owner = \"\"\n",
        "\n",
        "    try:\n",
        "      wd.set_window_size(1920, 1080)\n",
        "      wd.get(link)\n",
        "      backers = wd.find_elements_by_css_selector(\".basicsGoalProgress-claimedOrBackers\")[0].text\n",
        "      goal = wd.find_elements_by_css_selector(\".basicsGoalProgress-progressDetails-detailsGoal-goalPercentageOrInitiallyRaised\")[0].text\n",
        "      left = wd.find_elements_by_css_selector(\".basicsGoalProgress-progressDetails-detailsTimeLeft\")[0].text\n",
        "      location = wd.find_elements_by_css_selector(\".basicsCampaignOwner-details-city\")[0].text\n",
        "      owner = wd.find_elements_by_css_selector(\".campaignOwnerName-tooltip\")[0].text\n",
        "    except Exception as e:\n",
        "      print(e)\n",
        "    details.append({'project_id': project_id,\n",
        "                    'backers': backers,\n",
        "                    'goal': goal,\n",
        "                    'left': left,\n",
        "                    'owner': owner,\n",
        "                    'location': location})\n",
        "  \n",
        "\n"
      ],
      "execution_count": 27,
      "outputs": [
        {
          "output_type": "display_data",
          "data": {
            "application/vnd.jupyter.widget-view+json": {
              "model_id": "caa8b5d95e0c4cc2b0d6b5f711369407",
              "version_minor": 0,
              "version_major": 2
            },
            "text/plain": [
              "HBox(children=(FloatProgress(value=0.0), HTML(value='')))"
            ]
          },
          "metadata": {
            "tags": []
          }
        },
        {
          "output_type": "stream",
          "text": [
            "list index out of range\n",
            "list index out of range\n",
            "list index out of range\n",
            "list index out of range\n",
            "list index out of range\n",
            "list index out of range\n",
            "list index out of range\n",
            "list index out of range\n",
            "list index out of range\n",
            "list index out of range\n",
            "list index out of range\n",
            "list index out of range\n",
            "list index out of range\n",
            "list index out of range\n",
            "list index out of range\n",
            "list index out of range\n",
            "list index out of range\n",
            "list index out of range\n",
            "list index out of range\n",
            "list index out of range\n",
            "list index out of range\n",
            "list index out of range\n",
            "list index out of range\n",
            "list index out of range\n",
            "\n"
          ],
          "name": "stdout"
        }
      ]
    },
    {
      "cell_type": "code",
      "metadata": {
        "id": "nmOdNznWXKtj",
        "colab": {
          "base_uri": "https://localhost:8080/"
        },
        "outputId": "6ecafab3-be20-4d96-c77e-93254fdf9a9d"
      },
      "source": [
        "print(len(details))\n",
        "pprint.pprint(details[0:2])"
      ],
      "execution_count": 28,
      "outputs": [
        {
          "output_type": "stream",
          "text": [
            "100\n",
            "[{'backers': '684 backers',\n",
            "  'goal': '755% of $10,000',\n",
            "  'left': '29 days left',\n",
            "  'location': 'Bayport, United States',\n",
            "  'owner': 'Deborah Tucci',\n",
            "  'project_id': 'https://www.indiegogo.com/projects/shi-omnibus-edition-vol-1-indiegogo-exclusive/pica'},\n",
            " {'backers': '835 backers',\n",
            "  'goal': '1548% of $10,000',\n",
            "  'left': '38 days left',\n",
            "  'location': 'Los Angeles, United States',\n",
            "  'owner': 'Chargeasap',\n",
            "  'project_id': 'https://www.indiegogo.com/projects/flash-pro-world-s-fastest-powerbank-redesigned/pica'}]\n"
          ],
          "name": "stdout"
        }
      ]
    },
    {
      "cell_type": "markdown",
      "metadata": {
        "id": "fcfGcK4O4R2-"
      },
      "source": [
        "Store the data with *pandas*"
      ]
    },
    {
      "cell_type": "code",
      "metadata": {
        "id": "4xik7JIr4J-n",
        "colab": {
          "base_uri": "https://localhost:8080/",
          "height": 417
        },
        "outputId": "c382c04c-e53e-40b5-ab4a-cefb93ba9cf4"
      },
      "source": [
        "import pandas as pd\n",
        "ds_details = pd.DataFrame(details)\n",
        "ds_details.set_index(\"project_id\")\n",
        "ds_details.head()"
      ],
      "execution_count": 29,
      "outputs": [
        {
          "output_type": "execute_result",
          "data": {
            "text/html": [
              "<div>\n",
              "<style scoped>\n",
              "    .dataframe tbody tr th:only-of-type {\n",
              "        vertical-align: middle;\n",
              "    }\n",
              "\n",
              "    .dataframe tbody tr th {\n",
              "        vertical-align: top;\n",
              "    }\n",
              "\n",
              "    .dataframe thead th {\n",
              "        text-align: right;\n",
              "    }\n",
              "</style>\n",
              "<table border=\"1\" class=\"dataframe\">\n",
              "  <thead>\n",
              "    <tr style=\"text-align: right;\">\n",
              "      <th></th>\n",
              "      <th>project_id</th>\n",
              "      <th>backers</th>\n",
              "      <th>goal</th>\n",
              "      <th>left</th>\n",
              "      <th>owner</th>\n",
              "      <th>location</th>\n",
              "    </tr>\n",
              "  </thead>\n",
              "  <tbody>\n",
              "    <tr>\n",
              "      <th>0</th>\n",
              "      <td>https://www.indiegogo.com/projects/shi-omnibus...</td>\n",
              "      <td>684 backers</td>\n",
              "      <td>755% of $10,000</td>\n",
              "      <td>29 days left</td>\n",
              "      <td>Deborah Tucci</td>\n",
              "      <td>Bayport, United States</td>\n",
              "    </tr>\n",
              "    <tr>\n",
              "      <th>1</th>\n",
              "      <td>https://www.indiegogo.com/projects/flash-pro-w...</td>\n",
              "      <td>835 backers</td>\n",
              "      <td>1548% of $10,000</td>\n",
              "      <td>38 days left</td>\n",
              "      <td>Chargeasap</td>\n",
              "      <td>Los Angeles, United States</td>\n",
              "    </tr>\n",
              "    <tr>\n",
              "      <th>2</th>\n",
              "      <td>https://www.indiegogo.com/projects/ballad-of-d...</td>\n",
              "      <td>17 backers</td>\n",
              "      <td>30% of $6,500</td>\n",
              "      <td>30 days left</td>\n",
              "      <td>Allyson Hernandez</td>\n",
              "      <td>Washington, United States</td>\n",
              "    </tr>\n",
              "    <tr>\n",
              "      <th>3</th>\n",
              "      <td>https://www.indiegogo.com/projects/crisis-proo...</td>\n",
              "      <td>36 backers</td>\n",
              "      <td>52% of $5,500</td>\n",
              "      <td>30 days left</td>\n",
              "      <td>Beth Rashleigh</td>\n",
              "      <td>Washington, United States</td>\n",
              "    </tr>\n",
              "    <tr>\n",
              "      <th>4</th>\n",
              "      <td>https://www.indiegogo.com/projects/firewalla-p...</td>\n",
              "      <td>620 backers</td>\n",
              "      <td>396% of $50,000</td>\n",
              "      <td>27 days left</td>\n",
              "      <td>Firewalla Inc</td>\n",
              "      <td>SAN JOSE, United States</td>\n",
              "    </tr>\n",
              "  </tbody>\n",
              "</table>\n",
              "</div>"
            ],
            "text/plain": [
              "                                          project_id  ...                    location\n",
              "0  https://www.indiegogo.com/projects/shi-omnibus...  ...      Bayport, United States\n",
              "1  https://www.indiegogo.com/projects/flash-pro-w...  ...  Los Angeles, United States\n",
              "2  https://www.indiegogo.com/projects/ballad-of-d...  ...   Washington, United States\n",
              "3  https://www.indiegogo.com/projects/crisis-proo...  ...   Washington, United States\n",
              "4  https://www.indiegogo.com/projects/firewalla-p...  ...     SAN JOSE, United States\n",
              "\n",
              "[5 rows x 6 columns]"
            ]
          },
          "metadata": {
            "tags": []
          },
          "execution_count": 29
        }
      ]
    },
    {
      "cell_type": "code",
      "metadata": {
        "id": "pBkNRigl4b9G",
        "colab": {
          "base_uri": "https://localhost:8080/"
        },
        "outputId": "a49a9789-1659-40a1-98be-f9b87e660b76"
      },
      "source": [
        "ds_details.info()"
      ],
      "execution_count": 30,
      "outputs": [
        {
          "output_type": "stream",
          "text": [
            "<class 'pandas.core.frame.DataFrame'>\n",
            "RangeIndex: 100 entries, 0 to 99\n",
            "Data columns (total 6 columns):\n",
            " #   Column      Non-Null Count  Dtype \n",
            "---  ------      --------------  ----- \n",
            " 0   project_id  100 non-null    object\n",
            " 1   backers     100 non-null    object\n",
            " 2   goal        100 non-null    object\n",
            " 3   left        100 non-null    object\n",
            " 4   owner       100 non-null    object\n",
            " 5   location    100 non-null    object\n",
            "dtypes: object(6)\n",
            "memory usage: 4.8+ KB\n"
          ],
          "name": "stdout"
        }
      ]
    },
    {
      "cell_type": "code",
      "metadata": {
        "id": "YSlNICg94fKj"
      },
      "source": [
        "ds_details.to_csv(\"ds_project_details.csv\")"
      ],
      "execution_count": 31,
      "outputs": []
    },
    {
      "cell_type": "markdown",
      "metadata": {
        "id": "dJdurd8345Jp"
      },
      "source": [
        "# Indiegogo Project images\n",
        "\n",
        "\n",
        "Now we're going to download Indiegogo images for each project.\n",
        "\n",
        "Our goal is to create a dataset of images and a `Dataframe` composed by:\n",
        "- `project_id`\n",
        "- `image_id`\n",
        "\n",
        "We will use the library `requests`.\n",
        "\n",
        "The `requests` library is python library for making HTTP requests.\n",
        "It abstracts the complexities of making requests behind a simple API so that you can focus on interacting with services and consuming data in your application."
      ]
    },
    {
      "cell_type": "code",
      "metadata": {
        "colab": {
          "base_uri": "https://localhost:8080/",
          "height": 604
        },
        "id": "aOqIaqtgGN2J",
        "outputId": "2e3a5d06-e80a-4e9b-df31-d7556add0f84"
      },
      "source": [
        "# open csv file\n",
        "import pandas as pd\n",
        "ds_detail_projects = pd.read_csv(\"ds_projects.csv\", index_col=\"project_id\")\n",
        "ds_detail_projects.head()"
      ],
      "execution_count": 32,
      "outputs": [
        {
          "output_type": "execute_result",
          "data": {
            "text/html": [
              "<div>\n",
              "<style scoped>\n",
              "    .dataframe tbody tr th:only-of-type {\n",
              "        vertical-align: middle;\n",
              "    }\n",
              "\n",
              "    .dataframe tbody tr th {\n",
              "        vertical-align: top;\n",
              "    }\n",
              "\n",
              "    .dataframe thead th {\n",
              "        text-align: right;\n",
              "    }\n",
              "</style>\n",
              "<table border=\"1\" class=\"dataframe\">\n",
              "  <thead>\n",
              "    <tr style=\"text-align: right;\">\n",
              "      <th></th>\n",
              "      <th>Unnamed: 0</th>\n",
              "      <th>url</th>\n",
              "      <th>title</th>\n",
              "      <th>image</th>\n",
              "      <th>description</th>\n",
              "      <th>category</th>\n",
              "      <th>balance</th>\n",
              "      <th>currency</th>\n",
              "      <th>progress</th>\n",
              "    </tr>\n",
              "    <tr>\n",
              "      <th>project_id</th>\n",
              "      <th></th>\n",
              "      <th></th>\n",
              "      <th></th>\n",
              "      <th></th>\n",
              "      <th></th>\n",
              "      <th></th>\n",
              "      <th></th>\n",
              "      <th></th>\n",
              "      <th></th>\n",
              "    </tr>\n",
              "  </thead>\n",
              "  <tbody>\n",
              "    <tr>\n",
              "      <th>https://www.indiegogo.com/projects/shi-omnibus-edition-vol-1-indiegogo-exclusive/pica</th>\n",
              "      <td>0</td>\n",
              "      <td>https://www.indiegogo.com/projects/shi-omnibus...</td>\n",
              "      <td>SHI: OMNIBUS EDITION VOL. 1 INDIEGOGO EXCLUSIVE!</td>\n",
              "      <td>https://c1.iggcdn.com/indiegogo-media-prod-cld...</td>\n",
              "      <td>Billy's Tucci's classic is collected in this P...</td>\n",
              "      <td>COMICS</td>\n",
              "      <td>$75,478</td>\n",
              "      <td>USD raised</td>\n",
              "      <td>755%</td>\n",
              "    </tr>\n",
              "    <tr>\n",
              "      <th>https://www.indiegogo.com/projects/flash-pro-world-s-fastest-powerbank-redesigned/pica</th>\n",
              "      <td>1</td>\n",
              "      <td>https://www.indiegogo.com/projects/flash-pro-w...</td>\n",
              "      <td>Flash Pro: World's Fastest Powerbank Redesigned</td>\n",
              "      <td>https://c1.iggcdn.com/indiegogo-media-prod-cld...</td>\n",
              "      <td>25000mAh/92.5Wh | OLED Screen | 3 USB-C Ports ...</td>\n",
              "      <td>PHONES &amp; ACCESSORIES</td>\n",
              "      <td>$154,338</td>\n",
              "      <td>USD raised</td>\n",
              "      <td>1,543%</td>\n",
              "    </tr>\n",
              "    <tr>\n",
              "      <th>https://www.indiegogo.com/projects/ballad-of-dreams-by-allyson-hernandez--2/pica</th>\n",
              "      <td>2</td>\n",
              "      <td>https://www.indiegogo.com/projects/ballad-of-d...</td>\n",
              "      <td>Ballad of Dreams By Allyson Hernandez</td>\n",
              "      <td>https://c1.iggcdn.com/indiegogo-media-prod-cld...</td>\n",
              "      <td>Ballad of Dreams is a novel with music. Pre-sa...</td>\n",
              "      <td>WRITING &amp; PUBLISHING</td>\n",
              "      <td>$1,920</td>\n",
              "      <td>USD raised</td>\n",
              "      <td>30%</td>\n",
              "    </tr>\n",
              "    <tr>\n",
              "      <th>https://www.indiegogo.com/projects/crisis-proof-leadership-by-beth-rashleigh/pica</th>\n",
              "      <td>3</td>\n",
              "      <td>https://www.indiegogo.com/projects/crisis-proo...</td>\n",
              "      <td>Crisis Proof Leadership by Beth Rashleigh</td>\n",
              "      <td>https://c1.iggcdn.com/indiegogo-media-prod-cld...</td>\n",
              "      <td>My book is about what the best leaders do duri...</td>\n",
              "      <td>WRITING &amp; PUBLISHING</td>\n",
              "      <td>$2,901</td>\n",
              "      <td>USD raised</td>\n",
              "      <td>53%</td>\n",
              "    </tr>\n",
              "    <tr>\n",
              "      <th>https://www.indiegogo.com/projects/firewalla-purple-gigabit-cyber-security/pica</th>\n",
              "      <td>4</td>\n",
              "      <td>https://www.indiegogo.com/projects/firewalla-p...</td>\n",
              "      <td>Firewalla Purple: Gigabit Cyber Security</td>\n",
              "      <td>https://c1.iggcdn.com/indiegogo-media-prod-cld...</td>\n",
              "      <td>Next-generation smart firewall for home and wo...</td>\n",
              "      <td>PRODUCTIVITY</td>\n",
              "      <td>$198,261</td>\n",
              "      <td>USD raised</td>\n",
              "      <td>397%</td>\n",
              "    </tr>\n",
              "  </tbody>\n",
              "</table>\n",
              "</div>"
            ],
            "text/plain": [
              "                                                    Unnamed: 0  ... progress\n",
              "project_id                                                      ...         \n",
              "https://www.indiegogo.com/projects/shi-omnibus-...           0  ...     755%\n",
              "https://www.indiegogo.com/projects/flash-pro-wo...           1  ...   1,543%\n",
              "https://www.indiegogo.com/projects/ballad-of-dr...           2  ...      30%\n",
              "https://www.indiegogo.com/projects/crisis-proof...           3  ...      53%\n",
              "https://www.indiegogo.com/projects/firewalla-pu...           4  ...     397%\n",
              "\n",
              "[5 rows x 9 columns]"
            ]
          },
          "metadata": {
            "tags": []
          },
          "execution_count": 32
        }
      ]
    },
    {
      "cell_type": "markdown",
      "metadata": {
        "id": "w8VIUPcENzjc"
      },
      "source": [
        "Let's create a folder where store the images"
      ]
    },
    {
      "cell_type": "code",
      "metadata": {
        "id": "iKH0nqhtN1_Q"
      },
      "source": [
        "!mkdir images"
      ],
      "execution_count": 36,
      "outputs": []
    },
    {
      "cell_type": "code",
      "metadata": {
        "id": "q1cy5Jzt6ab-",
        "colab": {
          "base_uri": "https://localhost:8080/",
          "height": 67,
          "referenced_widgets": [
            "30273b7de4c9497d82b6c5d3e0b09096",
            "c134c365c56449a092eca952d328eb6c",
            "df44b7e02d934817aaef02faf067898b",
            "2205a90be5d74f269547aa58675e483f",
            "49a9fb3ef02540c9a902a61fe3c3143c",
            "a790875774c644af9cab3a8535f641fe",
            "288f1e74830b4606a1053548278b85e4",
            "237bcde5ab87453a85521199908a8fd1"
          ]
        },
        "outputId": "a32527be-b956-48ac-c720-47e858304e1f"
      },
      "source": [
        "import time\n",
        "import requests\n",
        "\n",
        "detail_projects = []\n",
        "list_images = []\n",
        "num = 0\n",
        "for project_id, project in tqdm(ds_detail_projects.iterrows(), total=ds_detail_projects.shape[0]):\n",
        "  num = num + 1\n",
        "  try:\n",
        "    list_images.append({\"project_id\": project_id,\n",
        "                        \"img_file\": \"img_\" + str(num) + \".jpg\"})\n",
        "    src = project['image']\n",
        "    img_file = requests.get(src, stream=True)\n",
        "    if img_file.status_code == 200:\n",
        "      with open(\"/content/images/img_\" + str(num) + \".jpg\", 'wb') as f:\n",
        "        f.write(img_file.content)\n",
        "  except Exception as e:\n",
        "    print(e)\n",
        "\n"
      ],
      "execution_count": 37,
      "outputs": [
        {
          "output_type": "display_data",
          "data": {
            "application/vnd.jupyter.widget-view+json": {
              "model_id": "30273b7de4c9497d82b6c5d3e0b09096",
              "version_minor": 0,
              "version_major": 2
            },
            "text/plain": [
              "HBox(children=(FloatProgress(value=0.0, max=116.0), HTML(value='')))"
            ]
          },
          "metadata": {
            "tags": []
          }
        },
        {
          "output_type": "stream",
          "text": [
            "\n"
          ],
          "name": "stdout"
        }
      ]
    },
    {
      "cell_type": "code",
      "metadata": {
        "id": "wy5AJ3iUj-DO",
        "colab": {
          "base_uri": "https://localhost:8080/"
        },
        "outputId": "569a47ca-3894-4865-b9d9-eb946b0f0a6b"
      },
      "source": [
        "print(len(list_images))"
      ],
      "execution_count": 38,
      "outputs": [
        {
          "output_type": "stream",
          "text": [
            "116\n"
          ],
          "name": "stdout"
        }
      ]
    },
    {
      "cell_type": "code",
      "metadata": {
        "id": "BSPk4TWtAvWj",
        "colab": {
          "base_uri": "https://localhost:8080/",
          "height": 359
        },
        "outputId": "0b835605-0f19-4810-9c3a-24ec2dfc755d"
      },
      "source": [
        "%pylab inline\n",
        "import matplotlib.pyplot as plt\n",
        "import matplotlib.image as mpimg\n",
        "img=mpimg.imread('/content/images/img_1.jpg')\n",
        "imgplot = plt.imshow(img)\n",
        "plt.show()"
      ],
      "execution_count": 39,
      "outputs": [
        {
          "output_type": "stream",
          "text": [
            "Populating the interactive namespace from numpy and matplotlib\n"
          ],
          "name": "stdout"
        },
        {
          "output_type": "stream",
          "text": [
            "/usr/local/lib/python3.7/dist-packages/IPython/core/magics/pylab.py:161: UserWarning: pylab import has clobbered these variables: ['f']\n",
            "`%matplotlib` prevents importing * from pylab and numpy\n",
            "  \"\\n`%matplotlib` prevents importing * from pylab and numpy\"\n"
          ],
          "name": "stderr"
        },
        {
          "output_type": "display_data",
          "data": {
            "image/png": "[encoded data removed]",
            "text/plain": [
              "<Figure size 432x288 with 1 Axes>"
            ]
          },
          "metadata": {
            "tags": [],
            "needs_background": "light"
          }
        }
      ]
    },
    {
      "cell_type": "code",
      "metadata": {
        "id": "9oq-mP-v8LZl",
        "colab": {
          "base_uri": "https://localhost:8080/",
          "height": 206
        },
        "outputId": "ee074aff-8339-4ea1-b971-bab11ebb57da"
      },
      "source": [
        "import pandas as pd\n",
        "ds_images = pd.DataFrame(list_images)\n",
        "ds_images.set_index(\"project_id\")\n",
        "ds_images.head()"
      ],
      "execution_count": 40,
      "outputs": [
        {
          "output_type": "execute_result",
          "data": {
            "text/html": [
              "<div>\n",
              "<style scoped>\n",
              "    .dataframe tbody tr th:only-of-type {\n",
              "        vertical-align: middle;\n",
              "    }\n",
              "\n",
              "    .dataframe tbody tr th {\n",
              "        vertical-align: top;\n",
              "    }\n",
              "\n",
              "    .dataframe thead th {\n",
              "        text-align: right;\n",
              "    }\n",
              "</style>\n",
              "<table border=\"1\" class=\"dataframe\">\n",
              "  <thead>\n",
              "    <tr style=\"text-align: right;\">\n",
              "      <th></th>\n",
              "      <th>project_id</th>\n",
              "      <th>img_file</th>\n",
              "    </tr>\n",
              "  </thead>\n",
              "  <tbody>\n",
              "    <tr>\n",
              "      <th>0</th>\n",
              "      <td>https://www.indiegogo.com/projects/shi-omnibus...</td>\n",
              "      <td>img_1.jpg</td>\n",
              "    </tr>\n",
              "    <tr>\n",
              "      <th>1</th>\n",
              "      <td>https://www.indiegogo.com/projects/flash-pro-w...</td>\n",
              "      <td>img_2.jpg</td>\n",
              "    </tr>\n",
              "    <tr>\n",
              "      <th>2</th>\n",
              "      <td>https://www.indiegogo.com/projects/ballad-of-d...</td>\n",
              "      <td>img_3.jpg</td>\n",
              "    </tr>\n",
              "    <tr>\n",
              "      <th>3</th>\n",
              "      <td>https://www.indiegogo.com/projects/crisis-proo...</td>\n",
              "      <td>img_4.jpg</td>\n",
              "    </tr>\n",
              "    <tr>\n",
              "      <th>4</th>\n",
              "      <td>https://www.indiegogo.com/projects/firewalla-p...</td>\n",
              "      <td>img_5.jpg</td>\n",
              "    </tr>\n",
              "  </tbody>\n",
              "</table>\n",
              "</div>"
            ],
            "text/plain": [
              "                                          project_id   img_file\n",
              "0  https://www.indiegogo.com/projects/shi-omnibus...  img_1.jpg\n",
              "1  https://www.indiegogo.com/projects/flash-pro-w...  img_2.jpg\n",
              "2  https://www.indiegogo.com/projects/ballad-of-d...  img_3.jpg\n",
              "3  https://www.indiegogo.com/projects/crisis-proo...  img_4.jpg\n",
              "4  https://www.indiegogo.com/projects/firewalla-p...  img_5.jpg"
            ]
          },
          "metadata": {
            "tags": []
          },
          "execution_count": 40
        }
      ]
    },
    {
      "cell_type": "code",
      "metadata": {
        "id": "v1A0HPUPhmdT",
        "colab": {
          "base_uri": "https://localhost:8080/"
        },
        "outputId": "e1a8797f-1044-412a-b04f-c201d51a8ac2"
      },
      "source": [
        "ds_images.info()"
      ],
      "execution_count": 41,
      "outputs": [
        {
          "output_type": "stream",
          "text": [
            "<class 'pandas.core.frame.DataFrame'>\n",
            "RangeIndex: 116 entries, 0 to 115\n",
            "Data columns (total 2 columns):\n",
            " #   Column      Non-Null Count  Dtype \n",
            "---  ------      --------------  ----- \n",
            " 0   project_id  116 non-null    object\n",
            " 1   img_file    116 non-null    object\n",
            "dtypes: object(2)\n",
            "memory usage: 1.9+ KB\n"
          ],
          "name": "stdout"
        }
      ]
    },
    {
      "cell_type": "code",
      "metadata": {
        "id": "2CLUnkOW8O0Q"
      },
      "source": [
        "ds_images.to_csv(\"ds_images.csv\")\n"
      ],
      "execution_count": 42,
      "outputs": []
    },
    {
      "cell_type": "code",
      "metadata": {
        "id": "v0F53Zz7JRN2"
      },
      "source": [
        "!zip -r \"/content/images.zip\" \"/content/images/\"\n"
      ],
      "execution_count": null,
      "outputs": []
    },
    {
      "cell_type": "markdown",
      "metadata": {
        "id": "vqfnlwdBXluM"
      },
      "source": [
        "# Use API to get data from Indiegogo"
      ]
    },
    {
      "cell_type": "markdown",
      "metadata": {
        "id": "q1ca4dbUO8WA"
      },
      "source": [
        "![](https://raw.githubusercontent.com/mauropelucchi/europython2021/main/img/network_tab.png)"
      ]
    },
    {
      "cell_type": "code",
      "metadata": {
        "id": "DMkOAepZXr9J"
      },
      "source": [
        "import sys\n",
        "import logging\n",
        "from selenium.webdriver.remote.remote_connection import LOGGER\n",
        "LOGGER.setLevel(logging.WARNING)\n",
        "sys.path.insert(0,'/usr/lib/chromium-browser/chromedriver')\n",
        "from selenium import webdriver\n",
        "\n",
        "import requests\n",
        "from tqdm.notebook import tqdm\n",
        "import pandas\n",
        "import pprint\n",
        "import pandas as pd\n",
        "import json"
      ],
      "execution_count": 45,
      "outputs": []
    },
    {
      "cell_type": "markdown",
      "metadata": {
        "id": "yA7FxfMMPBdD"
      },
      "source": [
        "[https://docs.python-requests.org/en/master/](https://docs.python-requests.org/en/master/)\n",
        "\n",
        "> Requests allows you to send HTTP/1.1 requests extremely easily. There’s no need to manually add query strings to your URLs, or to form-encode your POST data. Keep-alive and HTTP connection pooling are 100% automatic, thanks to urllib3."
      ]
    },
    {
      "cell_type": "code",
      "metadata": {
        "id": "R6ywKimrYCbD"
      },
      "source": [
        "project_list = []\n",
        "\n",
        "\n",
        "# We are scraping 50 pages\n",
        "for page in tqdm(range(1, 50)):\n",
        "  payload = {\"sort\": \"most_funded\",\n",
        "            \"category_main\": None,\n",
        "            \"category_top_level\": \"Creative Works\",\n",
        "            \"project_timing\": \"all\",\n",
        "            \"project_type\": \"campaign\",\n",
        "            \"tags\":[],\n",
        "            \"page_num\": page,\n",
        "            \"per_page\": 100,\n",
        "            \"q\": \"\"}\n",
        "  r = requests.post('https://www.indiegogo.com/private_api/discover',\n",
        "                  headers={'Content-type': 'application/json; charset=UTF-8', \"User-Agent\": \"curl/7.64.1\"},\n",
        "                  json=payload)\n",
        "  # print(r)\n",
        "  my_projects = r.json()['response']['discoverables']\n",
        "  project_list.extend(my_projects)"
      ],
      "execution_count": null,
      "outputs": []
    },
    {
      "cell_type": "code",
      "metadata": {
        "colab": {
          "base_uri": "https://localhost:8080/"
        },
        "id": "Y5HnCa7mdr-y",
        "outputId": "74621242-a034-4b69-9e6d-c561a60532e6"
      },
      "source": [
        "len(project_list)"
      ],
      "execution_count": 51,
      "outputs": [
        {
          "output_type": "execute_result",
          "data": {
            "text/plain": [
              "4900"
            ]
          },
          "metadata": {
            "tags": []
          },
          "execution_count": 51
        }
      ]
    },
    {
      "cell_type": "code",
      "metadata": {
        "colab": {
          "base_uri": "https://localhost:8080/"
        },
        "id": "yP3pghryXwqf",
        "outputId": "552f460a-42f7-4e0a-9fdd-8ce47e41d764"
      },
      "source": [
        "pprint.pprint(project_list[0:2])"
      ],
      "execution_count": 52,
      "outputs": [
        {
          "output_type": "stream",
          "text": [
            "[{'bullet_point': None,\n",
            "  'category': 'Film',\n",
            "  'category_url': '/explore/film',\n",
            "  'clickthrough_url': '/projects/super-troopers-2',\n",
            "  'close_date': '2015-04-24T23:59:59-07:00',\n",
            "  'currency': 'USD',\n",
            "  'funds_raised_amount': 4617223,\n",
            "  'funds_raised_percent': 2.081839,\n",
            "  'image_url': 'https://c1.iggcdn.com/indiegogo-media-prod-cld/image/upload/c_fill,f_auto,h_273,w_273/ihngkgslmmpbwcaxurio.jpg',\n",
            "  'is_indemand': False,\n",
            "  'is_pre_launch': False,\n",
            "  'offered_by': None,\n",
            "  'open_date': '2015-03-24T10:00:57-07:00',\n",
            "  'perk_goal_percentage': None,\n",
            "  'perks_claimed': None,\n",
            "  'price_offered': None,\n",
            "  'price_retail': None,\n",
            "  'product_stage': None,\n",
            "  'project_id': 1166581,\n",
            "  'project_type': 'campaign',\n",
            "  'tagline': 'The #SuperTroopers2 campaign is over, but the movie will be out '\n",
            "             'in theaters on 4/20/18!',\n",
            "  'tags': ['other'],\n",
            "  'title': 'Super Troopers 2'},\n",
            " {'bullet_point': None,\n",
            "  'category': 'Web Series & TV Shows',\n",
            "  'category_url': '/explore/web-series-tv-shows',\n",
            "  'clickthrough_url': '/projects/con-man',\n",
            "  'close_date': '2015-04-10T23:59:59-07:00',\n",
            "  'currency': 'USD',\n",
            "  'funds_raised_amount': 3156178,\n",
            "  'funds_raised_percent': 7.347458823529411,\n",
            "  'image_url': 'https://c1.iggcdn.com/indiegogo-media-prod-cld/image/upload/c_fill,f_auto,h_273,w_273/fxniv9n1jtye9da7gyhq.jpg',\n",
            "  'is_indemand': False,\n",
            "  'is_pre_launch': False,\n",
            "  'offered_by': None,\n",
            "  'open_date': '2015-03-10T14:48:01-07:00',\n",
            "  'perk_goal_percentage': None,\n",
            "  'perks_claimed': None,\n",
            "  'price_offered': None,\n",
            "  'price_retail': None,\n",
            "  'product_stage': None,\n",
            "  'project_id': 1143140,\n",
            "  'project_type': 'campaign',\n",
            "  'tagline': 'A new comedy from Alan Tudyk and Nathan Fillion produced by YOU!',\n",
            "  'tags': ['other'],\n",
            "  'title': 'Con Man'}]\n"
          ],
          "name": "stdout"
        }
      ]
    },
    {
      "cell_type": "code",
      "metadata": {
        "colab": {
          "base_uri": "https://localhost:8080/",
          "height": 573
        },
        "id": "BoSlD8TbZPwr",
        "outputId": "11c19606-b170-4d72-81dd-55db8306cd18"
      },
      "source": [
        "import pandas as pd\n",
        "ds_detail_projects = pd.DataFrame(project_list)\n",
        "ds_detail_projects.set_index(\"project_id\")\n",
        "ds_detail_projects.head()"
      ],
      "execution_count": 53,
      "outputs": [
        {
          "output_type": "execute_result",
          "data": {
            "text/html": [
              "<div>\n",
              "<style scoped>\n",
              "    .dataframe tbody tr th:only-of-type {\n",
              "        vertical-align: middle;\n",
              "    }\n",
              "\n",
              "    .dataframe tbody tr th {\n",
              "        vertical-align: top;\n",
              "    }\n",
              "\n",
              "    .dataframe thead th {\n",
              "        text-align: right;\n",
              "    }\n",
              "</style>\n",
              "<table border=\"1\" class=\"dataframe\">\n",
              "  <thead>\n",
              "    <tr style=\"text-align: right;\">\n",
              "      <th></th>\n",
              "      <th>bullet_point</th>\n",
              "      <th>category</th>\n",
              "      <th>category_url</th>\n",
              "      <th>clickthrough_url</th>\n",
              "      <th>close_date</th>\n",
              "      <th>currency</th>\n",
              "      <th>funds_raised_amount</th>\n",
              "      <th>funds_raised_percent</th>\n",
              "      <th>image_url</th>\n",
              "      <th>is_indemand</th>\n",
              "      <th>is_pre_launch</th>\n",
              "      <th>offered_by</th>\n",
              "      <th>open_date</th>\n",
              "      <th>perk_goal_percentage</th>\n",
              "      <th>perks_claimed</th>\n",
              "      <th>price_offered</th>\n",
              "      <th>price_retail</th>\n",
              "      <th>product_stage</th>\n",
              "      <th>project_id</th>\n",
              "      <th>project_type</th>\n",
              "      <th>tagline</th>\n",
              "      <th>tags</th>\n",
              "      <th>title</th>\n",
              "    </tr>\n",
              "  </thead>\n",
              "  <tbody>\n",
              "    <tr>\n",
              "      <th>0</th>\n",
              "      <td>None</td>\n",
              "      <td>Film</td>\n",
              "      <td>/explore/film</td>\n",
              "      <td>/projects/super-troopers-2</td>\n",
              "      <td>2015-04-24T23:59:59-07:00</td>\n",
              "      <td>USD</td>\n",
              "      <td>4617223</td>\n",
              "      <td>2.081839</td>\n",
              "      <td>https://c1.iggcdn.com/indiegogo-media-prod-cld...</td>\n",
              "      <td>False</td>\n",
              "      <td>False</td>\n",
              "      <td>None</td>\n",
              "      <td>2015-03-24T10:00:57-07:00</td>\n",
              "      <td>NaN</td>\n",
              "      <td>NaN</td>\n",
              "      <td>None</td>\n",
              "      <td>None</td>\n",
              "      <td>None</td>\n",
              "      <td>1166581</td>\n",
              "      <td>campaign</td>\n",
              "      <td>The #SuperTroopers2 campaign is over, but the ...</td>\n",
              "      <td>[other]</td>\n",
              "      <td>Super Troopers 2</td>\n",
              "    </tr>\n",
              "    <tr>\n",
              "      <th>1</th>\n",
              "      <td>None</td>\n",
              "      <td>Web Series &amp; TV Shows</td>\n",
              "      <td>/explore/web-series-tv-shows</td>\n",
              "      <td>/projects/con-man</td>\n",
              "      <td>2015-04-10T23:59:59-07:00</td>\n",
              "      <td>USD</td>\n",
              "      <td>3156178</td>\n",
              "      <td>7.347459</td>\n",
              "      <td>https://c1.iggcdn.com/indiegogo-media-prod-cld...</td>\n",
              "      <td>False</td>\n",
              "      <td>False</td>\n",
              "      <td>None</td>\n",
              "      <td>2015-03-10T14:48:01-07:00</td>\n",
              "      <td>NaN</td>\n",
              "      <td>NaN</td>\n",
              "      <td>None</td>\n",
              "      <td>None</td>\n",
              "      <td>None</td>\n",
              "      <td>1143140</td>\n",
              "      <td>campaign</td>\n",
              "      <td>A new comedy from Alan Tudyk and Nathan Fillio...</td>\n",
              "      <td>[other]</td>\n",
              "      <td>Con Man</td>\n",
              "    </tr>\n",
              "    <tr>\n",
              "      <th>2</th>\n",
              "      <td>None</td>\n",
              "      <td>Photography</td>\n",
              "      <td>/explore/photography</td>\n",
              "      <td>/projects/the-camera-pack-peter-mckinnon-x-nom...</td>\n",
              "      <td>2019-11-14T23:59:59-08:00</td>\n",
              "      <td>USD</td>\n",
              "      <td>2677592</td>\n",
              "      <td>22.861930</td>\n",
              "      <td>https://c1.iggcdn.com/indiegogo-media-prod-cld...</td>\n",
              "      <td>False</td>\n",
              "      <td>False</td>\n",
              "      <td>None</td>\n",
              "      <td>2019-11-13T23:59:59-08:00</td>\n",
              "      <td>NaN</td>\n",
              "      <td>NaN</td>\n",
              "      <td>None</td>\n",
              "      <td>None</td>\n",
              "      <td>None</td>\n",
              "      <td>2558245</td>\n",
              "      <td>campaign</td>\n",
              "      <td>A Functional Camera Pack for all types of trav...</td>\n",
              "      <td>[backpacks, design, luggage, professional]</td>\n",
              "      <td>The Camera Pack: Peter McKinnon X NOMATIC</td>\n",
              "    </tr>\n",
              "    <tr>\n",
              "      <th>3</th>\n",
              "      <td>None</td>\n",
              "      <td>Writing &amp; Publishing</td>\n",
              "      <td>/explore/writing-publishing</td>\n",
              "      <td>/projects/the-book--28</td>\n",
              "      <td>2021-01-04T23:59:59-08:00</td>\n",
              "      <td>USD</td>\n",
              "      <td>2636206</td>\n",
              "      <td>293.336625</td>\n",
              "      <td>https://c1.iggcdn.com/indiegogo-media-prod-cld...</td>\n",
              "      <td>True</td>\n",
              "      <td>False</td>\n",
              "      <td>None</td>\n",
              "      <td>2021-01-03T23:59:59-08:00</td>\n",
              "      <td>NaN</td>\n",
              "      <td>NaN</td>\n",
              "      <td>None</td>\n",
              "      <td>None</td>\n",
              "      <td>None</td>\n",
              "      <td>2650630</td>\n",
              "      <td>campaign</td>\n",
              "      <td>The Ultimate Guide To Rebuilding A Civilizatio...</td>\n",
              "      <td>[books, burning man, design]</td>\n",
              "      <td>The Book</td>\n",
              "    </tr>\n",
              "    <tr>\n",
              "      <th>4</th>\n",
              "      <td>None</td>\n",
              "      <td>Film</td>\n",
              "      <td>/explore/film</td>\n",
              "      <td>/projects/code-8-a-film-from-robbie-stephen-amell</td>\n",
              "      <td>2016-04-23T23:59:59-07:00</td>\n",
              "      <td>USD</td>\n",
              "      <td>2501972</td>\n",
              "      <td>8.600755</td>\n",
              "      <td>https://c1.iggcdn.com/indiegogo-media-prod-cld...</td>\n",
              "      <td>False</td>\n",
              "      <td>False</td>\n",
              "      <td>None</td>\n",
              "      <td>2016-03-22T08:06:31-07:00</td>\n",
              "      <td>NaN</td>\n",
              "      <td>NaN</td>\n",
              "      <td>None</td>\n",
              "      <td>None</td>\n",
              "      <td>None</td>\n",
              "      <td>1676513</td>\n",
              "      <td>campaign</td>\n",
              "      <td>Help Robbie &amp; Stephen Amell make their first f...</td>\n",
              "      <td>[robots]</td>\n",
              "      <td>Code 8 - a film from Robbie &amp; Stephen Amell</td>\n",
              "    </tr>\n",
              "  </tbody>\n",
              "</table>\n",
              "</div>"
            ],
            "text/plain": [
              "  bullet_point  ...                                        title\n",
              "0         None  ...                             Super Troopers 2\n",
              "1         None  ...                                      Con Man\n",
              "2         None  ...    The Camera Pack: Peter McKinnon X NOMATIC\n",
              "3         None  ...                                     The Book\n",
              "4         None  ...  Code 8 - a film from Robbie & Stephen Amell\n",
              "\n",
              "[5 rows x 23 columns]"
            ]
          },
          "metadata": {
            "tags": []
          },
          "execution_count": 53
        }
      ]
    },
    {
      "cell_type": "code",
      "metadata": {
        "id": "pzSRqiMcZRGb"
      },
      "source": [
        "ds_detail_projects.to_csv(\"/content/1_ds_project_details_full.csv\")"
      ],
      "execution_count": 54,
      "outputs": []
    },
    {
      "cell_type": "code",
      "metadata": {
        "id": "XY3Fr-m-KarS"
      },
      "source": [
        "ds_detail_projects = pd.read_csv(\"/content/1_ds_project_details_full.csv\", index_col=\"project_id\")\n"
      ],
      "execution_count": 55,
      "outputs": []
    },
    {
      "cell_type": "code",
      "metadata": {
        "id": "QcF0f1aNfQEY"
      },
      "source": [
        ""
      ],
      "execution_count": null,
      "outputs": []
    },
    {
      "cell_type": "markdown",
      "metadata": {
        "id": "STZyncI72HU0"
      },
      "source": [
        "# [Advanced] How to use a proxy to hide our connection"
      ]
    },
    {
      "cell_type": "markdown",
      "metadata": {
        "id": "mCpjEkYGa5K4"
      },
      "source": [
        "RequestProxy is used to **hide** our connection..."
      ]
    },
    {
      "cell_type": "code",
      "metadata": {
        "id": "4Q1DZJTJ2pm8"
      },
      "source": [
        "!pip install http-request-randomizer"
      ],
      "execution_count": null,
      "outputs": []
    },
    {
      "cell_type": "code",
      "metadata": {
        "colab": {
          "base_uri": "https://localhost:8080/"
        },
        "id": "Y90JyVfdHcQ7",
        "outputId": "a321e9e3-ae59-48a6-9b27-8cb51ea80052"
      },
      "source": [
        "from http_request_randomizer.requests.proxy.requestProxy import RequestProxy\n",
        "req_proxy = RequestProxy()\n",
        "proxies = req_proxy.get_proxy_list()"
      ],
      "execution_count": 59,
      "outputs": [
        {
          "output_type": "stream",
          "text": [
            "2021-07-22 22:06:16,595 http_request_randomizer.requests.useragent.userAgent INFO     Using local file for user agents: /usr/local/lib/python3.7/dist-packages/http_request_randomizer/requests/proxy/../data/user_agents.txt\n",
            "2021-07-22 22:06:16,600 root   DEBUG    === Initialized Proxy Parsers ===\n",
            "2021-07-22 22:06:16,602 root   DEBUG    \t FreeProxy parser of 'http://free-proxy-list.net' with required bandwidth: '150' KBs\n",
            "2021-07-22 22:06:16,604 root   DEBUG    \t PremProxy parser of 'https://premproxy.com/list/' with required bandwidth: '150' KBs\n",
            "2021-07-22 22:06:16,606 root   DEBUG    \t SslProxy parser of 'https://www.sslproxies.org' with required bandwidth: '150' KBs\n",
            "2021-07-22 22:06:16,607 root   DEBUG    =================================\n",
            "2021-07-22 22:06:16,867 root   DEBUG    Added 300 proxies from FreeProxy\n",
            "2021-07-22 22:06:17,299 http_request_randomizer.requests.parsers.PremProxyParser WARNING  Proxy Provider url failed: https://premproxy.com/list/\n",
            "2021-07-22 22:06:17,300 http_request_randomizer.requests.parsers.PremProxyParser DEBUG    Pages: set()\n",
            "2021-07-22 22:06:17,647 http_request_randomizer.requests.parsers.PremProxyParser WARNING  Proxy Provider url failed: https://premproxy.com/list/\n",
            "2021-07-22 22:06:17,649 root   DEBUG    Added 0 proxies from PremProxy\n",
            "2021-07-22 22:06:17,812 root   DEBUG    Added 100 proxies from SslProxy\n",
            "2021-07-22 22:06:17,815 root   DEBUG    Total proxies = 400\n",
            "2021-07-22 22:06:17,817 root   DEBUG    Filtered proxies = 400\n"
          ],
          "name": "stderr"
        }
      ]
    },
    {
      "cell_type": "code",
      "metadata": {
        "colab": {
          "base_uri": "https://localhost:8080/"
        },
        "id": "Krm3ytiBHhZL",
        "outputId": "e7510d84-9364-418a-a4f7-0bc194df1a49"
      },
      "source": [
        "ind = [] #int is list of Italy proxy\n",
        "for proxy in proxies:\n",
        "    if proxy.country == 'Canada':\n",
        "        ind.append(proxy)\n",
        "\n",
        "PROXY = ind[0].get_address()\n",
        "print(PROXY)\n",
        "\n",
        "print(ind[0].country)"
      ],
      "execution_count": 82,
      "outputs": [
        {
          "output_type": "stream",
          "text": [
            "51.222.21.92:32768\n",
            "Canada\n"
          ],
          "name": "stdout"
        }
      ]
    },
    {
      "cell_type": "code",
      "metadata": {
        "id": "D6MLvqs9BIzI",
        "colab": {
          "base_uri": "https://localhost:8080/"
        },
        "outputId": "3e0b19fa-f71c-47fb-e8e5-c2b10d21e465"
      },
      "source": [
        "chrome_options.add_argument('--proxy-server=%s' % PROXY)\n",
        "\n",
        "wd = webdriver.Chrome('chromedriver',chrome_options=chrome_options)\n"
      ],
      "execution_count": 83,
      "outputs": [
        {
          "output_type": "stream",
          "text": [
            "/usr/local/lib/python3.7/dist-packages/ipykernel_launcher.py:3: DeprecationWarning: use options instead of chrome_options\n",
            "  This is separate from the ipykernel package so we can avoid doing imports until\n"
          ],
          "name": "stderr"
        }
      ]
    },
    {
      "cell_type": "code",
      "metadata": {
        "id": "eVqzse3ZQZRm"
      },
      "source": [
        "wd.set_window_size(1920, 1080)\n",
        "wd.get(\"https://whatismyipaddress.com/\")"
      ],
      "execution_count": null,
      "outputs": []
    },
    {
      "cell_type": "code",
      "metadata": {
        "id": "RBlUNQBjQjFR"
      },
      "source": [
        "wd.save_screenshot('screenshot.png')\n",
        "\n",
        "%pylab inline\n",
        "import matplotlib.pyplot as plt\n",
        "import matplotlib.image as mpimg\n",
        "img=mpimg.imread('/content/screenshot.png')\n",
        "imgplot = plt.imshow(img)\n",
        "plt.show()"
      ],
      "execution_count": null,
      "outputs": []
    },
    {
      "cell_type": "code",
      "metadata": {
        "id": "m6JGQ33JQxy0"
      },
      "source": [
        ""
      ],
      "execution_count": null,
      "outputs": []
    }
  ]
}