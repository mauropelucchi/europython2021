{
  "nbformat": 4,
  "nbformat_minor": 0,
  "metadata": {
    "colab": {
      "name": "2_Web_Scraping_with_Selenium.ipynb",
      "provenance": [],
      "collapsed_sections": [
        "STZyncI72HU0"
      ],
      "toc_visible": true
    },
    "kernelspec": {
      "name": "python3",
      "display_name": "Python 3"
    },
    "widgets": {
      "application/vnd.jupyter.widget-state+json": {
        "a3009a54ff914d818769a9fe6250457d": {
          "model_module": "@jupyter-widgets/controls",
          "model_name": "HBoxModel",
          "state": {
            "_view_name": "HBoxView",
            "_dom_classes": [],
            "_model_name": "HBoxModel",
            "_view_module": "@jupyter-widgets/controls",
            "_model_module_version": "1.5.0",
            "_view_count": null,
            "_view_module_version": "1.5.0",
            "box_style": "",
            "layout": "IPY_MODEL_75927df1cac248df84a60bfaf37a88f0",
            "_model_module": "@jupyter-widgets/controls",
            "children": [
              "IPY_MODEL_ed806bbee1bb47c5bb29eec5e774ba91",
              "IPY_MODEL_d36645ad762b4aa7b1d8b82e67a09b0d"
            ]
          }
        },
        "75927df1cac248df84a60bfaf37a88f0": {
          "model_module": "@jupyter-widgets/base",
          "model_name": "LayoutModel",
          "state": {
            "_view_name": "LayoutView",
            "grid_template_rows": null,
            "right": null,
            "justify_content": null,
            "_view_module": "@jupyter-widgets/base",
            "overflow": null,
            "_model_module_version": "1.2.0",
            "_view_count": null,
            "flex_flow": null,
            "width": null,
            "min_width": null,
            "border": null,
            "align_items": null,
            "bottom": null,
            "_model_module": "@jupyter-widgets/base",
            "top": null,
            "grid_column": null,
            "overflow_y": null,
            "overflow_x": null,
            "grid_auto_flow": null,
            "grid_area": null,
            "grid_template_columns": null,
            "flex": null,
            "_model_name": "LayoutModel",
            "justify_items": null,
            "grid_row": null,
            "max_height": null,
            "align_content": null,
            "visibility": null,
            "align_self": null,
            "height": null,
            "min_height": null,
            "padding": null,
            "grid_auto_rows": null,
            "grid_gap": null,
            "max_width": null,
            "order": null,
            "_view_module_version": "1.2.0",
            "grid_template_areas": null,
            "object_position": null,
            "object_fit": null,
            "grid_auto_columns": null,
            "margin": null,
            "display": null,
            "left": null
          }
        },
        "ed806bbee1bb47c5bb29eec5e774ba91": {
          "model_module": "@jupyter-widgets/controls",
          "model_name": "FloatProgressModel",
          "state": {
            "_view_name": "ProgressView",
            "style": "IPY_MODEL_cb1b57e8ba97449b84f2d95701d8ca54",
            "_dom_classes": [],
            "description": "100%",
            "_model_name": "FloatProgressModel",
            "bar_style": "success",
            "max": 12,
            "_view_module": "@jupyter-widgets/controls",
            "_model_module_version": "1.5.0",
            "value": 12,
            "_view_count": null,
            "_view_module_version": "1.5.0",
            "orientation": "horizontal",
            "min": 0,
            "description_tooltip": null,
            "_model_module": "@jupyter-widgets/controls",
            "layout": "IPY_MODEL_cc0bb67917e84018b348257bdd95cae4"
          }
        },
        "d36645ad762b4aa7b1d8b82e67a09b0d": {
          "model_module": "@jupyter-widgets/controls",
          "model_name": "HTMLModel",
          "state": {
            "_view_name": "HTMLView",
            "style": "IPY_MODEL_a4352636d7f8451182ce661c8d9197b9",
            "_dom_classes": [],
            "description": "",
            "_model_name": "HTMLModel",
            "placeholder": "​",
            "_view_module": "@jupyter-widgets/controls",
            "_model_module_version": "1.5.0",
            "value": " 12/12 [00:07&lt;00:00,  1.54it/s]",
            "_view_count": null,
            "_view_module_version": "1.5.0",
            "description_tooltip": null,
            "_model_module": "@jupyter-widgets/controls",
            "layout": "IPY_MODEL_1b73fc958faa443a87f306e76c118c54"
          }
        },
        "cb1b57e8ba97449b84f2d95701d8ca54": {
          "model_module": "@jupyter-widgets/controls",
          "model_name": "ProgressStyleModel",
          "state": {
            "_view_name": "StyleView",
            "_model_name": "ProgressStyleModel",
            "description_width": "initial",
            "_view_module": "@jupyter-widgets/base",
            "_model_module_version": "1.5.0",
            "_view_count": null,
            "_view_module_version": "1.2.0",
            "bar_color": null,
            "_model_module": "@jupyter-widgets/controls"
          }
        },
        "cc0bb67917e84018b348257bdd95cae4": {
          "model_module": "@jupyter-widgets/base",
          "model_name": "LayoutModel",
          "state": {
            "_view_name": "LayoutView",
            "grid_template_rows": null,
            "right": null,
            "justify_content": null,
            "_view_module": "@jupyter-widgets/base",
            "overflow": null,
            "_model_module_version": "1.2.0",
            "_view_count": null,
            "flex_flow": null,
            "width": null,
            "min_width": null,
            "border": null,
            "align_items": null,
            "bottom": null,
            "_model_module": "@jupyter-widgets/base",
            "top": null,
            "grid_column": null,
            "overflow_y": null,
            "overflow_x": null,
            "grid_auto_flow": null,
            "grid_area": null,
            "grid_template_columns": null,
            "flex": null,
            "_model_name": "LayoutModel",
            "justify_items": null,
            "grid_row": null,
            "max_height": null,
            "align_content": null,
            "visibility": null,
            "align_self": null,
            "height": null,
            "min_height": null,
            "padding": null,
            "grid_auto_rows": null,
            "grid_gap": null,
            "max_width": null,
            "order": null,
            "_view_module_version": "1.2.0",
            "grid_template_areas": null,
            "object_position": null,
            "object_fit": null,
            "grid_auto_columns": null,
            "margin": null,
            "display": null,
            "left": null
          }
        },
        "a4352636d7f8451182ce661c8d9197b9": {
          "model_module": "@jupyter-widgets/controls",
          "model_name": "DescriptionStyleModel",
          "state": {
            "_view_name": "StyleView",
            "_model_name": "DescriptionStyleModel",
            "description_width": "",
            "_view_module": "@jupyter-widgets/base",
            "_model_module_version": "1.5.0",
            "_view_count": null,
            "_view_module_version": "1.2.0",
            "_model_module": "@jupyter-widgets/controls"
          }
        },
        "1b73fc958faa443a87f306e76c118c54": {
          "model_module": "@jupyter-widgets/base",
          "model_name": "LayoutModel",
          "state": {
            "_view_name": "LayoutView",
            "grid_template_rows": null,
            "right": null,
            "justify_content": null,
            "_view_module": "@jupyter-widgets/base",
            "overflow": null,
            "_model_module_version": "1.2.0",
            "_view_count": null,
            "flex_flow": null,
            "width": null,
            "min_width": null,
            "border": null,
            "align_items": null,
            "bottom": null,
            "_model_module": "@jupyter-widgets/base",
            "top": null,
            "grid_column": null,
            "overflow_y": null,
            "overflow_x": null,
            "grid_auto_flow": null,
            "grid_area": null,
            "grid_template_columns": null,
            "flex": null,
            "_model_name": "LayoutModel",
            "justify_items": null,
            "grid_row": null,
            "max_height": null,
            "align_content": null,
            "visibility": null,
            "align_self": null,
            "height": null,
            "min_height": null,
            "padding": null,
            "grid_auto_rows": null,
            "grid_gap": null,
            "max_width": null,
            "order": null,
            "_view_module_version": "1.2.0",
            "grid_template_areas": null,
            "object_position": null,
            "object_fit": null,
            "grid_auto_columns": null,
            "margin": null,
            "display": null,
            "left": null
          }
        },
        "3aa951e4285c45b29e6308c524a9654d": {
          "model_module": "@jupyter-widgets/controls",
          "model_name": "HBoxModel",
          "state": {
            "_view_name": "HBoxView",
            "_dom_classes": [],
            "_model_name": "HBoxModel",
            "_view_module": "@jupyter-widgets/controls",
            "_model_module_version": "1.5.0",
            "_view_count": null,
            "_view_module_version": "1.5.0",
            "box_style": "",
            "layout": "IPY_MODEL_c2477e4a8c194b80abc21c87905f36a6",
            "_model_module": "@jupyter-widgets/controls",
            "children": [
              "IPY_MODEL_f6e2fd947eec42dba3feaf9aaa402efd",
              "IPY_MODEL_f8628214cf93475da59835abcf4f1ff2"
            ]
          }
        },
        "c2477e4a8c194b80abc21c87905f36a6": {
          "model_module": "@jupyter-widgets/base",
          "model_name": "LayoutModel",
          "state": {
            "_view_name": "LayoutView",
            "grid_template_rows": null,
            "right": null,
            "justify_content": null,
            "_view_module": "@jupyter-widgets/base",
            "overflow": null,
            "_model_module_version": "1.2.0",
            "_view_count": null,
            "flex_flow": null,
            "width": null,
            "min_width": null,
            "border": null,
            "align_items": null,
            "bottom": null,
            "_model_module": "@jupyter-widgets/base",
            "top": null,
            "grid_column": null,
            "overflow_y": null,
            "overflow_x": null,
            "grid_auto_flow": null,
            "grid_area": null,
            "grid_template_columns": null,
            "flex": null,
            "_model_name": "LayoutModel",
            "justify_items": null,
            "grid_row": null,
            "max_height": null,
            "align_content": null,
            "visibility": null,
            "align_self": null,
            "height": null,
            "min_height": null,
            "padding": null,
            "grid_auto_rows": null,
            "grid_gap": null,
            "max_width": null,
            "order": null,
            "_view_module_version": "1.2.0",
            "grid_template_areas": null,
            "object_position": null,
            "object_fit": null,
            "grid_auto_columns": null,
            "margin": null,
            "display": null,
            "left": null
          }
        },
        "f6e2fd947eec42dba3feaf9aaa402efd": {
          "model_module": "@jupyter-widgets/controls",
          "model_name": "FloatProgressModel",
          "state": {
            "_view_name": "ProgressView",
            "style": "IPY_MODEL_b875f134126a461d9e99b835e18d94c1",
            "_dom_classes": [],
            "description": "100%",
            "_model_name": "FloatProgressModel",
            "bar_style": "success",
            "max": 9,
            "_view_module": "@jupyter-widgets/controls",
            "_model_module_version": "1.5.0",
            "value": 9,
            "_view_count": null,
            "_view_module_version": "1.5.0",
            "orientation": "horizontal",
            "min": 0,
            "description_tooltip": null,
            "_model_module": "@jupyter-widgets/controls",
            "layout": "IPY_MODEL_f6662212fc5d45ce9a58d35b116fd0e4"
          }
        },
        "f8628214cf93475da59835abcf4f1ff2": {
          "model_module": "@jupyter-widgets/controls",
          "model_name": "HTMLModel",
          "state": {
            "_view_name": "HTMLView",
            "style": "IPY_MODEL_f02c0fc9c0c64e9fb11cf856b5ae24b8",
            "_dom_classes": [],
            "description": "",
            "_model_name": "HTMLModel",
            "placeholder": "​",
            "_view_module": "@jupyter-widgets/controls",
            "_model_module_version": "1.5.0",
            "value": " 9/9 [10:28&lt;00:00, 69.78s/it]",
            "_view_count": null,
            "_view_module_version": "1.5.0",
            "description_tooltip": null,
            "_model_module": "@jupyter-widgets/controls",
            "layout": "IPY_MODEL_20f69a4838de458bb72f57d8cef0b3c6"
          }
        },
        "b875f134126a461d9e99b835e18d94c1": {
          "model_module": "@jupyter-widgets/controls",
          "model_name": "ProgressStyleModel",
          "state": {
            "_view_name": "StyleView",
            "_model_name": "ProgressStyleModel",
            "description_width": "initial",
            "_view_module": "@jupyter-widgets/base",
            "_model_module_version": "1.5.0",
            "_view_count": null,
            "_view_module_version": "1.2.0",
            "bar_color": null,
            "_model_module": "@jupyter-widgets/controls"
          }
        },
        "f6662212fc5d45ce9a58d35b116fd0e4": {
          "model_module": "@jupyter-widgets/base",
          "model_name": "LayoutModel",
          "state": {
            "_view_name": "LayoutView",
            "grid_template_rows": null,
            "right": null,
            "justify_content": null,
            "_view_module": "@jupyter-widgets/base",
            "overflow": null,
            "_model_module_version": "1.2.0",
            "_view_count": null,
            "flex_flow": null,
            "width": null,
            "min_width": null,
            "border": null,
            "align_items": null,
            "bottom": null,
            "_model_module": "@jupyter-widgets/base",
            "top": null,
            "grid_column": null,
            "overflow_y": null,
            "overflow_x": null,
            "grid_auto_flow": null,
            "grid_area": null,
            "grid_template_columns": null,
            "flex": null,
            "_model_name": "LayoutModel",
            "justify_items": null,
            "grid_row": null,
            "max_height": null,
            "align_content": null,
            "visibility": null,
            "align_self": null,
            "height": null,
            "min_height": null,
            "padding": null,
            "grid_auto_rows": null,
            "grid_gap": null,
            "max_width": null,
            "order": null,
            "_view_module_version": "1.2.0",
            "grid_template_areas": null,
            "object_position": null,
            "object_fit": null,
            "grid_auto_columns": null,
            "margin": null,
            "display": null,
            "left": null
          }
        },
        "f02c0fc9c0c64e9fb11cf856b5ae24b8": {
          "model_module": "@jupyter-widgets/controls",
          "model_name": "DescriptionStyleModel",
          "state": {
            "_view_name": "StyleView",
            "_model_name": "DescriptionStyleModel",
            "description_width": "",
            "_view_module": "@jupyter-widgets/base",
            "_model_module_version": "1.5.0",
            "_view_count": null,
            "_view_module_version": "1.2.0",
            "_model_module": "@jupyter-widgets/controls"
          }
        },
        "20f69a4838de458bb72f57d8cef0b3c6": {
          "model_module": "@jupyter-widgets/base",
          "model_name": "LayoutModel",
          "state": {
            "_view_name": "LayoutView",
            "grid_template_rows": null,
            "right": null,
            "justify_content": null,
            "_view_module": "@jupyter-widgets/base",
            "overflow": null,
            "_model_module_version": "1.2.0",
            "_view_count": null,
            "flex_flow": null,
            "width": null,
            "min_width": null,
            "border": null,
            "align_items": null,
            "bottom": null,
            "_model_module": "@jupyter-widgets/base",
            "top": null,
            "grid_column": null,
            "overflow_y": null,
            "overflow_x": null,
            "grid_auto_flow": null,
            "grid_area": null,
            "grid_template_columns": null,
            "flex": null,
            "_model_name": "LayoutModel",
            "justify_items": null,
            "grid_row": null,
            "max_height": null,
            "align_content": null,
            "visibility": null,
            "align_self": null,
            "height": null,
            "min_height": null,
            "padding": null,
            "grid_auto_rows": null,
            "grid_gap": null,
            "max_width": null,
            "order": null,
            "_view_module_version": "1.2.0",
            "grid_template_areas": null,
            "object_position": null,
            "object_fit": null,
            "grid_auto_columns": null,
            "margin": null,
            "display": null,
            "left": null
          }
        },
        "022de65daae44f5ca0d3337b0d053e44": {
          "model_module": "@jupyter-widgets/controls",
          "model_name": "HBoxModel",
          "state": {
            "_view_name": "HBoxView",
            "_dom_classes": [],
            "_model_name": "HBoxModel",
            "_view_module": "@jupyter-widgets/controls",
            "_model_module_version": "1.5.0",
            "_view_count": null,
            "_view_module_version": "1.5.0",
            "box_style": "",
            "layout": "IPY_MODEL_60bac748e84943f7a668fb90f5f2c474",
            "_model_module": "@jupyter-widgets/controls",
            "children": [
              "IPY_MODEL_c9180ad581ee4f299f13e274c0dea4ac",
              "IPY_MODEL_161b771a744c409db314a8c6619bbe4f"
            ]
          }
        },
        "60bac748e84943f7a668fb90f5f2c474": {
          "model_module": "@jupyter-widgets/base",
          "model_name": "LayoutModel",
          "state": {
            "_view_name": "LayoutView",
            "grid_template_rows": null,
            "right": null,
            "justify_content": null,
            "_view_module": "@jupyter-widgets/base",
            "overflow": null,
            "_model_module_version": "1.2.0",
            "_view_count": null,
            "flex_flow": null,
            "width": null,
            "min_width": null,
            "border": null,
            "align_items": null,
            "bottom": null,
            "_model_module": "@jupyter-widgets/base",
            "top": null,
            "grid_column": null,
            "overflow_y": null,
            "overflow_x": null,
            "grid_auto_flow": null,
            "grid_area": null,
            "grid_template_columns": null,
            "flex": null,
            "_model_name": "LayoutModel",
            "justify_items": null,
            "grid_row": null,
            "max_height": null,
            "align_content": null,
            "visibility": null,
            "align_self": null,
            "height": null,
            "min_height": null,
            "padding": null,
            "grid_auto_rows": null,
            "grid_gap": null,
            "max_width": null,
            "order": null,
            "_view_module_version": "1.2.0",
            "grid_template_areas": null,
            "object_position": null,
            "object_fit": null,
            "grid_auto_columns": null,
            "margin": null,
            "display": null,
            "left": null
          }
        },
        "c9180ad581ee4f299f13e274c0dea4ac": {
          "model_module": "@jupyter-widgets/controls",
          "model_name": "FloatProgressModel",
          "state": {
            "_view_name": "ProgressView",
            "style": "IPY_MODEL_1ecf5d34d6b8415da7970623e9fb7101",
            "_dom_classes": [],
            "description": "100%",
            "_model_name": "FloatProgressModel",
            "bar_style": "success",
            "max": 100,
            "_view_module": "@jupyter-widgets/controls",
            "_model_module_version": "1.5.0",
            "value": 100,
            "_view_count": null,
            "_view_module_version": "1.5.0",
            "orientation": "horizontal",
            "min": 0,
            "description_tooltip": null,
            "_model_module": "@jupyter-widgets/controls",
            "layout": "IPY_MODEL_72b3affae8fd4272b84a62e490194060"
          }
        },
        "161b771a744c409db314a8c6619bbe4f": {
          "model_module": "@jupyter-widgets/controls",
          "model_name": "HTMLModel",
          "state": {
            "_view_name": "HTMLView",
            "style": "IPY_MODEL_6cd2e03bd4ae4fcda0ebbc180fb1069d",
            "_dom_classes": [],
            "description": "",
            "_model_name": "HTMLModel",
            "placeholder": "​",
            "_view_module": "@jupyter-widgets/controls",
            "_model_module_version": "1.5.0",
            "value": " 100/100 [07:26&lt;00:00,  4.46s/it]",
            "_view_count": null,
            "_view_module_version": "1.5.0",
            "description_tooltip": null,
            "_model_module": "@jupyter-widgets/controls",
            "layout": "IPY_MODEL_fb17cf3ff635471eae0f8702b5bfd35e"
          }
        },
        "1ecf5d34d6b8415da7970623e9fb7101": {
          "model_module": "@jupyter-widgets/controls",
          "model_name": "ProgressStyleModel",
          "state": {
            "_view_name": "StyleView",
            "_model_name": "ProgressStyleModel",
            "description_width": "initial",
            "_view_module": "@jupyter-widgets/base",
            "_model_module_version": "1.5.0",
            "_view_count": null,
            "_view_module_version": "1.2.0",
            "bar_color": null,
            "_model_module": "@jupyter-widgets/controls"
          }
        },
        "72b3affae8fd4272b84a62e490194060": {
          "model_module": "@jupyter-widgets/base",
          "model_name": "LayoutModel",
          "state": {
            "_view_name": "LayoutView",
            "grid_template_rows": null,
            "right": null,
            "justify_content": null,
            "_view_module": "@jupyter-widgets/base",
            "overflow": null,
            "_model_module_version": "1.2.0",
            "_view_count": null,
            "flex_flow": null,
            "width": null,
            "min_width": null,
            "border": null,
            "align_items": null,
            "bottom": null,
            "_model_module": "@jupyter-widgets/base",
            "top": null,
            "grid_column": null,
            "overflow_y": null,
            "overflow_x": null,
            "grid_auto_flow": null,
            "grid_area": null,
            "grid_template_columns": null,
            "flex": null,
            "_model_name": "LayoutModel",
            "justify_items": null,
            "grid_row": null,
            "max_height": null,
            "align_content": null,
            "visibility": null,
            "align_self": null,
            "height": null,
            "min_height": null,
            "padding": null,
            "grid_auto_rows": null,
            "grid_gap": null,
            "max_width": null,
            "order": null,
            "_view_module_version": "1.2.0",
            "grid_template_areas": null,
            "object_position": null,
            "object_fit": null,
            "grid_auto_columns": null,
            "margin": null,
            "display": null,
            "left": null
          }
        },
        "6cd2e03bd4ae4fcda0ebbc180fb1069d": {
          "model_module": "@jupyter-widgets/controls",
          "model_name": "DescriptionStyleModel",
          "state": {
            "_view_name": "StyleView",
            "_model_name": "DescriptionStyleModel",
            "description_width": "",
            "_view_module": "@jupyter-widgets/base",
            "_model_module_version": "1.5.0",
            "_view_count": null,
            "_view_module_version": "1.2.0",
            "_model_module": "@jupyter-widgets/controls"
          }
        },
        "fb17cf3ff635471eae0f8702b5bfd35e": {
          "model_module": "@jupyter-widgets/base",
          "model_name": "LayoutModel",
          "state": {
            "_view_name": "LayoutView",
            "grid_template_rows": null,
            "right": null,
            "justify_content": null,
            "_view_module": "@jupyter-widgets/base",
            "overflow": null,
            "_model_module_version": "1.2.0",
            "_view_count": null,
            "flex_flow": null,
            "width": null,
            "min_width": null,
            "border": null,
            "align_items": null,
            "bottom": null,
            "_model_module": "@jupyter-widgets/base",
            "top": null,
            "grid_column": null,
            "overflow_y": null,
            "overflow_x": null,
            "grid_auto_flow": null,
            "grid_area": null,
            "grid_template_columns": null,
            "flex": null,
            "_model_name": "LayoutModel",
            "justify_items": null,
            "grid_row": null,
            "max_height": null,
            "align_content": null,
            "visibility": null,
            "align_self": null,
            "height": null,
            "min_height": null,
            "padding": null,
            "grid_auto_rows": null,
            "grid_gap": null,
            "max_width": null,
            "order": null,
            "_view_module_version": "1.2.0",
            "grid_template_areas": null,
            "object_position": null,
            "object_fit": null,
            "grid_auto_columns": null,
            "margin": null,
            "display": null,
            "left": null
          }
        },
        "375adec6885442458cc47c1cb6c9bada": {
          "model_module": "@jupyter-widgets/controls",
          "model_name": "HBoxModel",
          "state": {
            "_view_name": "HBoxView",
            "_dom_classes": [],
            "_model_name": "HBoxModel",
            "_view_module": "@jupyter-widgets/controls",
            "_model_module_version": "1.5.0",
            "_view_count": null,
            "_view_module_version": "1.5.0",
            "box_style": "",
            "layout": "IPY_MODEL_d9e139f6bd324c89b18667854f8d82c3",
            "_model_module": "@jupyter-widgets/controls",
            "children": [
              "IPY_MODEL_b1fcc3543bcb43b59d215dcb60a96842",
              "IPY_MODEL_0991f70f8d1047fcb656e70426b4524f"
            ]
          }
        },
        "d9e139f6bd324c89b18667854f8d82c3": {
          "model_module": "@jupyter-widgets/base",
          "model_name": "LayoutModel",
          "state": {
            "_view_name": "LayoutView",
            "grid_template_rows": null,
            "right": null,
            "justify_content": null,
            "_view_module": "@jupyter-widgets/base",
            "overflow": null,
            "_model_module_version": "1.2.0",
            "_view_count": null,
            "flex_flow": null,
            "width": null,
            "min_width": null,
            "border": null,
            "align_items": null,
            "bottom": null,
            "_model_module": "@jupyter-widgets/base",
            "top": null,
            "grid_column": null,
            "overflow_y": null,
            "overflow_x": null,
            "grid_auto_flow": null,
            "grid_area": null,
            "grid_template_columns": null,
            "flex": null,
            "_model_name": "LayoutModel",
            "justify_items": null,
            "grid_row": null,
            "max_height": null,
            "align_content": null,
            "visibility": null,
            "align_self": null,
            "height": null,
            "min_height": null,
            "padding": null,
            "grid_auto_rows": null,
            "grid_gap": null,
            "max_width": null,
            "order": null,
            "_view_module_version": "1.2.0",
            "grid_template_areas": null,
            "object_position": null,
            "object_fit": null,
            "grid_auto_columns": null,
            "margin": null,
            "display": null,
            "left": null
          }
        },
        "b1fcc3543bcb43b59d215dcb60a96842": {
          "model_module": "@jupyter-widgets/controls",
          "model_name": "FloatProgressModel",
          "state": {
            "_view_name": "ProgressView",
            "style": "IPY_MODEL_63cdb0343d914ecabe5e8a409d0bf2a4",
            "_dom_classes": [],
            "description": "100%",
            "_model_name": "FloatProgressModel",
            "bar_style": "success",
            "max": 116,
            "_view_module": "@jupyter-widgets/controls",
            "_model_module_version": "1.5.0",
            "value": 116,
            "_view_count": null,
            "_view_module_version": "1.5.0",
            "orientation": "horizontal",
            "min": 0,
            "description_tooltip": null,
            "_model_module": "@jupyter-widgets/controls",
            "layout": "IPY_MODEL_fa963100e84444059393b622be4ac364"
          }
        },
        "0991f70f8d1047fcb656e70426b4524f": {
          "model_module": "@jupyter-widgets/controls",
          "model_name": "HTMLModel",
          "state": {
            "_view_name": "HTMLView",
            "style": "IPY_MODEL_8e7fdda7aa94453db2ece0881ca60f8b",
            "_dom_classes": [],
            "description": "",
            "_model_name": "HTMLModel",
            "placeholder": "​",
            "_view_module": "@jupyter-widgets/controls",
            "_model_module_version": "1.5.0",
            "value": " 116/116 [05:28&lt;00:00,  2.83s/it]",
            "_view_count": null,
            "_view_module_version": "1.5.0",
            "description_tooltip": null,
            "_model_module": "@jupyter-widgets/controls",
            "layout": "IPY_MODEL_d2c3fff7378f4461b2de07a64a7b4921"
          }
        },
        "63cdb0343d914ecabe5e8a409d0bf2a4": {
          "model_module": "@jupyter-widgets/controls",
          "model_name": "ProgressStyleModel",
          "state": {
            "_view_name": "StyleView",
            "_model_name": "ProgressStyleModel",
            "description_width": "initial",
            "_view_module": "@jupyter-widgets/base",
            "_model_module_version": "1.5.0",
            "_view_count": null,
            "_view_module_version": "1.2.0",
            "bar_color": null,
            "_model_module": "@jupyter-widgets/controls"
          }
        },
        "fa963100e84444059393b622be4ac364": {
          "model_module": "@jupyter-widgets/base",
          "model_name": "LayoutModel",
          "state": {
            "_view_name": "LayoutView",
            "grid_template_rows": null,
            "right": null,
            "justify_content": null,
            "_view_module": "@jupyter-widgets/base",
            "overflow": null,
            "_model_module_version": "1.2.0",
            "_view_count": null,
            "flex_flow": null,
            "width": null,
            "min_width": null,
            "border": null,
            "align_items": null,
            "bottom": null,
            "_model_module": "@jupyter-widgets/base",
            "top": null,
            "grid_column": null,
            "overflow_y": null,
            "overflow_x": null,
            "grid_auto_flow": null,
            "grid_area": null,
            "grid_template_columns": null,
            "flex": null,
            "_model_name": "LayoutModel",
            "justify_items": null,
            "grid_row": null,
            "max_height": null,
            "align_content": null,
            "visibility": null,
            "align_self": null,
            "height": null,
            "min_height": null,
            "padding": null,
            "grid_auto_rows": null,
            "grid_gap": null,
            "max_width": null,
            "order": null,
            "_view_module_version": "1.2.0",
            "grid_template_areas": null,
            "object_position": null,
            "object_fit": null,
            "grid_auto_columns": null,
            "margin": null,
            "display": null,
            "left": null
          }
        },
        "8e7fdda7aa94453db2ece0881ca60f8b": {
          "model_module": "@jupyter-widgets/controls",
          "model_name": "DescriptionStyleModel",
          "state": {
            "_view_name": "StyleView",
            "_model_name": "DescriptionStyleModel",
            "description_width": "",
            "_view_module": "@jupyter-widgets/base",
            "_model_module_version": "1.5.0",
            "_view_count": null,
            "_view_module_version": "1.2.0",
            "_model_module": "@jupyter-widgets/controls"
          }
        },
        "d2c3fff7378f4461b2de07a64a7b4921": {
          "model_module": "@jupyter-widgets/base",
          "model_name": "LayoutModel",
          "state": {
            "_view_name": "LayoutView",
            "grid_template_rows": null,
            "right": null,
            "justify_content": null,
            "_view_module": "@jupyter-widgets/base",
            "overflow": null,
            "_model_module_version": "1.2.0",
            "_view_count": null,
            "flex_flow": null,
            "width": null,
            "min_width": null,
            "border": null,
            "align_items": null,
            "bottom": null,
            "_model_module": "@jupyter-widgets/base",
            "top": null,
            "grid_column": null,
            "overflow_y": null,
            "overflow_x": null,
            "grid_auto_flow": null,
            "grid_area": null,
            "grid_template_columns": null,
            "flex": null,
            "_model_name": "LayoutModel",
            "justify_items": null,
            "grid_row": null,
            "max_height": null,
            "align_content": null,
            "visibility": null,
            "align_self": null,
            "height": null,
            "min_height": null,
            "padding": null,
            "grid_auto_rows": null,
            "grid_gap": null,
            "max_width": null,
            "order": null,
            "_view_module_version": "1.2.0",
            "grid_template_areas": null,
            "object_position": null,
            "object_fit": null,
            "grid_auto_columns": null,
            "margin": null,
            "display": null,
            "left": null
          }
        },
        "816d246dd52d4ac58161eee7a44f6253": {
          "model_module": "@jupyter-widgets/controls",
          "model_name": "HBoxModel",
          "state": {
            "_view_name": "HBoxView",
            "_dom_classes": [],
            "_model_name": "HBoxModel",
            "_view_module": "@jupyter-widgets/controls",
            "_model_module_version": "1.5.0",
            "_view_count": null,
            "_view_module_version": "1.5.0",
            "box_style": "",
            "layout": "IPY_MODEL_f907e35c233548be931132d4ef9d1bca",
            "_model_module": "@jupyter-widgets/controls",
            "children": [
              "IPY_MODEL_d0e0803ddab3431cb927fbeb3e7e7266",
              "IPY_MODEL_4b73f02c7c414ab985e9afa4c980587c"
            ]
          }
        },
        "f907e35c233548be931132d4ef9d1bca": {
          "model_module": "@jupyter-widgets/base",
          "model_name": "LayoutModel",
          "state": {
            "_view_name": "LayoutView",
            "grid_template_rows": null,
            "right": null,
            "justify_content": null,
            "_view_module": "@jupyter-widgets/base",
            "overflow": null,
            "_model_module_version": "1.2.0",
            "_view_count": null,
            "flex_flow": null,
            "width": null,
            "min_width": null,
            "border": null,
            "align_items": null,
            "bottom": null,
            "_model_module": "@jupyter-widgets/base",
            "top": null,
            "grid_column": null,
            "overflow_y": null,
            "overflow_x": null,
            "grid_auto_flow": null,
            "grid_area": null,
            "grid_template_columns": null,
            "flex": null,
            "_model_name": "LayoutModel",
            "justify_items": null,
            "grid_row": null,
            "max_height": null,
            "align_content": null,
            "visibility": null,
            "align_self": null,
            "height": null,
            "min_height": null,
            "padding": null,
            "grid_auto_rows": null,
            "grid_gap": null,
            "max_width": null,
            "order": null,
            "_view_module_version": "1.2.0",
            "grid_template_areas": null,
            "object_position": null,
            "object_fit": null,
            "grid_auto_columns": null,
            "margin": null,
            "display": null,
            "left": null
          }
        },
        "d0e0803ddab3431cb927fbeb3e7e7266": {
          "model_module": "@jupyter-widgets/controls",
          "model_name": "FloatProgressModel",
          "state": {
            "_view_name": "ProgressView",
            "style": "IPY_MODEL_8936e0ea6ab348d8874475988043dd0a",
            "_dom_classes": [],
            "description": "100%",
            "_model_name": "FloatProgressModel",
            "bar_style": "success",
            "max": 116,
            "_view_module": "@jupyter-widgets/controls",
            "_model_module_version": "1.5.0",
            "value": 116,
            "_view_count": null,
            "_view_module_version": "1.5.0",
            "orientation": "horizontal",
            "min": 0,
            "description_tooltip": null,
            "_model_module": "@jupyter-widgets/controls",
            "layout": "IPY_MODEL_62367c27189f47a5b3ea74de2252fc62"
          }
        },
        "4b73f02c7c414ab985e9afa4c980587c": {
          "model_module": "@jupyter-widgets/controls",
          "model_name": "HTMLModel",
          "state": {
            "_view_name": "HTMLView",
            "style": "IPY_MODEL_b7d39d97f22140e2a43bc55ee3296f9a",
            "_dom_classes": [],
            "description": "",
            "_model_name": "HTMLModel",
            "placeholder": "​",
            "_view_module": "@jupyter-widgets/controls",
            "_model_module_version": "1.5.0",
            "value": " 116/116 [00:22&lt;00:00,  5.25it/s]",
            "_view_count": null,
            "_view_module_version": "1.5.0",
            "description_tooltip": null,
            "_model_module": "@jupyter-widgets/controls",
            "layout": "IPY_MODEL_071cc3bd43a9498cb5f7c2d78c76ac16"
          }
        },
        "8936e0ea6ab348d8874475988043dd0a": {
          "model_module": "@jupyter-widgets/controls",
          "model_name": "ProgressStyleModel",
          "state": {
            "_view_name": "StyleView",
            "_model_name": "ProgressStyleModel",
            "description_width": "initial",
            "_view_module": "@jupyter-widgets/base",
            "_model_module_version": "1.5.0",
            "_view_count": null,
            "_view_module_version": "1.2.0",
            "bar_color": null,
            "_model_module": "@jupyter-widgets/controls"
          }
        },
        "62367c27189f47a5b3ea74de2252fc62": {
          "model_module": "@jupyter-widgets/base",
          "model_name": "LayoutModel",
          "state": {
            "_view_name": "LayoutView",
            "grid_template_rows": null,
            "right": null,
            "justify_content": null,
            "_view_module": "@jupyter-widgets/base",
            "overflow": null,
            "_model_module_version": "1.2.0",
            "_view_count": null,
            "flex_flow": null,
            "width": null,
            "min_width": null,
            "border": null,
            "align_items": null,
            "bottom": null,
            "_model_module": "@jupyter-widgets/base",
            "top": null,
            "grid_column": null,
            "overflow_y": null,
            "overflow_x": null,
            "grid_auto_flow": null,
            "grid_area": null,
            "grid_template_columns": null,
            "flex": null,
            "_model_name": "LayoutModel",
            "justify_items": null,
            "grid_row": null,
            "max_height": null,
            "align_content": null,
            "visibility": null,
            "align_self": null,
            "height": null,
            "min_height": null,
            "padding": null,
            "grid_auto_rows": null,
            "grid_gap": null,
            "max_width": null,
            "order": null,
            "_view_module_version": "1.2.0",
            "grid_template_areas": null,
            "object_position": null,
            "object_fit": null,
            "grid_auto_columns": null,
            "margin": null,
            "display": null,
            "left": null
          }
        },
        "b7d39d97f22140e2a43bc55ee3296f9a": {
          "model_module": "@jupyter-widgets/controls",
          "model_name": "DescriptionStyleModel",
          "state": {
            "_view_name": "StyleView",
            "_model_name": "DescriptionStyleModel",
            "description_width": "",
            "_view_module": "@jupyter-widgets/base",
            "_model_module_version": "1.5.0",
            "_view_count": null,
            "_view_module_version": "1.2.0",
            "_model_module": "@jupyter-widgets/controls"
          }
        },
        "071cc3bd43a9498cb5f7c2d78c76ac16": {
          "model_module": "@jupyter-widgets/base",
          "model_name": "LayoutModel",
          "state": {
            "_view_name": "LayoutView",
            "grid_template_rows": null,
            "right": null,
            "justify_content": null,
            "_view_module": "@jupyter-widgets/base",
            "overflow": null,
            "_model_module_version": "1.2.0",
            "_view_count": null,
            "flex_flow": null,
            "width": null,
            "min_width": null,
            "border": null,
            "align_items": null,
            "bottom": null,
            "_model_module": "@jupyter-widgets/base",
            "top": null,
            "grid_column": null,
            "overflow_y": null,
            "overflow_x": null,
            "grid_auto_flow": null,
            "grid_area": null,
            "grid_template_columns": null,
            "flex": null,
            "_model_name": "LayoutModel",
            "justify_items": null,
            "grid_row": null,
            "max_height": null,
            "align_content": null,
            "visibility": null,
            "align_self": null,
            "height": null,
            "min_height": null,
            "padding": null,
            "grid_auto_rows": null,
            "grid_gap": null,
            "max_width": null,
            "order": null,
            "_view_module_version": "1.2.0",
            "grid_template_areas": null,
            "object_position": null,
            "object_fit": null,
            "grid_auto_columns": null,
            "margin": null,
            "display": null,
            "left": null
          }
        },
        "e6631c65cfaf4ffbabd08367bf74de4e": {
          "model_module": "@jupyter-widgets/controls",
          "model_name": "HBoxModel",
          "state": {
            "_view_name": "HBoxView",
            "_dom_classes": [],
            "_model_name": "HBoxModel",
            "_view_module": "@jupyter-widgets/controls",
            "_model_module_version": "1.5.0",
            "_view_count": null,
            "_view_module_version": "1.5.0",
            "box_style": "",
            "layout": "IPY_MODEL_c3791a127f874cff99a0089be56405ea",
            "_model_module": "@jupyter-widgets/controls",
            "children": [
              "IPY_MODEL_1c4ebcda2a02430e954ecf8725775b6c",
              "IPY_MODEL_c050b27732f341a0bfca5d294ed94cf0"
            ]
          }
        },
        "c3791a127f874cff99a0089be56405ea": {
          "model_module": "@jupyter-widgets/base",
          "model_name": "LayoutModel",
          "state": {
            "_view_name": "LayoutView",
            "grid_template_rows": null,
            "right": null,
            "justify_content": null,
            "_view_module": "@jupyter-widgets/base",
            "overflow": null,
            "_model_module_version": "1.2.0",
            "_view_count": null,
            "flex_flow": null,
            "width": null,
            "min_width": null,
            "border": null,
            "align_items": null,
            "bottom": null,
            "_model_module": "@jupyter-widgets/base",
            "top": null,
            "grid_column": null,
            "overflow_y": null,
            "overflow_x": null,
            "grid_auto_flow": null,
            "grid_area": null,
            "grid_template_columns": null,
            "flex": null,
            "_model_name": "LayoutModel",
            "justify_items": null,
            "grid_row": null,
            "max_height": null,
            "align_content": null,
            "visibility": null,
            "align_self": null,
            "height": null,
            "min_height": null,
            "padding": null,
            "grid_auto_rows": null,
            "grid_gap": null,
            "max_width": null,
            "order": null,
            "_view_module_version": "1.2.0",
            "grid_template_areas": null,
            "object_position": null,
            "object_fit": null,
            "grid_auto_columns": null,
            "margin": null,
            "display": null,
            "left": null
          }
        },
        "1c4ebcda2a02430e954ecf8725775b6c": {
          "model_module": "@jupyter-widgets/controls",
          "model_name": "FloatProgressModel",
          "state": {
            "_view_name": "ProgressView",
            "style": "IPY_MODEL_38a1c435416a4bb1894825439ccf1322",
            "_dom_classes": [],
            "description": "100%",
            "_model_name": "FloatProgressModel",
            "bar_style": "success",
            "max": 100,
            "_view_module": "@jupyter-widgets/controls",
            "_model_module_version": "1.5.0",
            "value": 100,
            "_view_count": null,
            "_view_module_version": "1.5.0",
            "orientation": "horizontal",
            "min": 0,
            "description_tooltip": null,
            "_model_module": "@jupyter-widgets/controls",
            "layout": "IPY_MODEL_9473bdf27d76416c93fdbbe512855c8b"
          }
        },
        "c050b27732f341a0bfca5d294ed94cf0": {
          "model_module": "@jupyter-widgets/controls",
          "model_name": "HTMLModel",
          "state": {
            "_view_name": "HTMLView",
            "style": "IPY_MODEL_9f886d761f6c46ec96cd4a6f09e09315",
            "_dom_classes": [],
            "description": "",
            "_model_name": "HTMLModel",
            "placeholder": "​",
            "_view_module": "@jupyter-widgets/controls",
            "_model_module_version": "1.5.0",
            "value": " 100/100 [04:52&lt;00:00,  2.92s/it]",
            "_view_count": null,
            "_view_module_version": "1.5.0",
            "description_tooltip": null,
            "_model_module": "@jupyter-widgets/controls",
            "layout": "IPY_MODEL_6ac585d042504464a672c04d94783a88"
          }
        },
        "38a1c435416a4bb1894825439ccf1322": {
          "model_module": "@jupyter-widgets/controls",
          "model_name": "ProgressStyleModel",
          "state": {
            "_view_name": "StyleView",
            "_model_name": "ProgressStyleModel",
            "description_width": "initial",
            "_view_module": "@jupyter-widgets/base",
            "_model_module_version": "1.5.0",
            "_view_count": null,
            "_view_module_version": "1.2.0",
            "bar_color": null,
            "_model_module": "@jupyter-widgets/controls"
          }
        },
        "9473bdf27d76416c93fdbbe512855c8b": {
          "model_module": "@jupyter-widgets/base",
          "model_name": "LayoutModel",
          "state": {
            "_view_name": "LayoutView",
            "grid_template_rows": null,
            "right": null,
            "justify_content": null,
            "_view_module": "@jupyter-widgets/base",
            "overflow": null,
            "_model_module_version": "1.2.0",
            "_view_count": null,
            "flex_flow": null,
            "width": null,
            "min_width": null,
            "border": null,
            "align_items": null,
            "bottom": null,
            "_model_module": "@jupyter-widgets/base",
            "top": null,
            "grid_column": null,
            "overflow_y": null,
            "overflow_x": null,
            "grid_auto_flow": null,
            "grid_area": null,
            "grid_template_columns": null,
            "flex": null,
            "_model_name": "LayoutModel",
            "justify_items": null,
            "grid_row": null,
            "max_height": null,
            "align_content": null,
            "visibility": null,
            "align_self": null,
            "height": null,
            "min_height": null,
            "padding": null,
            "grid_auto_rows": null,
            "grid_gap": null,
            "max_width": null,
            "order": null,
            "_view_module_version": "1.2.0",
            "grid_template_areas": null,
            "object_position": null,
            "object_fit": null,
            "grid_auto_columns": null,
            "margin": null,
            "display": null,
            "left": null
          }
        },
        "9f886d761f6c46ec96cd4a6f09e09315": {
          "model_module": "@jupyter-widgets/controls",
          "model_name": "DescriptionStyleModel",
          "state": {
            "_view_name": "StyleView",
            "_model_name": "DescriptionStyleModel",
            "description_width": "",
            "_view_module": "@jupyter-widgets/base",
            "_model_module_version": "1.5.0",
            "_view_count": null,
            "_view_module_version": "1.2.0",
            "_model_module": "@jupyter-widgets/controls"
          }
        },
        "6ac585d042504464a672c04d94783a88": {
          "model_module": "@jupyter-widgets/base",
          "model_name": "LayoutModel",
          "state": {
            "_view_name": "LayoutView",
            "grid_template_rows": null,
            "right": null,
            "justify_content": null,
            "_view_module": "@jupyter-widgets/base",
            "overflow": null,
            "_model_module_version": "1.2.0",
            "_view_count": null,
            "flex_flow": null,
            "width": null,
            "min_width": null,
            "border": null,
            "align_items": null,
            "bottom": null,
            "_model_module": "@jupyter-widgets/base",
            "top": null,
            "grid_column": null,
            "overflow_y": null,
            "overflow_x": null,
            "grid_auto_flow": null,
            "grid_area": null,
            "grid_template_columns": null,
            "flex": null,
            "_model_name": "LayoutModel",
            "justify_items": null,
            "grid_row": null,
            "max_height": null,
            "align_content": null,
            "visibility": null,
            "align_self": null,
            "height": null,
            "min_height": null,
            "padding": null,
            "grid_auto_rows": null,
            "grid_gap": null,
            "max_width": null,
            "order": null,
            "_view_module_version": "1.2.0",
            "grid_template_areas": null,
            "object_position": null,
            "object_fit": null,
            "grid_auto_columns": null,
            "margin": null,
            "display": null,
            "left": null
          }
        },
        "02c58be444854cc4988bc9e12beaa70d": {
          "model_module": "@jupyter-widgets/controls",
          "model_name": "HBoxModel",
          "state": {
            "_view_name": "HBoxView",
            "_dom_classes": [],
            "_model_name": "HBoxModel",
            "_view_module": "@jupyter-widgets/controls",
            "_model_module_version": "1.5.0",
            "_view_count": null,
            "_view_module_version": "1.5.0",
            "box_style": "",
            "layout": "IPY_MODEL_7918d601638142cb9519520a84c959ee",
            "_model_module": "@jupyter-widgets/controls",
            "children": [
              "IPY_MODEL_1fd1d2c27a1f48f099c413c30be352b2",
              "IPY_MODEL_2a68d16e47aa4e6f9669d488a837c62c"
            ]
          }
        },
        "7918d601638142cb9519520a84c959ee": {
          "model_module": "@jupyter-widgets/base",
          "model_name": "LayoutModel",
          "state": {
            "_view_name": "LayoutView",
            "grid_template_rows": null,
            "right": null,
            "justify_content": null,
            "_view_module": "@jupyter-widgets/base",
            "overflow": null,
            "_model_module_version": "1.2.0",
            "_view_count": null,
            "flex_flow": null,
            "width": null,
            "min_width": null,
            "border": null,
            "align_items": null,
            "bottom": null,
            "_model_module": "@jupyter-widgets/base",
            "top": null,
            "grid_column": null,
            "overflow_y": null,
            "overflow_x": null,
            "grid_auto_flow": null,
            "grid_area": null,
            "grid_template_columns": null,
            "flex": null,
            "_model_name": "LayoutModel",
            "justify_items": null,
            "grid_row": null,
            "max_height": null,
            "align_content": null,
            "visibility": null,
            "align_self": null,
            "height": null,
            "min_height": null,
            "padding": null,
            "grid_auto_rows": null,
            "grid_gap": null,
            "max_width": null,
            "order": null,
            "_view_module_version": "1.2.0",
            "grid_template_areas": null,
            "object_position": null,
            "object_fit": null,
            "grid_auto_columns": null,
            "margin": null,
            "display": null,
            "left": null
          }
        },
        "1fd1d2c27a1f48f099c413c30be352b2": {
          "model_module": "@jupyter-widgets/controls",
          "model_name": "FloatProgressModel",
          "state": {
            "_view_name": "ProgressView",
            "style": "IPY_MODEL_ce11276c0e6b4f3b9dc704dc7511e9c8",
            "_dom_classes": [],
            "description": "100%",
            "_model_name": "FloatProgressModel",
            "bar_style": "success",
            "max": 49,
            "_view_module": "@jupyter-widgets/controls",
            "_model_module_version": "1.5.0",
            "value": 49,
            "_view_count": null,
            "_view_module_version": "1.5.0",
            "orientation": "horizontal",
            "min": 0,
            "description_tooltip": null,
            "_model_module": "@jupyter-widgets/controls",
            "layout": "IPY_MODEL_11578089fb10462aa51a702f3d27ecd4"
          }
        },
        "2a68d16e47aa4e6f9669d488a837c62c": {
          "model_module": "@jupyter-widgets/controls",
          "model_name": "HTMLModel",
          "state": {
            "_view_name": "HTMLView",
            "style": "IPY_MODEL_c3735942fe7d4af8ae0efba84d42bc51",
            "_dom_classes": [],
            "description": "",
            "_model_name": "HTMLModel",
            "placeholder": "​",
            "_view_module": "@jupyter-widgets/controls",
            "_model_module_version": "1.5.0",
            "value": " 49/49 [08:14&lt;00:00, 10.10s/it]",
            "_view_count": null,
            "_view_module_version": "1.5.0",
            "description_tooltip": null,
            "_model_module": "@jupyter-widgets/controls",
            "layout": "IPY_MODEL_8a8d27aefa454931980f1426bb372b14"
          }
        },
        "ce11276c0e6b4f3b9dc704dc7511e9c8": {
          "model_module": "@jupyter-widgets/controls",
          "model_name": "ProgressStyleModel",
          "state": {
            "_view_name": "StyleView",
            "_model_name": "ProgressStyleModel",
            "description_width": "initial",
            "_view_module": "@jupyter-widgets/base",
            "_model_module_version": "1.5.0",
            "_view_count": null,
            "_view_module_version": "1.2.0",
            "bar_color": null,
            "_model_module": "@jupyter-widgets/controls"
          }
        },
        "11578089fb10462aa51a702f3d27ecd4": {
          "model_module": "@jupyter-widgets/base",
          "model_name": "LayoutModel",
          "state": {
            "_view_name": "LayoutView",
            "grid_template_rows": null,
            "right": null,
            "justify_content": null,
            "_view_module": "@jupyter-widgets/base",
            "overflow": null,
            "_model_module_version": "1.2.0",
            "_view_count": null,
            "flex_flow": null,
            "width": null,
            "min_width": null,
            "border": null,
            "align_items": null,
            "bottom": null,
            "_model_module": "@jupyter-widgets/base",
            "top": null,
            "grid_column": null,
            "overflow_y": null,
            "overflow_x": null,
            "grid_auto_flow": null,
            "grid_area": null,
            "grid_template_columns": null,
            "flex": null,
            "_model_name": "LayoutModel",
            "justify_items": null,
            "grid_row": null,
            "max_height": null,
            "align_content": null,
            "visibility": null,
            "align_self": null,
            "height": null,
            "min_height": null,
            "padding": null,
            "grid_auto_rows": null,
            "grid_gap": null,
            "max_width": null,
            "order": null,
            "_view_module_version": "1.2.0",
            "grid_template_areas": null,
            "object_position": null,
            "object_fit": null,
            "grid_auto_columns": null,
            "margin": null,
            "display": null,
            "left": null
          }
        },
        "c3735942fe7d4af8ae0efba84d42bc51": {
          "model_module": "@jupyter-widgets/controls",
          "model_name": "DescriptionStyleModel",
          "state": {
            "_view_name": "StyleView",
            "_model_name": "DescriptionStyleModel",
            "description_width": "",
            "_view_module": "@jupyter-widgets/base",
            "_model_module_version": "1.5.0",
            "_view_count": null,
            "_view_module_version": "1.2.0",
            "_model_module": "@jupyter-widgets/controls"
          }
        },
        "8a8d27aefa454931980f1426bb372b14": {
          "model_module": "@jupyter-widgets/base",
          "model_name": "LayoutModel",
          "state": {
            "_view_name": "LayoutView",
            "grid_template_rows": null,
            "right": null,
            "justify_content": null,
            "_view_module": "@jupyter-widgets/base",
            "overflow": null,
            "_model_module_version": "1.2.0",
            "_view_count": null,
            "flex_flow": null,
            "width": null,
            "min_width": null,
            "border": null,
            "align_items": null,
            "bottom": null,
            "_model_module": "@jupyter-widgets/base",
            "top": null,
            "grid_column": null,
            "overflow_y": null,
            "overflow_x": null,
            "grid_auto_flow": null,
            "grid_area": null,
            "grid_template_columns": null,
            "flex": null,
            "_model_name": "LayoutModel",
            "justify_items": null,
            "grid_row": null,
            "max_height": null,
            "align_content": null,
            "visibility": null,
            "align_self": null,
            "height": null,
            "min_height": null,
            "padding": null,
            "grid_auto_rows": null,
            "grid_gap": null,
            "max_width": null,
            "order": null,
            "_view_module_version": "1.2.0",
            "grid_template_areas": null,
            "object_position": null,
            "object_fit": null,
            "grid_auto_columns": null,
            "margin": null,
            "display": null,
            "left": null
          }
        },
        "a3a165c326d9448596afe14dfa57927c": {
          "model_module": "@jupyter-widgets/controls",
          "model_name": "HBoxModel",
          "state": {
            "_view_name": "HBoxView",
            "_dom_classes": [],
            "_model_name": "HBoxModel",
            "_view_module": "@jupyter-widgets/controls",
            "_model_module_version": "1.5.0",
            "_view_count": null,
            "_view_module_version": "1.5.0",
            "box_style": "",
            "layout": "IPY_MODEL_b768a77730984241a28a291fa81c19cb",
            "_model_module": "@jupyter-widgets/controls",
            "children": [
              "IPY_MODEL_bafb0b1564424a55a913a30a09d5bbec",
              "IPY_MODEL_f6a2fb165901482e9ca5961b65f0191b"
            ]
          }
        },
        "b768a77730984241a28a291fa81c19cb": {
          "model_module": "@jupyter-widgets/base",
          "model_name": "LayoutModel",
          "state": {
            "_view_name": "LayoutView",
            "grid_template_rows": null,
            "right": null,
            "justify_content": null,
            "_view_module": "@jupyter-widgets/base",
            "overflow": null,
            "_model_module_version": "1.2.0",
            "_view_count": null,
            "flex_flow": null,
            "width": null,
            "min_width": null,
            "border": null,
            "align_items": null,
            "bottom": null,
            "_model_module": "@jupyter-widgets/base",
            "top": null,
            "grid_column": null,
            "overflow_y": null,
            "overflow_x": null,
            "grid_auto_flow": null,
            "grid_area": null,
            "grid_template_columns": null,
            "flex": null,
            "_model_name": "LayoutModel",
            "justify_items": null,
            "grid_row": null,
            "max_height": null,
            "align_content": null,
            "visibility": null,
            "align_self": null,
            "height": null,
            "min_height": null,
            "padding": null,
            "grid_auto_rows": null,
            "grid_gap": null,
            "max_width": null,
            "order": null,
            "_view_module_version": "1.2.0",
            "grid_template_areas": null,
            "object_position": null,
            "object_fit": null,
            "grid_auto_columns": null,
            "margin": null,
            "display": null,
            "left": null
          }
        },
        "bafb0b1564424a55a913a30a09d5bbec": {
          "model_module": "@jupyter-widgets/controls",
          "model_name": "FloatProgressModel",
          "state": {
            "_view_name": "ProgressView",
            "style": "IPY_MODEL_b67f26dc70444d80a46f36a73ec8f54d",
            "_dom_classes": [],
            "description": "  2%",
            "_model_name": "FloatProgressModel",
            "bar_style": "",
            "max": 4900,
            "_view_module": "@jupyter-widgets/controls",
            "_model_module_version": "1.5.0",
            "value": 109,
            "_view_count": null,
            "_view_module_version": "1.5.0",
            "orientation": "horizontal",
            "min": 0,
            "description_tooltip": null,
            "_model_module": "@jupyter-widgets/controls",
            "layout": "IPY_MODEL_4c74795d99114dea9f323a0d3442b571"
          }
        },
        "f6a2fb165901482e9ca5961b65f0191b": {
          "model_module": "@jupyter-widgets/controls",
          "model_name": "HTMLModel",
          "state": {
            "_view_name": "HTMLView",
            "style": "IPY_MODEL_5edc9ae04d3048a398078d0ffa0e74be",
            "_dom_classes": [],
            "description": "",
            "_model_name": "HTMLModel",
            "placeholder": "​",
            "_view_module": "@jupyter-widgets/controls",
            "_model_module_version": "1.5.0",
            "value": " 108/4900 [05:33&lt;6:14:45,  4.69s/it]",
            "_view_count": null,
            "_view_module_version": "1.5.0",
            "description_tooltip": null,
            "_model_module": "@jupyter-widgets/controls",
            "layout": "IPY_MODEL_c4bd2cbe639d4891b749c0c1b90a4f23"
          }
        },
        "b67f26dc70444d80a46f36a73ec8f54d": {
          "model_module": "@jupyter-widgets/controls",
          "model_name": "ProgressStyleModel",
          "state": {
            "_view_name": "StyleView",
            "_model_name": "ProgressStyleModel",
            "description_width": "initial",
            "_view_module": "@jupyter-widgets/base",
            "_model_module_version": "1.5.0",
            "_view_count": null,
            "_view_module_version": "1.2.0",
            "bar_color": null,
            "_model_module": "@jupyter-widgets/controls"
          }
        },
        "4c74795d99114dea9f323a0d3442b571": {
          "model_module": "@jupyter-widgets/base",
          "model_name": "LayoutModel",
          "state": {
            "_view_name": "LayoutView",
            "grid_template_rows": null,
            "right": null,
            "justify_content": null,
            "_view_module": "@jupyter-widgets/base",
            "overflow": null,
            "_model_module_version": "1.2.0",
            "_view_count": null,
            "flex_flow": null,
            "width": null,
            "min_width": null,
            "border": null,
            "align_items": null,
            "bottom": null,
            "_model_module": "@jupyter-widgets/base",
            "top": null,
            "grid_column": null,
            "overflow_y": null,
            "overflow_x": null,
            "grid_auto_flow": null,
            "grid_area": null,
            "grid_template_columns": null,
            "flex": null,
            "_model_name": "LayoutModel",
            "justify_items": null,
            "grid_row": null,
            "max_height": null,
            "align_content": null,
            "visibility": null,
            "align_self": null,
            "height": null,
            "min_height": null,
            "padding": null,
            "grid_auto_rows": null,
            "grid_gap": null,
            "max_width": null,
            "order": null,
            "_view_module_version": "1.2.0",
            "grid_template_areas": null,
            "object_position": null,
            "object_fit": null,
            "grid_auto_columns": null,
            "margin": null,
            "display": null,
            "left": null
          }
        },
        "5edc9ae04d3048a398078d0ffa0e74be": {
          "model_module": "@jupyter-widgets/controls",
          "model_name": "DescriptionStyleModel",
          "state": {
            "_view_name": "StyleView",
            "_model_name": "DescriptionStyleModel",
            "description_width": "",
            "_view_module": "@jupyter-widgets/base",
            "_model_module_version": "1.5.0",
            "_view_count": null,
            "_view_module_version": "1.2.0",
            "_model_module": "@jupyter-widgets/controls"
          }
        },
        "c4bd2cbe639d4891b749c0c1b90a4f23": {
          "model_module": "@jupyter-widgets/base",
          "model_name": "LayoutModel",
          "state": {
            "_view_name": "LayoutView",
            "grid_template_rows": null,
            "right": null,
            "justify_content": null,
            "_view_module": "@jupyter-widgets/base",
            "overflow": null,
            "_model_module_version": "1.2.0",
            "_view_count": null,
            "flex_flow": null,
            "width": null,
            "min_width": null,
            "border": null,
            "align_items": null,
            "bottom": null,
            "_model_module": "@jupyter-widgets/base",
            "top": null,
            "grid_column": null,
            "overflow_y": null,
            "overflow_x": null,
            "grid_auto_flow": null,
            "grid_area": null,
            "grid_template_columns": null,
            "flex": null,
            "_model_name": "LayoutModel",
            "justify_items": null,
            "grid_row": null,
            "max_height": null,
            "align_content": null,
            "visibility": null,
            "align_self": null,
            "height": null,
            "min_height": null,
            "padding": null,
            "grid_auto_rows": null,
            "grid_gap": null,
            "max_width": null,
            "order": null,
            "_view_module_version": "1.2.0",
            "grid_template_areas": null,
            "object_position": null,
            "object_fit": null,
            "grid_auto_columns": null,
            "margin": null,
            "display": null,
            "left": null
          }
        }
      }
    }
  },
  "cells": [
    {
      "cell_type": "markdown",
      "metadata": {
        "id": "VYfg3I_fSt6e"
      },
      "source": [
        "# WebScraping with Selenium\n",
        "\n",
        "This notebook shows how use selenium to scrape data from Indiegogo.com\n",
        "The scope is only to understand the capabilities of web scraping and prepare a dataset for academic purporse.\n",
        "\n",
        "Let’s begin writing our scraper!\n",
        "\n",
        "We will first install important modules and packages for our Notebook\n",
        "\n",
        "\n",
        "*   Selenium\n",
        "*   Chromium-chromedriver\n",
        "\n",
        "<a href=\"https://colab.research.google.com/drive/1_WyM24eXWf-pdcqJKCcsb1pWwnbEWRi8?authuser=2#scrollTo=VYfg3I_fSt6e\"><img align=\"left\" src=\"https://colab.research.google.com/assets/colab-badge.svg\" alt=\"Open in Colab\" title=\"Open and Execute in Google Colaboratory\"></a>\n"
      ]
    },
    {
      "cell_type": "code",
      "metadata": {
        "id": "6E11q1711nmO",
        "colab": {
          "base_uri": "https://localhost:8080/"
        },
        "outputId": "3d72f28a-8d9e-4fc2-eb94-42a44b735ccd"
      },
      "source": [
        "!pip install selenium\n",
        "!apt-get update\n",
        "!apt install chromium-chromedriver\n",
        "!cp /usr/lib/chromium-browser/chromedriver /usr/bin"
      ],
      "execution_count": null,
      "outputs": [
        {
          "output_type": "stream",
          "text": [
            "Collecting selenium\n",
            "\u001b[?25l  Downloading https://files.pythonhosted.org/packages/80/d6/4294f0b4bce4de0abf13e17190289f9d0613b0a44e5dd6a7f5ca98459853/selenium-3.141.0-py2.py3-none-any.whl (904kB)\n",
            "\u001b[K     |████████████████████████████████| 911kB 5.1MB/s \n",
            "\u001b[?25hRequirement already satisfied: urllib3 in /usr/local/lib/python3.7/dist-packages (from selenium) (1.24.3)\n",
            "Installing collected packages: selenium\n",
            "Successfully installed selenium-3.141.0\n",
            "Get:1 http://security.ubuntu.com/ubuntu bionic-security InRelease [88.7 kB]\n",
            "Get:2 https://cloud.r-project.org/bin/linux/ubuntu bionic-cran40/ InRelease [3,626 B]\n",
            "Ign:3 https://developer.download.nvidia.com/compute/cuda/repos/ubuntu1804/x86_64  InRelease\n",
            "Get:4 http://ppa.launchpad.net/c2d4u.team/c2d4u4.0+/ubuntu bionic InRelease [15.9 kB]\n",
            "Ign:5 https://developer.download.nvidia.com/compute/machine-learning/repos/ubuntu1804/x86_64  InRelease\n",
            "Hit:6 http://archive.ubuntu.com/ubuntu bionic InRelease\n",
            "Get:7 https://developer.download.nvidia.com/compute/cuda/repos/ubuntu1804/x86_64  Release [697 B]\n",
            "Hit:8 https://developer.download.nvidia.com/compute/machine-learning/repos/ubuntu1804/x86_64  Release\n",
            "Get:9 https://developer.download.nvidia.com/compute/cuda/repos/ubuntu1804/x86_64  Release.gpg [836 B]\n",
            "Get:10 http://archive.ubuntu.com/ubuntu bionic-updates InRelease [88.7 kB]\n",
            "Get:11 http://security.ubuntu.com/ubuntu bionic-security/main amd64 Packages [2,152 kB]\n",
            "Hit:12 http://ppa.launchpad.net/cran/libgit2/ubuntu bionic InRelease\n",
            "Get:13 http://security.ubuntu.com/ubuntu bionic-security/universe amd64 Packages [1,412 kB]\n",
            "Get:14 http://archive.ubuntu.com/ubuntu bionic-backports InRelease [74.6 kB]\n",
            "Hit:15 http://ppa.launchpad.net/deadsnakes/ppa/ubuntu bionic InRelease\n",
            "Get:16 http://security.ubuntu.com/ubuntu bionic-security/restricted amd64 Packages [423 kB]\n",
            "Get:17 https://cloud.r-project.org/bin/linux/ubuntu bionic-cran40/ Packages [60.9 kB]\n",
            "Get:18 http://ppa.launchpad.net/graphics-drivers/ppa/ubuntu bionic InRelease [21.3 kB]\n",
            "Ign:20 https://developer.download.nvidia.com/compute/cuda/repos/ubuntu1804/x86_64  Packages\n",
            "Get:20 https://developer.download.nvidia.com/compute/cuda/repos/ubuntu1804/x86_64  Packages [796 kB]\n",
            "Get:21 http://ppa.launchpad.net/c2d4u.team/c2d4u4.0+/ubuntu bionic/main Sources [1,769 kB]\n",
            "Get:22 http://archive.ubuntu.com/ubuntu bionic-updates/main amd64 Packages [2,583 kB]\n",
            "Get:23 http://ppa.launchpad.net/c2d4u.team/c2d4u4.0+/ubuntu bionic/main amd64 Packages [905 kB]\n",
            "Get:24 http://archive.ubuntu.com/ubuntu bionic-updates/restricted amd64 Packages [452 kB]\n",
            "Get:25 http://archive.ubuntu.com/ubuntu bionic-updates/universe amd64 Packages [2,183 kB]\n",
            "Get:26 http://ppa.launchpad.net/graphics-drivers/ppa/ubuntu bionic/main amd64 Packages [41.5 kB]\n",
            "Fetched 13.1 MB in 4s (3,627 kB/s)\n",
            "Reading package lists... Done\n",
            "Reading package lists... Done\n",
            "Building dependency tree       \n",
            "Reading state information... Done\n",
            "The following package was automatically installed and is no longer required:\n",
            "  libnvidia-common-460\n",
            "Use 'apt autoremove' to remove it.\n",
            "The following additional packages will be installed:\n",
            "  chromium-browser chromium-browser-l10n chromium-codecs-ffmpeg-extra\n",
            "Suggested packages:\n",
            "  webaccounts-chromium-extension unity-chromium-extension\n",
            "The following NEW packages will be installed:\n",
            "  chromium-browser chromium-browser-l10n chromium-chromedriver\n",
            "  chromium-codecs-ffmpeg-extra\n",
            "0 upgraded, 4 newly installed, 0 to remove and 74 not upgraded.\n",
            "Need to get 86.6 MB of archives.\n",
            "After this operation, 300 MB of additional disk space will be used.\n",
            "Get:1 http://archive.ubuntu.com/ubuntu bionic-updates/universe amd64 chromium-codecs-ffmpeg-extra amd64 90.0.4430.93-0ubuntu0.18.04.1 [1,128 kB]\n",
            "Get:2 http://archive.ubuntu.com/ubuntu bionic-updates/universe amd64 chromium-browser amd64 90.0.4430.93-0ubuntu0.18.04.1 [76.9 MB]\n",
            "Get:3 http://archive.ubuntu.com/ubuntu bionic-updates/universe amd64 chromium-browser-l10n all 90.0.4430.93-0ubuntu0.18.04.1 [3,853 kB]\n",
            "Get:4 http://archive.ubuntu.com/ubuntu bionic-updates/universe amd64 chromium-chromedriver amd64 90.0.4430.93-0ubuntu0.18.04.1 [4,743 kB]\n",
            "Fetched 86.6 MB in 4s (23.4 MB/s)\n",
            "Selecting previously unselected package chromium-codecs-ffmpeg-extra.\n",
            "(Reading database ... 160706 files and directories currently installed.)\n",
            "Preparing to unpack .../chromium-codecs-ffmpeg-extra_90.0.4430.93-0ubuntu0.18.04.1_amd64.deb ...\n",
            "Unpacking chromium-codecs-ffmpeg-extra (90.0.4430.93-0ubuntu0.18.04.1) ...\n",
            "Selecting previously unselected package chromium-browser.\n",
            "Preparing to unpack .../chromium-browser_90.0.4430.93-0ubuntu0.18.04.1_amd64.deb ...\n",
            "Unpacking chromium-browser (90.0.4430.93-0ubuntu0.18.04.1) ...\n",
            "Selecting previously unselected package chromium-browser-l10n.\n",
            "Preparing to unpack .../chromium-browser-l10n_90.0.4430.93-0ubuntu0.18.04.1_all.deb ...\n",
            "Unpacking chromium-browser-l10n (90.0.4430.93-0ubuntu0.18.04.1) ...\n",
            "Selecting previously unselected package chromium-chromedriver.\n",
            "Preparing to unpack .../chromium-chromedriver_90.0.4430.93-0ubuntu0.18.04.1_amd64.deb ...\n",
            "Unpacking chromium-chromedriver (90.0.4430.93-0ubuntu0.18.04.1) ...\n",
            "Setting up chromium-codecs-ffmpeg-extra (90.0.4430.93-0ubuntu0.18.04.1) ...\n",
            "Setting up chromium-browser (90.0.4430.93-0ubuntu0.18.04.1) ...\n",
            "update-alternatives: using /usr/bin/chromium-browser to provide /usr/bin/x-www-browser (x-www-browser) in auto mode\n",
            "update-alternatives: using /usr/bin/chromium-browser to provide /usr/bin/gnome-www-browser (gnome-www-browser) in auto mode\n",
            "Setting up chromium-chromedriver (90.0.4430.93-0ubuntu0.18.04.1) ...\n",
            "Setting up chromium-browser-l10n (90.0.4430.93-0ubuntu0.18.04.1) ...\n",
            "Processing triggers for man-db (2.8.3-2ubuntu0.1) ...\n",
            "Processing triggers for hicolor-icon-theme (0.17-2) ...\n",
            "Processing triggers for mime-support (3.60ubuntu1) ...\n",
            "Processing triggers for libc-bin (2.27-3ubuntu1.2) ...\n",
            "/sbin/ldconfig.real: /usr/local/lib/python3.7/dist-packages/ideep4py/lib/libmkldnn.so.0 is not a symbolic link\n",
            "\n",
            "cp: '/usr/lib/chromium-browser/chromedriver' and '/usr/bin/chromedriver' are the same file\n"
          ],
          "name": "stdout"
        }
      ]
    },
    {
      "cell_type": "markdown",
      "metadata": {
        "id": "kuhZcDh4UHYp"
      },
      "source": [
        "And now we will import some modules on our Notebook\n",
        "\n",
        "\n",
        "1.   sys: to setup the path of chrome driver\n",
        "2.   selenium: to emulate the user behaviour\n",
        "3.   pandas: to work with data\n",
        "4.   tqdm: to show a progress bar in our notebook\n",
        "5.   json: to work with json format\n",
        "\n",
        "\n",
        "\n"
      ]
    },
    {
      "cell_type": "code",
      "metadata": {
        "id": "YRt5yEXxA-jW"
      },
      "source": [
        "import sys\n",
        "import logging\n",
        "from selenium.webdriver.remote.remote_connection import LOGGER\n",
        "LOGGER.setLevel(logging.WARNING)\n",
        "sys.path.insert(0,'/usr/lib/chromium-browser/chromedriver')\n",
        "from selenium import webdriver\n",
        "from tqdm import tqdm_notebook as tqdm\n",
        "import pandas\n",
        "import json\n",
        "import pprint"
      ],
      "execution_count": null,
      "outputs": []
    },
    {
      "cell_type": "markdown",
      "metadata": {
        "id": "ksyefP35VQc2"
      },
      "source": [
        "First we need to set the options for the ghost browser.\n",
        "The most important is `--headless` because we are in a \"cloud\" ntotebook. In our local notebook we can remove the `--headless` option.  \n"
      ]
    },
    {
      "cell_type": "code",
      "metadata": {
        "id": "DTfvdy_gBCBU"
      },
      "source": [
        "chrome_options = webdriver.ChromeOptions()\n",
        "chrome_options.add_argument('--headless')\n",
        "chrome_options.add_argument('--no-sandbox')\n",
        "chrome_options.add_argument('--disable-dev-shm-usage')\n",
        "chrome_options.add_argument(\"user-agent=Mozilla/5.0 (Macintosh; Intel Mac OS X 10_15_7) AppleWebKit/537.36 (KHTML, like Gecko) Chrome/90.0.4430.212 Safari/537.36\")"
      ],
      "execution_count": null,
      "outputs": []
    },
    {
      "cell_type": "markdown",
      "metadata": {
        "id": "0DpumOn7VoFw"
      },
      "source": [
        "`webdriver` is the most importa object in Selenium.\n",
        "With `webdriver` we can start the phantom browser, emulate the user navigation and scrape our data. \n",
        "\n",
        "Let’s now create a new instance of google chrome.\n",
        "\n",
        "\n",
        "We will navitage to page by a `get` request. With http we can do a get or a post (or others but they are not important for us): https://www.w3schools.com/tags/ref_httpmethods.asp \n",
        "\n",
        "\n",
        "\n",
        "```\n",
        "wd.get(\"https://www.indiegogo.com/explore/all?project_type=campaign&project_timing=all&sort=trending\")\n",
        "```\n",
        "\n"
      ]
    },
    {
      "cell_type": "markdown",
      "metadata": {
        "id": "STZyncI72HU0"
      },
      "source": [
        "## [Advanced] How to use a proxy to hide our connection"
      ]
    },
    {
      "cell_type": "markdown",
      "metadata": {
        "id": "mCpjEkYGa5K4"
      },
      "source": [
        "RequestProxy is used to **hide** our connection..."
      ]
    },
    {
      "cell_type": "code",
      "metadata": {
        "colab": {
          "base_uri": "https://localhost:8080/"
        },
        "id": "4Q1DZJTJ2pm8",
        "outputId": "bf777b6d-7c2c-4f9c-f385-9f038b780e59"
      },
      "source": [
        "!pip install http-request-randomizer"
      ],
      "execution_count": null,
      "outputs": [
        {
          "output_type": "stream",
          "text": [
            "Requirement already satisfied: http-request-randomizer in /usr/local/lib/python3.7/dist-packages (1.3.2)\n",
            "Requirement already satisfied: python-dateutil>=2.8.1 in /usr/local/lib/python3.7/dist-packages (from http-request-randomizer) (2.8.1)\n",
            "Requirement already satisfied: pyOpenSSL>=19.1.0 in /usr/local/lib/python3.7/dist-packages (from http-request-randomizer) (20.0.1)\n",
            "Requirement already satisfied: beautifulsoup4>=4.9.3 in /usr/local/lib/python3.7/dist-packages (from http-request-randomizer) (4.9.3)\n",
            "Requirement already satisfied: fake-useragent>=0.1.11 in /usr/local/lib/python3.7/dist-packages (from http-request-randomizer) (0.1.11)\n",
            "Requirement already satisfied: requests>=2.24.0 in /usr/local/lib/python3.7/dist-packages (from http-request-randomizer) (2.25.1)\n",
            "Requirement already satisfied: httmock>=1.3.0 in /usr/local/lib/python3.7/dist-packages (from http-request-randomizer) (1.4.0)\n",
            "Requirement already satisfied: psutil>=5.7.2 in /usr/local/lib/python3.7/dist-packages (from http-request-randomizer) (5.8.0)\n",
            "Requirement already satisfied: six>=1.5 in /usr/local/lib/python3.7/dist-packages (from python-dateutil>=2.8.1->http-request-randomizer) (1.15.0)\n",
            "Requirement already satisfied: cryptography>=3.2 in /usr/local/lib/python3.7/dist-packages (from pyOpenSSL>=19.1.0->http-request-randomizer) (3.4.7)\n",
            "Requirement already satisfied: soupsieve>1.2; python_version >= \"3.0\" in /usr/local/lib/python3.7/dist-packages (from beautifulsoup4>=4.9.3->http-request-randomizer) (2.2.1)\n",
            "Requirement already satisfied: urllib3<1.27,>=1.21.1 in /usr/local/lib/python3.7/dist-packages (from requests>=2.24.0->http-request-randomizer) (1.24.3)\n",
            "Requirement already satisfied: chardet<5,>=3.0.2 in /usr/local/lib/python3.7/dist-packages (from requests>=2.24.0->http-request-randomizer) (3.0.4)\n",
            "Requirement already satisfied: certifi>=2017.4.17 in /usr/local/lib/python3.7/dist-packages (from requests>=2.24.0->http-request-randomizer) (2020.12.5)\n",
            "Requirement already satisfied: idna<3,>=2.5 in /usr/local/lib/python3.7/dist-packages (from requests>=2.24.0->http-request-randomizer) (2.10)\n",
            "Requirement already satisfied: cffi>=1.12 in /usr/local/lib/python3.7/dist-packages (from cryptography>=3.2->pyOpenSSL>=19.1.0->http-request-randomizer) (1.14.5)\n",
            "Requirement already satisfied: pycparser in /usr/local/lib/python3.7/dist-packages (from cffi>=1.12->cryptography>=3.2->pyOpenSSL>=19.1.0->http-request-randomizer) (2.20)\n"
          ],
          "name": "stdout"
        }
      ]
    },
    {
      "cell_type": "code",
      "metadata": {
        "colab": {
          "base_uri": "https://localhost:8080/"
        },
        "id": "Y90JyVfdHcQ7",
        "outputId": "c3d87080-96eb-42d5-87d7-56e25fc35376"
      },
      "source": [
        "from http_request_randomizer.requests.proxy.requestProxy import RequestProxy\n",
        "req_proxy = RequestProxy()\n",
        "proxies = req_proxy.get_proxy_list()"
      ],
      "execution_count": null,
      "outputs": [
        {
          "output_type": "stream",
          "text": [
            "2021-05-24 19:30:47,740 http_request_randomizer.requests.useragent.userAgent INFO     Using local file for user agents: /usr/local/lib/python3.7/dist-packages/http_request_randomizer/requests/proxy/../data/user_agents.txt\n",
            "2021-05-24 19:30:47,743 root   DEBUG    === Initialized Proxy Parsers ===\n",
            "2021-05-24 19:30:47,746 root   DEBUG    \t FreeProxy parser of 'http://free-proxy-list.net' with required bandwidth: '150' KBs\n",
            "2021-05-24 19:30:47,749 root   DEBUG    \t PremProxy parser of 'https://premproxy.com/list/' with required bandwidth: '150' KBs\n",
            "2021-05-24 19:30:47,751 root   DEBUG    \t SslProxy parser of 'https://www.sslproxies.org' with required bandwidth: '150' KBs\n",
            "2021-05-24 19:30:47,753 root   DEBUG    =================================\n",
            "2021-05-24 19:30:48,030 root   DEBUG    Added 300 proxies from FreeProxy\n",
            "2021-05-24 19:30:48,379 http_request_randomizer.requests.parsers.PremProxyParser WARNING  Proxy Provider url failed: https://premproxy.com/list/\n",
            "2021-05-24 19:30:48,380 http_request_randomizer.requests.parsers.PremProxyParser DEBUG    Pages: set()\n",
            "2021-05-24 19:30:48,821 http_request_randomizer.requests.parsers.PremProxyParser WARNING  Proxy Provider url failed: https://premproxy.com/list/\n",
            "2021-05-24 19:30:48,823 root   DEBUG    Added 0 proxies from PremProxy\n",
            "2021-05-24 19:30:48,944 root   DEBUG    Added 100 proxies from SslProxy\n",
            "2021-05-24 19:30:48,946 root   DEBUG    Total proxies = 400\n",
            "2021-05-24 19:30:48,951 root   DEBUG    Filtered proxies = 400\n"
          ],
          "name": "stderr"
        }
      ]
    },
    {
      "cell_type": "code",
      "metadata": {
        "colab": {
          "base_uri": "https://localhost:8080/"
        },
        "id": "Krm3ytiBHhZL",
        "outputId": "2cc4596a-438a-4593-e2c2-e6569a82d068"
      },
      "source": [
        "ind = [] #int is list of Italy proxy\n",
        "for proxy in proxies:\n",
        "    if proxy.country == 'Italy':\n",
        "        ind.append(proxy)\n",
        "\n",
        "PROXY = ind[0].get_address()\n",
        "print(PROXY)\n",
        "\n",
        "print(ind[0].country)"
      ],
      "execution_count": null,
      "outputs": [
        {
          "output_type": "stream",
          "text": [
            "213.203.177.218:3128\n",
            "Italy\n"
          ],
          "name": "stdout"
        }
      ]
    },
    {
      "cell_type": "code",
      "metadata": {
        "id": "Goac2YzPpLF_"
      },
      "source": [
        "# PROXY = '69.167.174.17:80'"
      ],
      "execution_count": null,
      "outputs": []
    },
    {
      "cell_type": "code",
      "metadata": {
        "id": "D6MLvqs9BIzI",
        "colab": {
          "base_uri": "https://localhost:8080/"
        },
        "outputId": "b8f2b951-1078-4fe8-b1e3-5d5bb2cae550"
      },
      "source": [
        "webdriver.DesiredCapabilities.CHROME['proxy']={\n",
        "    \"httpProxy\":PROXY,\n",
        "    \"ftpProxy\":PROXY,\n",
        "    \"sslProxy\":PROXY,\n",
        "    \"proxyType\":\"MANUAL\"\n",
        "}\n",
        "\n",
        "wd = webdriver.Chrome('chromedriver',chrome_options=chrome_options)\n"
      ],
      "execution_count": null,
      "outputs": [
        {
          "output_type": "stream",
          "text": [
            "/usr/local/lib/python3.7/dist-packages/ipykernel_launcher.py:8: DeprecationWarning: use options instead of chrome_options\n",
            "  \n"
          ],
          "name": "stderr"
        }
      ]
    },
    {
      "cell_type": "markdown",
      "metadata": {
        "id": "YUp_U6IY2Rgu"
      },
      "source": [
        "## First connection"
      ]
    },
    {
      "cell_type": "code",
      "metadata": {
        "colab": {
          "base_uri": "https://localhost:8080/"
        },
        "id": "ON4OHPZm1yTf",
        "outputId": "349f562b-453d-4ea1-a089-bcb49e5a7c8b"
      },
      "source": [
        "wd = webdriver.Chrome('chromedriver',chrome_options=chrome_options)"
      ],
      "execution_count": null,
      "outputs": [
        {
          "output_type": "stream",
          "text": [
            "/usr/local/lib/python3.7/dist-packages/ipykernel_launcher.py:1: DeprecationWarning: use options instead of chrome_options\n",
            "  \"\"\"Entry point for launching an IPython kernel.\n"
          ],
          "name": "stderr"
        }
      ]
    },
    {
      "cell_type": "code",
      "metadata": {
        "id": "Y9Gviq-mn5Sg"
      },
      "source": [
        "wd.get(\"https://www.indiegogo.com/explore/all?project_type=campaign&project_timing=all&sort=trending\")"
      ],
      "execution_count": null,
      "outputs": []
    },
    {
      "cell_type": "markdown",
      "metadata": {
        "id": "p3Sbfud-WbV-"
      },
      "source": [
        "Take a look to the screenshot from our phantom browser.\n",
        "\n",
        "Note:\n",
        "- la language and the locale: It is en_US!\n",
        "- the screen ration: is it the same of our notebook?"
      ]
    },
    {
      "cell_type": "code",
      "metadata": {
        "id": "iBCZSC4dWfKW",
        "colab": {
          "base_uri": "https://localhost:8080/",
          "height": 356
        },
        "outputId": "23230c5f-037a-4f78-8343-c99609de7fdc"
      },
      "source": [
        "wd.save_screenshot('screenshot.png')\n",
        "\n",
        "%pylab inline\n",
        "import matplotlib.pyplot as plt\n",
        "import matplotlib.image as mpimg\n",
        "img=mpimg.imread('/content/screenshot.png')\n",
        "imgplot = plt.imshow(img)\n",
        "plt.show()"
      ],
      "execution_count": null,
      "outputs": [
        {
          "output_type": "stream",
          "text": [
            "Populating the interactive namespace from numpy and matplotlib\n"
          ],
          "name": "stdout"
        },
        {
          "output_type": "stream",
          "text": [
            "/usr/local/lib/python3.7/dist-packages/IPython/core/magics/pylab.py:161: UserWarning: pylab import has clobbered these variables: ['f']\n",
            "`%matplotlib` prevents importing * from pylab and numpy\n",
            "  \"\\n`%matplotlib` prevents importing * from pylab and numpy\"\n"
          ],
          "name": "stderr"
        },
        {
          "output_type": "display_data",
          "data": {
            "image/png": "[encoded data removed]",
            "text/plain": [
              "<Figure size 432x288 with 1 Axes>"
            ]
          },
          "metadata": {
            "tags": [],
            "needs_background": "light"
          }
        }
      ]
    },
    {
      "cell_type": "markdown",
      "metadata": {
        "id": "kRr2IAQsa1s_"
      },
      "source": [
        "Let's try to extract some information from the page\n",
        "\n",
        "\n",
        "\n",
        "`title` contains the title of our page.\n",
        "\n",
        "\n"
      ]
    },
    {
      "cell_type": "code",
      "metadata": {
        "id": "X033nUzra6uq",
        "colab": {
          "base_uri": "https://localhost:8080/"
        },
        "outputId": "0206365e-f905-41d8-d402-a8d3f1eaa455"
      },
      "source": [
        "print(wd.title)"
      ],
      "execution_count": null,
      "outputs": [
        {
          "output_type": "stream",
          "text": [
            "Explore Crowdfunding Campaigns & Unique Products | Indiegogo\n"
          ],
          "name": "stdout"
        }
      ]
    },
    {
      "cell_type": "markdown",
      "metadata": {
        "id": "C2FL7PA0jXdP"
      },
      "source": [
        "### First exercise with *Selenium*\n",
        "\n",
        "Try it yourself... Print the contents of the page on the screen!\n",
        "\n",
        "Complete the code and annotate the different behaviour. Try to use the attributes/methods applied to `wd`\n",
        "\n",
        "- `page_source`\n",
        "- `find_element_by_tag_name(\"body\")`\n",
        "- `find_element_by_tag_name(\"body\").text`\n",
        "\n",
        "\n"
      ]
    },
    {
      "cell_type": "code",
      "metadata": {
        "id": "wkPbJsAPj19o"
      },
      "source": [
        "print(....)"
      ],
      "execution_count": null,
      "outputs": []
    },
    {
      "cell_type": "markdown",
      "metadata": {
        "id": "zK7Cf_mradiL"
      },
      "source": [
        "### How do we extract the values inside a page with CSS Selector?\n",
        "\n",
        "Selenium has a method called `find_elements_by_css_selector`.\n",
        "\n",
        "We will pass our CSS Selector into this method and get a list of selenium elements. Once we have the element, we can extract the text inside it using the `text` function."
      ]
    },
    {
      "cell_type": "code",
      "metadata": {
        "id": "WFuRVKIdbWN3",
        "colab": {
          "base_uri": "https://localhost:8080/"
        },
        "outputId": "68cf9d57-058c-4999-98e1-d0df1ab74d3a"
      },
      "source": [
        "list_titles = wd.find_elements_by_css_selector(\"div.discoverableCard-title\")\n",
        "print(len(list_titles))"
      ],
      "execution_count": null,
      "outputs": [
        {
          "output_type": "stream",
          "text": [
            "12\n"
          ],
          "name": "stdout"
        }
      ]
    },
    {
      "cell_type": "code",
      "metadata": {
        "id": "cRPP5xUrbwcE",
        "colab": {
          "base_uri": "https://localhost:8080/"
        },
        "outputId": "5eddf126-b576-44c4-8b15-17e94b815969"
      },
      "source": [
        "print(list_titles[0].text)"
      ],
      "execution_count": null,
      "outputs": [
        {
          "output_type": "stream",
          "text": [
            "SIRUI 75mm Anamorphic Lens King of Portrait\n"
          ],
          "name": "stdout"
        }
      ]
    },
    {
      "cell_type": "markdown",
      "metadata": {
        "id": "bAtLMeKVb8Wp"
      },
      "source": [
        "### Exercise on *find_elements_by_css_selector*\n",
        "\n",
        "Try to export the list of `div.discoverableCard-description` elements and show the content of the first element. Scope: get the description of the projects\n",
        "\n",
        "\n"
      ]
    },
    {
      "cell_type": "code",
      "metadata": {
        "id": "6_4-y31fcEYq"
      },
      "source": [
        "list_description = wd......(\"...\")\n",
        "print(len(list_description))"
      ],
      "execution_count": null,
      "outputs": []
    },
    {
      "cell_type": "markdown",
      "metadata": {
        "id": "A1ETBqlPcQhl"
      },
      "source": [
        "# Project List from Indiegogo\n",
        "\n",
        "Let's begin to download the list of projects.\n",
        "\n",
        "The list of projects is defined by the css selection rule\n",
        "`discoverable-card`\n",
        "\n"
      ]
    },
    {
      "cell_type": "code",
      "metadata": {
        "id": "_V1hNO9ZcJy6",
        "colab": {
          "base_uri": "https://localhost:8080/"
        },
        "outputId": "3383b5e8-a795-46e7-b5da-2b0171d26bac"
      },
      "source": [
        "list_projects = wd.find_elements_by_css_selector(\"discoverable-card\")\n",
        "print(len(list_projects))"
      ],
      "execution_count": null,
      "outputs": [
        {
          "output_type": "stream",
          "text": [
            "12\n"
          ],
          "name": "stdout"
        }
      ]
    },
    {
      "cell_type": "markdown",
      "metadata": {
        "id": "k_fSFWX0cktI"
      },
      "source": [
        "Gread! We find 12 project!\n",
        "\n",
        "Now, we will extract the attribute from each single element.\n",
        "The scope is to create one dict for each project in the list with the attribute:\n",
        "\n",
        "\n",
        "1.   url\n",
        "2.   title\n",
        "3.   description\n",
        "4.   category\n",
        "5.   progress\n",
        "\n"
      ]
    },
    {
      "cell_type": "code",
      "metadata": {
        "id": "1J2xAL6qcj9-",
        "colab": {
          "base_uri": "https://localhost:8080/"
        },
        "outputId": "faabc6ce-82de-4009-c906-6d6887382f27"
      },
      "source": [
        "import pprint\n",
        "detail_projects = []\n",
        "for project in list_projects:\n",
        "    url = project.find_elements_by_css_selector(\"a\")[0].get_attribute(\"href\")\n",
        "    title = \"\"\n",
        "    description = \"\"\n",
        "    category = \"\"\n",
        "    project_id = \"\"\n",
        "    balance = \"\"\n",
        "    currency = \"\"\n",
        "    image = \"\"\n",
        "    progress = \"\"\n",
        "    if(len(project.find_elements_by_css_selector(\".discoverableCard-title\")) > 0):\n",
        "      title = project.find_elements_by_css_selector(\".discoverableCard-title\")[0].text\n",
        "    if(len(project.find_elements_by_css_selector(\".discoverableCard-description\")) > 0):\n",
        "      description = project.find_elements_by_css_selector(\".discoverableCard-description\")[0].text\n",
        "    if(len(project.find_elements_by_css_selector(\".discoverableCard-category\")) > 0):\n",
        "      category = project.find_elements_by_css_selector(\".discoverableCard-category\")[0].text\n",
        "    if(len(project.find_elements_by_css_selector(\".discoverableCard-balance\")) > 0):\n",
        "      balance = project.find_elements_by_css_selector(\".discoverableCard-balance\")[0].text\n",
        "    if(len(project.find_elements_by_css_selector(\".discoverableCard-percent\")) > 0):\n",
        "      progress = project.find_elements_by_css_selector(\".discoverableCard-percent\")[0].text\n",
        "    if(len(project.find_elements_by_css_selector(\".discoverableCard-unitsRaised\")) > 0):\n",
        "      currency = project.find_elements_by_css_selector(\".discoverableCard-unitsRaised\")[0].text\n",
        "    project_id = url\n",
        "    if(len(project.find_elements_by_css_selector(\".discoverableCard-image\")) > 0):\n",
        "      image = project.find_elements_by_css_selector(\".discoverableCard-image\")[0].get_attribute(\"data-bgset\")\n",
        "\n",
        "    detail_projects.append({'url': url,\n",
        "                            'image': image,\n",
        "                            'title': title,\n",
        "                            'description': description,\n",
        "                            'category': category,\n",
        "                            'balance': balance,\n",
        "                            'currency': currency,\n",
        "                            'progress': progress,\n",
        "                            'project_id': project_id})\n",
        "\n",
        "len(detail_projects)\n",
        "pprint.pprint(detail_projects[0:5])"
      ],
      "execution_count": null,
      "outputs": [
        {
          "output_type": "stream",
          "text": [
            "[{'balance': '$305,424 ',\n",
            "  'category': 'CAMERA GEAR',\n",
            "  'currency': 'USD raised',\n",
            "  'description': 'Enhance the artistic appeal of your footage and immerse your '\n",
            "                 'audience in an anamorphic world.',\n",
            "  'image': 'https://c1.iggcdn.com/indiegogo-media-prod-cld/image/upload/c_fill,f_auto,h_273,w_273/gp5aurjxy2arn8nbflwu.jpg',\n",
            "  'progress': '61,085%',\n",
            "  'project_id': 'https://www.indiegogo.com/projects/sirui-75mm-anamorphic-lens-king-of-portrait/pica',\n",
            "  'title': 'SIRUI 75mm Anamorphic Lens King of Portrait',\n",
            "  'url': 'https://www.indiegogo.com/projects/sirui-75mm-anamorphic-lens-king-of-portrait/pica'},\n",
            " {'balance': '$209,162 ',\n",
            "  'category': 'TRAVEL & OUTDOORS',\n",
            "  'currency': 'USD raised',\n",
            "  'description': 'The world’s smartest lighting helmet with 270° rear light, '\n",
            "                 'patented fall detection and SOS alert',\n",
            "  'image': 'https://c1.iggcdn.com/indiegogo-media-prod-cld/image/upload/c_fill,f_auto,h_273,w_273/isxwv6z9ejscsj1iegjy.jpg',\n",
            "  'progress': '2,092%',\n",
            "  'project_id': 'https://www.indiegogo.com/projects/livall-evo21-smart-helmet-360-active-protection/pica',\n",
            "  'title': 'LIVALL EVO21 Smart Helmet: 360 Active Protection',\n",
            "  'url': 'https://www.indiegogo.com/projects/livall-evo21-smart-helmet-360-active-protection/pica'},\n",
            " {'balance': '€8,028 ',\n",
            "  'category': 'HEALTH & FITNESS',\n",
            "  'currency': 'EUR raised',\n",
            "  'description': 'From a drop of saliva, me.mum analyzes hormones and predicts '\n",
            "                 'the best possible time to conceive',\n",
            "  'image': 'https://c1.iggcdn.com/indiegogo-media-prod-cld/image/upload/c_fill,f_auto,h_273,w_273/mbcrqblic4k2mnmr9pn9.jpg',\n",
            "  'progress': '115%',\n",
            "  'project_id': 'https://www.indiegogo.com/projects/me-mum-a-new-method-for-predicting-fertility/pica',\n",
            "  'title': 'me.mum: a new method for predicting fertility',\n",
            "  'url': 'https://www.indiegogo.com/projects/me-mum-a-new-method-for-predicting-fertility/pica'},\n",
            " {'balance': '$19,499,995 ',\n",
            "  'category': 'TRAVEL & OUTDOORS',\n",
            "  'currency': 'HKD raised',\n",
            "  'description': 'The ultimate heated jacket: Graphene-infused, lightweight, '\n",
            "                 'waterproof, with 10 smart pockets!',\n",
            "  'image': 'https://c1.iggcdn.com/indiegogo-media-prod-cld/image/upload/c_fill,f_auto,h_273,w_273/es7td4ynkw8hbvkxe3hx.jpg',\n",
            "  'progress': '49,472%',\n",
            "  'project_id': 'https://www.indiegogo.com/projects/gamma-all-season-graphene-infused-heated-jacket/pica',\n",
            "  'title': 'GAMMA: All-Season Graphene Infused Heated Jacket',\n",
            "  'url': 'https://www.indiegogo.com/projects/gamma-all-season-graphene-infused-heated-jacket/pica'},\n",
            " {'balance': '€332,588 ',\n",
            "  'category': 'PRODUCTIVITY',\n",
            "  'currency': 'EUR raised',\n",
            "  'description': 'Your workstation, anywhere. Guaranteed to boost your '\n",
            "                 'productivity.',\n",
            "  'image': 'https://c1.iggcdn.com/indiegogo-media-prod-cld/image/upload/c_fill,f_auto,h_273,w_273/iulwys6gxhwl0jryclur.jpg',\n",
            "  'progress': '3,326%',\n",
            "  'project_id': 'https://www.indiegogo.com/projects/edge-the-first-modular-work-from-home-kit/pica',\n",
            "  'title': 'EDGE - The First Modular Work From Home Kit',\n",
            "  'url': 'https://www.indiegogo.com/projects/edge-the-first-modular-work-from-home-kit/pica'}]\n"
          ],
          "name": "stdout"
        }
      ]
    },
    {
      "cell_type": "markdown",
      "metadata": {
        "id": "9Sn0txryfR4c"
      },
      "source": [
        "Now let's try downloading all the ads on the front page...\n",
        "and then move on to the second.\n",
        "\n",
        "First we define a `parse_project` function to make the code cleaner and to reuse the function."
      ]
    },
    {
      "cell_type": "code",
      "metadata": {
        "id": "tD3KLUrIfTJd"
      },
      "source": [
        "def parse_project(project):\n",
        "  url = project.find_elements_by_css_selector(\"a\")[0].get_attribute(\"href\")\n",
        "  title = \"\"\n",
        "  description = \"\"\n",
        "  category = \"\"\n",
        "  project_id = \"\"\n",
        "  balance = \"\"\n",
        "  currency = \"\"\n",
        "  progress = \"\"\n",
        "  image = \"\"\n",
        "  try:\n",
        "    if(len(project.find_elements_by_css_selector(\".discoverableCard-title\")) > 0):\n",
        "      title = project.find_elements_by_css_selector(\".discoverableCard-title\")[0].text\n",
        "    if(len(project.find_elements_by_css_selector(\".discoverableCard-description\")) > 0):\n",
        "      description = project.find_elements_by_css_selector(\".discoverableCard-description\")[0].text\n",
        "    if(len(project.find_elements_by_css_selector(\".discoverableCard-category\")) > 0):\n",
        "      category = project.find_elements_by_css_selector(\".discoverableCard-category\")[0].text\n",
        "    if(len(project.find_elements_by_css_selector(\".discoverableCard-balance\")) > 0):\n",
        "      balance = project.find_elements_by_css_selector(\".discoverableCard-balance\")[0].text\n",
        "    if(len(project.find_elements_by_css_selector(\".discoverableCard-percent\")) > 0):\n",
        "      progress = project.find_elements_by_css_selector(\".discoverableCard-percent\")[0].text\n",
        "    if(len(project.find_elements_by_css_selector(\".discoverableCard-unitsRaised\")) > 0):\n",
        "      currency = project.find_elements_by_css_selector(\".discoverableCard-unitsRaised\")[0].text\n",
        "    if(len(project.find_elements_by_css_selector(\".discoverableCard-image\")) > 0):\n",
        "      image = project.find_elements_by_css_selector(\".discoverableCard-image\")[0].get_attribute(\"data-bgset\")\n",
        "    project_id = url\n",
        "  except:\n",
        "    pass\n",
        "  return {'url': url,\n",
        "          'title': title,\n",
        "          'image': image,\n",
        "          'description': description,\n",
        "          'category': category,\n",
        "          'balance': balance,\n",
        "          'currency': currency,\n",
        "          'progress': progress,\n",
        "          'project_id': project_id}\n"
      ],
      "execution_count": null,
      "outputs": []
    },
    {
      "cell_type": "markdown",
      "metadata": {
        "id": "SR-xG0FIgf7u"
      },
      "source": [
        "Here's how to download the first page of projects..."
      ]
    },
    {
      "cell_type": "code",
      "metadata": {
        "id": "TfWSS_33fbZg",
        "colab": {
          "base_uri": "https://localhost:8080/",
          "height": 153,
          "referenced_widgets": [
            "a3009a54ff914d818769a9fe6250457d",
            "75927df1cac248df84a60bfaf37a88f0",
            "ed806bbee1bb47c5bb29eec5e774ba91",
            "d36645ad762b4aa7b1d8b82e67a09b0d",
            "cb1b57e8ba97449b84f2d95701d8ca54",
            "cc0bb67917e84018b348257bdd95cae4",
            "a4352636d7f8451182ce661c8d9197b9",
            "1b73fc958faa443a87f306e76c118c54"
          ]
        },
        "outputId": "620f5f3b-1e24-4291-f32c-01f75172ed67"
      },
      "source": [
        "detail_projects = []\n",
        "wd.get(\"https://www.indiegogo.com/explore/all?project_type=campaign&project_timing=all&sort=trending\")\n",
        "wd.save_screenshot(f'screenshot.png')\n",
        "list_projects = wd.find_elements_by_css_selector(\"discoverable-card\")\n",
        "for project in tqdm(list_projects):\n",
        "  detail_projects.append(parse_project(project))\n",
        "\n",
        "print(len(detail_projects))"
      ],
      "execution_count": null,
      "outputs": [
        {
          "output_type": "stream",
          "text": [
            "/usr/local/lib/python3.7/dist-packages/ipykernel_launcher.py:5: TqdmDeprecationWarning: This function will be removed in tqdm==5.0.0\n",
            "Please use `tqdm.notebook.tqdm` instead of `tqdm.tqdm_notebook`\n",
            "  \"\"\"\n"
          ],
          "name": "stderr"
        },
        {
          "output_type": "display_data",
          "data": {
            "application/vnd.jupyter.widget-view+json": {
              "model_id": "a3009a54ff914d818769a9fe6250457d",
              "version_minor": 0,
              "version_major": 2
            },
            "text/plain": [
              "HBox(children=(FloatProgress(value=0.0, max=12.0), HTML(value='')))"
            ]
          },
          "metadata": {
            "tags": []
          }
        },
        {
          "output_type": "stream",
          "text": [
            "\n",
            "12\n"
          ],
          "name": "stdout"
        }
      ]
    },
    {
      "cell_type": "markdown",
      "metadata": {
        "id": "HbjVFLOOgnNx"
      },
      "source": [
        "Have you seen the bookstore **tqdm**!\n",
        "Find at this link all the documentation **https://github.com/tqdm/tqdm**:\n",
        "is very useful to make our notebook more nice..."
      ]
    },
    {
      "cell_type": "markdown",
      "metadata": {
        "id": "S9MsWLutg4Oi"
      },
      "source": [
        "### How to end scraping?\n",
        "Problem: When do we stop?\n",
        "\n",
        "There are several ways. Some simpler and some more advanced:\n",
        "- We can search inside the page for the ad number and divide it by 12\n",
        "- We can check the status of the request (if (status_code == 200):... for a list of possible http status codes please check https://en.wikipedia.org/wiki/List_of_HTTP_status_codes)\n",
        "- We can check the number of ads found (if > 0...)\n",
        "- Other more advanced techniques...\n",
        "\n",
        "For example, in our case, let's go to verify the presence, or not, of the *Snow more* button inside the page. If present, we continue scraping, otherwise we stop.\n",
        "\n",
        "Actually, we can also combine more than one of these techniques.\n",
        "\n"
      ]
    },
    {
      "cell_type": "code",
      "metadata": {
        "id": "nkofmsCGgwQA",
        "colab": {
          "base_uri": "https://localhost:8080/",
          "height": 153,
          "referenced_widgets": [
            "3aa951e4285c45b29e6308c524a9654d",
            "c2477e4a8c194b80abc21c87905f36a6",
            "f6e2fd947eec42dba3feaf9aaa402efd",
            "f8628214cf93475da59835abcf4f1ff2",
            "b875f134126a461d9e99b835e18d94c1",
            "f6662212fc5d45ce9a58d35b116fd0e4",
            "f02c0fc9c0c64e9fb11cf856b5ae24b8",
            "20f69a4838de458bb72f57d8cef0b3c6"
          ]
        },
        "outputId": "90b86d65-efc0-4168-aaca-22a1e5fbea24"
      },
      "source": [
        "import time\n",
        "detail_projects = []\n",
        "wd.get(\"https://www.indiegogo.com/explore/all?project_type=campaign&project_timing=all&sort=trending\")\n",
        "time.sleep(5)\n",
        "wd.save_screenshot(\"check_browser.png\")\n",
        "if (len(wd.find_elements_by_id(\"CybotCookiebotDialogBodyButtonAccept\")) > 0):\n",
        "  print(\"Click cookie law button\")\n",
        "  wd.find_elements_by_id(\"CybotCookiebotDialogBodyButtonAccept\")[0].click()\n",
        "for num in tqdm(range(1,10)):\n",
        "  items = (num - 1) * 12\n",
        "  list_projects = wd.find_elements_by_css_selector(f\"discoverable-card:nth-child(n+{items})\")\n",
        "  for project in list_projects:\n",
        "    detail_projects.append(parse_project(project))\n",
        "  if (len(wd.find_elements_by_css_selector(\".i-cta-1\")) > 0):\n",
        "    wd.find_element_by_css_selector(\".i-cta-1\").click()\n",
        "    time.sleep(3)\n",
        "    wd.save_screenshot(\"check_browser.png\")\n",
        "  else:\n",
        "    break\n",
        "\n"
      ],
      "execution_count": null,
      "outputs": [
        {
          "output_type": "stream",
          "text": [
            "Click cookie law button\n"
          ],
          "name": "stdout"
        },
        {
          "output_type": "stream",
          "text": [
            "/usr/local/lib/python3.7/dist-packages/ipykernel_launcher.py:9: TqdmDeprecationWarning: This function will be removed in tqdm==5.0.0\n",
            "Please use `tqdm.notebook.tqdm` instead of `tqdm.tqdm_notebook`\n",
            "  if __name__ == '__main__':\n"
          ],
          "name": "stderr"
        },
        {
          "output_type": "display_data",
          "data": {
            "application/vnd.jupyter.widget-view+json": {
              "model_id": "3aa951e4285c45b29e6308c524a9654d",
              "version_minor": 0,
              "version_major": 2
            },
            "text/plain": [
              "HBox(children=(FloatProgress(value=0.0, max=9.0), HTML(value='')))"
            ]
          },
          "metadata": {
            "tags": []
          }
        },
        {
          "output_type": "stream",
          "text": [
            "\n"
          ],
          "name": "stdout"
        }
      ]
    },
    {
      "cell_type": "code",
      "metadata": {
        "colab": {
          "base_uri": "https://localhost:8080/"
        },
        "id": "Gmq5qNHoAUk7",
        "outputId": "e8e4764e-47d6-4a13-ea7e-9a2ce5366c89"
      },
      "source": [
        "print(len(detail_projects))\n",
        "print(detail_projects[30:32])"
      ],
      "execution_count": null,
      "outputs": [
        {
          "output_type": "stream",
          "text": [
            "116\n",
            "[{'url': 'https://www.indiegogo.com/projects/tempmi-the-world-s-smallest-tritium-thermometer/pica', 'title': 'TEMPMi - The World’s Smallest Tritium Thermometer', 'image': 'https://c1.iggcdn.com/indiegogo-media-prod-cld/image/upload/c_fill,f_auto,h_273,w_273/allqsyi9mqmhovtw43jk.jpg', 'description': 'Contactless Measurement | Compact | Tritium | App Tracking | Measure for all | Android & iOS', 'category': 'HEALTH & FITNESS', 'balance': '$958,380 ', 'currency': 'HKD raised', 'progress': '3,828%', 'project_id': 'https://www.indiegogo.com/projects/tempmi-the-world-s-smallest-tritium-thermometer/pica'}, {'url': 'https://www.indiegogo.com/projects/sensitive-men-rising-the-documentary--2/pica', 'title': 'Sensitive Men Rising-The Documentary', 'image': 'https://c1.iggcdn.com/indiegogo-media-prod-cld/image/upload/c_fill,f_auto,h_273,w_273/c5h7sqpyf7ufthhnrqzm.jpg', 'description': 'This campaign is for the documentary film Sensitive Men Rising, the first film about sensitive men', 'category': 'FILM', 'balance': '$1,227 ', 'currency': 'USD raised', 'progress': '5%', 'project_id': 'https://www.indiegogo.com/projects/sensitive-men-rising-the-documentary--2/pica'}]\n"
          ],
          "name": "stdout"
        }
      ]
    },
    {
      "cell_type": "markdown",
      "metadata": {
        "id": "TqxsicNNovfy"
      },
      "source": [
        "# Pandas and data processing\n",
        "\n",
        "**Well!**\n",
        "We're starting to see another amazing library for working with data!\n",
        "\n",
        "It's **pandas**: *Python library for data analysis*.\n",
        "\n",
        "Basically, with pandas we can manipulate a data set or a historical series in Python.\n",
        "\n",
        "For now, we start to give a couple of concepts.\n",
        "\n",
        "Pandas is based on two types of data: **Series** and **DataFrame**:\n",
        "- `Series` represents a list of data\n",
        "- `DataFrame` represent a data set in tabular format\n",
        "\n",
        "Each column of a `DataFrame` is a `Series`.\n",
        "\n",
        "We can create a `DataFrame` using the `pd.DataFrame` method by passing our dictionary as an input parameter.\n",
        "\n",
        "A `DataFrame` pandas can be easily exported in *CSV*, *Excel*, ...\n",
        "\n",
        "For more information about `Pandas` see\n",
        "\n",
        "https://pandas.pydata.org/getting_started.html\n"
      ]
    },
    {
      "cell_type": "code",
      "metadata": {
        "id": "MumFgyNypoBo",
        "colab": {
          "base_uri": "https://localhost:8080/",
          "height": 585
        },
        "outputId": "f736b0d6-afd9-41a2-fb72-d62c71631483"
      },
      "source": [
        "import pandas as pd\n",
        "ds_detail_projects = pd.DataFrame(detail_projects)\n",
        "ds_detail_projects.set_index(\"project_id\")\n",
        "ds_detail_projects.head()"
      ],
      "execution_count": null,
      "outputs": [
        {
          "output_type": "execute_result",
          "data": {
            "text/html": [
              "<div>\n",
              "<style scoped>\n",
              "    .dataframe tbody tr th:only-of-type {\n",
              "        vertical-align: middle;\n",
              "    }\n",
              "\n",
              "    .dataframe tbody tr th {\n",
              "        vertical-align: top;\n",
              "    }\n",
              "\n",
              "    .dataframe thead th {\n",
              "        text-align: right;\n",
              "    }\n",
              "</style>\n",
              "<table border=\"1\" class=\"dataframe\">\n",
              "  <thead>\n",
              "    <tr style=\"text-align: right;\">\n",
              "      <th></th>\n",
              "      <th>url</th>\n",
              "      <th>title</th>\n",
              "      <th>image</th>\n",
              "      <th>description</th>\n",
              "      <th>category</th>\n",
              "      <th>balance</th>\n",
              "      <th>currency</th>\n",
              "      <th>progress</th>\n",
              "      <th>project_id</th>\n",
              "    </tr>\n",
              "  </thead>\n",
              "  <tbody>\n",
              "    <tr>\n",
              "      <th>0</th>\n",
              "      <td>https://www.indiegogo.com/projects/sirui-75mm-...</td>\n",
              "      <td>SIRUI 75mm Anamorphic Lens King of Portrait</td>\n",
              "      <td>https://c1.iggcdn.com/indiegogo-media-prod-cld...</td>\n",
              "      <td>Enhance the artistic appeal of your footage an...</td>\n",
              "      <td>CAMERA GEAR</td>\n",
              "      <td>$305,424</td>\n",
              "      <td>USD raised</td>\n",
              "      <td>61,085%</td>\n",
              "      <td>https://www.indiegogo.com/projects/sirui-75mm-...</td>\n",
              "    </tr>\n",
              "    <tr>\n",
              "      <th>1</th>\n",
              "      <td>https://www.indiegogo.com/projects/livall-evo2...</td>\n",
              "      <td>LIVALL EVO21 Smart Helmet: 360 Active Protection</td>\n",
              "      <td>https://c1.iggcdn.com/indiegogo-media-prod-cld...</td>\n",
              "      <td>The world’s smartest lighting helmet with 270°...</td>\n",
              "      <td>TRAVEL &amp; OUTDOORS</td>\n",
              "      <td>$209,162</td>\n",
              "      <td>USD raised</td>\n",
              "      <td>2,092%</td>\n",
              "      <td>https://www.indiegogo.com/projects/livall-evo2...</td>\n",
              "    </tr>\n",
              "    <tr>\n",
              "      <th>2</th>\n",
              "      <td>https://www.indiegogo.com/projects/me-mum-a-ne...</td>\n",
              "      <td>me.mum: a new method for predicting fertility</td>\n",
              "      <td>https://c1.iggcdn.com/indiegogo-media-prod-cld...</td>\n",
              "      <td>From a drop of saliva, me.mum analyzes hormone...</td>\n",
              "      <td>HEALTH &amp; FITNESS</td>\n",
              "      <td>€8,028</td>\n",
              "      <td>EUR raised</td>\n",
              "      <td>115%</td>\n",
              "      <td>https://www.indiegogo.com/projects/me-mum-a-ne...</td>\n",
              "    </tr>\n",
              "    <tr>\n",
              "      <th>3</th>\n",
              "      <td>https://www.indiegogo.com/projects/gamma-all-s...</td>\n",
              "      <td>GAMMA: All-Season Graphene Infused Heated Jacket</td>\n",
              "      <td>https://c1.iggcdn.com/indiegogo-media-prod-cld...</td>\n",
              "      <td>The ultimate heated jacket: Graphene-infused, ...</td>\n",
              "      <td>TRAVEL &amp; OUTDOORS</td>\n",
              "      <td>$19,499,995</td>\n",
              "      <td>HKD raised</td>\n",
              "      <td>49,472%</td>\n",
              "      <td>https://www.indiegogo.com/projects/gamma-all-s...</td>\n",
              "    </tr>\n",
              "    <tr>\n",
              "      <th>4</th>\n",
              "      <td>https://www.indiegogo.com/projects/edge-the-fi...</td>\n",
              "      <td>EDGE - The First Modular Work From Home Kit</td>\n",
              "      <td>https://c1.iggcdn.com/indiegogo-media-prod-cld...</td>\n",
              "      <td>Your workstation, anywhere. Guaranteed to boos...</td>\n",
              "      <td>PRODUCTIVITY</td>\n",
              "      <td>€332,588</td>\n",
              "      <td>EUR raised</td>\n",
              "      <td>3,326%</td>\n",
              "      <td>https://www.indiegogo.com/projects/edge-the-fi...</td>\n",
              "    </tr>\n",
              "  </tbody>\n",
              "</table>\n",
              "</div>"
            ],
            "text/plain": [
              "                                                 url  ...                                         project_id\n",
              "0  https://www.indiegogo.com/projects/sirui-75mm-...  ...  https://www.indiegogo.com/projects/sirui-75mm-...\n",
              "1  https://www.indiegogo.com/projects/livall-evo2...  ...  https://www.indiegogo.com/projects/livall-evo2...\n",
              "2  https://www.indiegogo.com/projects/me-mum-a-ne...  ...  https://www.indiegogo.com/projects/me-mum-a-ne...\n",
              "3  https://www.indiegogo.com/projects/gamma-all-s...  ...  https://www.indiegogo.com/projects/gamma-all-s...\n",
              "4  https://www.indiegogo.com/projects/edge-the-fi...  ...  https://www.indiegogo.com/projects/edge-the-fi...\n",
              "\n",
              "[5 rows x 9 columns]"
            ]
          },
          "metadata": {
            "tags": []
          },
          "execution_count": 98
        }
      ]
    },
    {
      "cell_type": "markdown",
      "metadata": {
        "id": "GwW7Sj7irFDT"
      },
      "source": [
        "The `.info()` method provides an indication of the structure and data of the `DataFrame`."
      ]
    },
    {
      "cell_type": "code",
      "metadata": {
        "id": "_tFbyPwcrNY4",
        "colab": {
          "base_uri": "https://localhost:8080/"
        },
        "outputId": "edb10246-8017-4098-c4e8-63c9fadf69bc"
      },
      "source": [
        "ds_detail_projects.info()"
      ],
      "execution_count": null,
      "outputs": [
        {
          "output_type": "stream",
          "text": [
            "<class 'pandas.core.frame.DataFrame'>\n",
            "RangeIndex: 116 entries, 0 to 115\n",
            "Data columns (total 9 columns):\n",
            " #   Column       Non-Null Count  Dtype \n",
            "---  ------       --------------  ----- \n",
            " 0   url          116 non-null    object\n",
            " 1   title        116 non-null    object\n",
            " 2   image        116 non-null    object\n",
            " 3   description  116 non-null    object\n",
            " 4   category     116 non-null    object\n",
            " 5   balance      116 non-null    object\n",
            " 6   currency     116 non-null    object\n",
            " 7   progress     116 non-null    object\n",
            " 8   project_id   116 non-null    object\n",
            "dtypes: object(9)\n",
            "memory usage: 8.3+ KB\n"
          ],
          "name": "stdout"
        }
      ]
    },
    {
      "cell_type": "code",
      "metadata": {
        "id": "3lUw4-_BrQDh"
      },
      "source": [
        "ds_detail_projects.to_csv('ds_projects.csv')"
      ],
      "execution_count": null,
      "outputs": []
    },
    {
      "cell_type": "markdown",
      "metadata": {
        "id": "AXdgP8t3q_A-"
      },
      "source": [
        "# Indiegogo Project pages ###\n",
        "\n",
        "Now, the goal is to navigate and download the details of each project and pictures of the houses.\n",
        "\n",
        "**Pandas** provides the *.read_csv* method that allows you to upload in CSV format files within a DataFrame."
      ]
    },
    {
      "cell_type": "code",
      "metadata": {
        "id": "yVnUyfGsvcac",
        "colab": {
          "base_uri": "https://localhost:8080/",
          "height": 631
        },
        "outputId": "d182e67f-d829-4454-fa23-adc75095b058"
      },
      "source": [
        "# open csv file\n",
        "import pandas as pd\n",
        "ds_detail_projects = pd.read_csv(\"ds_projects.csv\", index_col=\"project_id\")\n",
        "ds_detail_projects.head()"
      ],
      "execution_count": null,
      "outputs": [
        {
          "output_type": "execute_result",
          "data": {
            "text/html": [
              "<div>\n",
              "<style scoped>\n",
              "    .dataframe tbody tr th:only-of-type {\n",
              "        vertical-align: middle;\n",
              "    }\n",
              "\n",
              "    .dataframe tbody tr th {\n",
              "        vertical-align: top;\n",
              "    }\n",
              "\n",
              "    .dataframe thead th {\n",
              "        text-align: right;\n",
              "    }\n",
              "</style>\n",
              "<table border=\"1\" class=\"dataframe\">\n",
              "  <thead>\n",
              "    <tr style=\"text-align: right;\">\n",
              "      <th></th>\n",
              "      <th>Unnamed: 0</th>\n",
              "      <th>url</th>\n",
              "      <th>title</th>\n",
              "      <th>image</th>\n",
              "      <th>description</th>\n",
              "      <th>category</th>\n",
              "      <th>balance</th>\n",
              "      <th>currency</th>\n",
              "      <th>progress</th>\n",
              "    </tr>\n",
              "    <tr>\n",
              "      <th>project_id</th>\n",
              "      <th></th>\n",
              "      <th></th>\n",
              "      <th></th>\n",
              "      <th></th>\n",
              "      <th></th>\n",
              "      <th></th>\n",
              "      <th></th>\n",
              "      <th></th>\n",
              "      <th></th>\n",
              "    </tr>\n",
              "  </thead>\n",
              "  <tbody>\n",
              "    <tr>\n",
              "      <th>https://www.indiegogo.com/projects/sirui-75mm-anamorphic-lens-king-of-portrait/pica</th>\n",
              "      <td>0</td>\n",
              "      <td>https://www.indiegogo.com/projects/sirui-75mm-...</td>\n",
              "      <td>SIRUI 75mm Anamorphic Lens King of Portrait</td>\n",
              "      <td>https://c1.iggcdn.com/indiegogo-media-prod-cld...</td>\n",
              "      <td>Enhance the artistic appeal of your footage an...</td>\n",
              "      <td>CAMERA GEAR</td>\n",
              "      <td>$305,424</td>\n",
              "      <td>USD raised</td>\n",
              "      <td>61,085%</td>\n",
              "    </tr>\n",
              "    <tr>\n",
              "      <th>https://www.indiegogo.com/projects/livall-evo21-smart-helmet-360-active-protection/pica</th>\n",
              "      <td>1</td>\n",
              "      <td>https://www.indiegogo.com/projects/livall-evo2...</td>\n",
              "      <td>LIVALL EVO21 Smart Helmet: 360 Active Protection</td>\n",
              "      <td>https://c1.iggcdn.com/indiegogo-media-prod-cld...</td>\n",
              "      <td>The world’s smartest lighting helmet with 270°...</td>\n",
              "      <td>TRAVEL &amp; OUTDOORS</td>\n",
              "      <td>$209,162</td>\n",
              "      <td>USD raised</td>\n",
              "      <td>2,092%</td>\n",
              "    </tr>\n",
              "    <tr>\n",
              "      <th>https://www.indiegogo.com/projects/me-mum-a-new-method-for-predicting-fertility/pica</th>\n",
              "      <td>2</td>\n",
              "      <td>https://www.indiegogo.com/projects/me-mum-a-ne...</td>\n",
              "      <td>me.mum: a new method for predicting fertility</td>\n",
              "      <td>https://c1.iggcdn.com/indiegogo-media-prod-cld...</td>\n",
              "      <td>From a drop of saliva, me.mum analyzes hormone...</td>\n",
              "      <td>HEALTH &amp; FITNESS</td>\n",
              "      <td>€8,028</td>\n",
              "      <td>EUR raised</td>\n",
              "      <td>115%</td>\n",
              "    </tr>\n",
              "    <tr>\n",
              "      <th>https://www.indiegogo.com/projects/gamma-all-season-graphene-infused-heated-jacket/pica</th>\n",
              "      <td>3</td>\n",
              "      <td>https://www.indiegogo.com/projects/gamma-all-s...</td>\n",
              "      <td>GAMMA: All-Season Graphene Infused Heated Jacket</td>\n",
              "      <td>https://c1.iggcdn.com/indiegogo-media-prod-cld...</td>\n",
              "      <td>The ultimate heated jacket: Graphene-infused, ...</td>\n",
              "      <td>TRAVEL &amp; OUTDOORS</td>\n",
              "      <td>$19,499,995</td>\n",
              "      <td>HKD raised</td>\n",
              "      <td>49,472%</td>\n",
              "    </tr>\n",
              "    <tr>\n",
              "      <th>https://www.indiegogo.com/projects/edge-the-first-modular-work-from-home-kit/pica</th>\n",
              "      <td>4</td>\n",
              "      <td>https://www.indiegogo.com/projects/edge-the-fi...</td>\n",
              "      <td>EDGE - The First Modular Work From Home Kit</td>\n",
              "      <td>https://c1.iggcdn.com/indiegogo-media-prod-cld...</td>\n",
              "      <td>Your workstation, anywhere. Guaranteed to boos...</td>\n",
              "      <td>PRODUCTIVITY</td>\n",
              "      <td>€332,588</td>\n",
              "      <td>EUR raised</td>\n",
              "      <td>3,326%</td>\n",
              "    </tr>\n",
              "  </tbody>\n",
              "</table>\n",
              "</div>"
            ],
            "text/plain": [
              "                                                    Unnamed: 0  ... progress\n",
              "project_id                                                      ...         \n",
              "https://www.indiegogo.com/projects/sirui-75mm-a...           0  ...  61,085%\n",
              "https://www.indiegogo.com/projects/livall-evo21...           1  ...   2,092%\n",
              "https://www.indiegogo.com/projects/me-mum-a-new...           2  ...     115%\n",
              "https://www.indiegogo.com/projects/gamma-all-se...           3  ...  49,472%\n",
              "https://www.indiegogo.com/projects/edge-the-fir...           4  ...   3,326%\n",
              "\n",
              "[5 rows x 9 columns]"
            ]
          },
          "metadata": {
            "tags": []
          },
          "execution_count": 101
        }
      ]
    },
    {
      "cell_type": "markdown",
      "metadata": {
        "id": "8VaXQ52Kv2am"
      },
      "source": [
        "***For each project we go to the link... how do you think we do it?***\n",
        "\n",
        "Let's try the first 5 projects.\n",
        "\n",
        "\n",
        "\n",
        "These days most of the web apps are using AJAX techniques. When a page is loaded by the browser, the elements within that page may load at different time intervals. Using waits, we can stop our scraping and wait the loading of a element.\n",
        "\n",
        "Selenium Webdriver provides two types of waits - implicit & explicit. An explicit wait makes WebDriver wait for a certain condition to occur before proceeding further with execution. An implicit wait makes WebDriver poll the DOM for a certain amount of time when trying to locate an element.\n"
      ]
    },
    {
      "cell_type": "code",
      "metadata": {
        "colab": {
          "base_uri": "https://localhost:8080/",
          "height": 631
        },
        "id": "rJDu5yiVFFpS",
        "outputId": "1ed32e30-4f79-42ca-8843-9a971a28b732"
      },
      "source": [
        "# open csv file\n",
        "import pandas as pd\n",
        "ds_detail_projects = pd.read_csv(\"ds_projects.csv\", index_col=\"project_id\")\n",
        "ds_detail_projects.head()"
      ],
      "execution_count": null,
      "outputs": [
        {
          "output_type": "execute_result",
          "data": {
            "text/html": [
              "<div>\n",
              "<style scoped>\n",
              "    .dataframe tbody tr th:only-of-type {\n",
              "        vertical-align: middle;\n",
              "    }\n",
              "\n",
              "    .dataframe tbody tr th {\n",
              "        vertical-align: top;\n",
              "    }\n",
              "\n",
              "    .dataframe thead th {\n",
              "        text-align: right;\n",
              "    }\n",
              "</style>\n",
              "<table border=\"1\" class=\"dataframe\">\n",
              "  <thead>\n",
              "    <tr style=\"text-align: right;\">\n",
              "      <th></th>\n",
              "      <th>Unnamed: 0</th>\n",
              "      <th>url</th>\n",
              "      <th>title</th>\n",
              "      <th>image</th>\n",
              "      <th>description</th>\n",
              "      <th>category</th>\n",
              "      <th>balance</th>\n",
              "      <th>currency</th>\n",
              "      <th>progress</th>\n",
              "    </tr>\n",
              "    <tr>\n",
              "      <th>project_id</th>\n",
              "      <th></th>\n",
              "      <th></th>\n",
              "      <th></th>\n",
              "      <th></th>\n",
              "      <th></th>\n",
              "      <th></th>\n",
              "      <th></th>\n",
              "      <th></th>\n",
              "      <th></th>\n",
              "    </tr>\n",
              "  </thead>\n",
              "  <tbody>\n",
              "    <tr>\n",
              "      <th>https://www.indiegogo.com/projects/sirui-75mm-anamorphic-lens-king-of-portrait/pica</th>\n",
              "      <td>0</td>\n",
              "      <td>https://www.indiegogo.com/projects/sirui-75mm-...</td>\n",
              "      <td>SIRUI 75mm Anamorphic Lens King of Portrait</td>\n",
              "      <td>https://c1.iggcdn.com/indiegogo-media-prod-cld...</td>\n",
              "      <td>Enhance the artistic appeal of your footage an...</td>\n",
              "      <td>CAMERA GEAR</td>\n",
              "      <td>$305,424</td>\n",
              "      <td>USD raised</td>\n",
              "      <td>61,085%</td>\n",
              "    </tr>\n",
              "    <tr>\n",
              "      <th>https://www.indiegogo.com/projects/livall-evo21-smart-helmet-360-active-protection/pica</th>\n",
              "      <td>1</td>\n",
              "      <td>https://www.indiegogo.com/projects/livall-evo2...</td>\n",
              "      <td>LIVALL EVO21 Smart Helmet: 360 Active Protection</td>\n",
              "      <td>https://c1.iggcdn.com/indiegogo-media-prod-cld...</td>\n",
              "      <td>The world’s smartest lighting helmet with 270°...</td>\n",
              "      <td>TRAVEL &amp; OUTDOORS</td>\n",
              "      <td>$209,162</td>\n",
              "      <td>USD raised</td>\n",
              "      <td>2,092%</td>\n",
              "    </tr>\n",
              "    <tr>\n",
              "      <th>https://www.indiegogo.com/projects/me-mum-a-new-method-for-predicting-fertility/pica</th>\n",
              "      <td>2</td>\n",
              "      <td>https://www.indiegogo.com/projects/me-mum-a-ne...</td>\n",
              "      <td>me.mum: a new method for predicting fertility</td>\n",
              "      <td>https://c1.iggcdn.com/indiegogo-media-prod-cld...</td>\n",
              "      <td>From a drop of saliva, me.mum analyzes hormone...</td>\n",
              "      <td>HEALTH &amp; FITNESS</td>\n",
              "      <td>€8,028</td>\n",
              "      <td>EUR raised</td>\n",
              "      <td>115%</td>\n",
              "    </tr>\n",
              "    <tr>\n",
              "      <th>https://www.indiegogo.com/projects/gamma-all-season-graphene-infused-heated-jacket/pica</th>\n",
              "      <td>3</td>\n",
              "      <td>https://www.indiegogo.com/projects/gamma-all-s...</td>\n",
              "      <td>GAMMA: All-Season Graphene Infused Heated Jacket</td>\n",
              "      <td>https://c1.iggcdn.com/indiegogo-media-prod-cld...</td>\n",
              "      <td>The ultimate heated jacket: Graphene-infused, ...</td>\n",
              "      <td>TRAVEL &amp; OUTDOORS</td>\n",
              "      <td>$19,499,995</td>\n",
              "      <td>HKD raised</td>\n",
              "      <td>49,472%</td>\n",
              "    </tr>\n",
              "    <tr>\n",
              "      <th>https://www.indiegogo.com/projects/edge-the-first-modular-work-from-home-kit/pica</th>\n",
              "      <td>4</td>\n",
              "      <td>https://www.indiegogo.com/projects/edge-the-fi...</td>\n",
              "      <td>EDGE - The First Modular Work From Home Kit</td>\n",
              "      <td>https://c1.iggcdn.com/indiegogo-media-prod-cld...</td>\n",
              "      <td>Your workstation, anywhere. Guaranteed to boos...</td>\n",
              "      <td>PRODUCTIVITY</td>\n",
              "      <td>€332,588</td>\n",
              "      <td>EUR raised</td>\n",
              "      <td>3,326%</td>\n",
              "    </tr>\n",
              "  </tbody>\n",
              "</table>\n",
              "</div>"
            ],
            "text/plain": [
              "                                                    Unnamed: 0  ... progress\n",
              "project_id                                                      ...         \n",
              "https://www.indiegogo.com/projects/sirui-75mm-a...           0  ...  61,085%\n",
              "https://www.indiegogo.com/projects/livall-evo21...           1  ...   2,092%\n",
              "https://www.indiegogo.com/projects/me-mum-a-new...           2  ...     115%\n",
              "https://www.indiegogo.com/projects/gamma-all-se...           3  ...  49,472%\n",
              "https://www.indiegogo.com/projects/edge-the-fir...           4  ...   3,326%\n",
              "\n",
              "[5 rows x 9 columns]"
            ]
          },
          "metadata": {
            "tags": []
          },
          "execution_count": 102
        }
      ]
    },
    {
      "cell_type": "code",
      "metadata": {
        "id": "7RJTIyFfv-Ig",
        "colab": {
          "base_uri": "https://localhost:8080/"
        },
        "outputId": "80311385-8f35-4dc5-9a85-daaad4b43eef"
      },
      "source": [
        "from selenium.webdriver.common.by import By\n",
        "from selenium.webdriver.support.ui import WebDriverWait\n",
        "from selenium.webdriver.support import expected_conditions as EC\n",
        "import time\n",
        "details = []\n",
        "for project_id, project in ds_detail_projects.head().iterrows():\n",
        "    time.sleep(10)\n",
        "    link = project[\"url\"]\n",
        "    print(link)\n",
        "    wd.set_window_size(1920, 1080)\n",
        "    wd.get(link)\n",
        "    try:\n",
        "      WebDriverWait(wd, 10).until(\n",
        "          EC.element_to_be_clickable((By.ID, \"div.basicsBackerActions\"))\n",
        "      )\n",
        "    except:\n",
        "      continue\n",
        "\n",
        "    wd.save_screenshot(f'screenshot_1.png')\n",
        "    backers = wd.find_elements_by_css_selector(\".basicsGoalProgress-claimedOrBackers\")[0].text\n",
        "    goal = wd.find_elements_by_css_selector(\".basicsGoalProgress-progressDetails-detailsGoal-goalPercentageOrInitiallyRaised\")[0].text\n",
        "    left = wd.find_elements_by_css_selector(\".basicsGoalProgress-progressDetails-detailsTimeLeft\")[0].text\n",
        "    location = wd.find_elements_by_css_selector(\".basicsCampaignOwner-details-city\")[0].text\n",
        "    owner = wd.find_elements_by_css_selector(\".campaignOwnerName-tooltip\")[0].text\n",
        "    details.append({'project_id': project_id,\n",
        "                    'backers': backers,\n",
        "                    'goal': goal,\n",
        "                    'left': left,\n",
        "                    'owner': owner,\n",
        "                    'location': location})\n",
        "  \n",
        "len(details)\n",
        "pprint.pprint(details)\n"
      ],
      "execution_count": null,
      "outputs": [
        {
          "output_type": "stream",
          "text": [
            "https://www.indiegogo.com/projects/sirui-75mm-anamorphic-lens-king-of-portrait/pica\n",
            "https://www.indiegogo.com/projects/livall-evo21-smart-helmet-360-active-protection/pica\n",
            "https://www.indiegogo.com/projects/me-mum-a-new-method-for-predicting-fertility/pica\n",
            "https://www.indiegogo.com/projects/gamma-all-season-graphene-infused-heated-jacket/pica\n",
            "https://www.indiegogo.com/projects/edge-the-first-modular-work-from-home-kit/pica\n",
            "[]\n"
          ],
          "name": "stdout"
        }
      ]
    },
    {
      "cell_type": "code",
      "metadata": {
        "id": "xf7bDTWTxLlf",
        "colab": {
          "base_uri": "https://localhost:8080/",
          "height": 741,
          "referenced_widgets": [
            "022de65daae44f5ca0d3337b0d053e44",
            "60bac748e84943f7a668fb90f5f2c474",
            "c9180ad581ee4f299f13e274c0dea4ac",
            "161b771a744c409db314a8c6619bbe4f",
            "1ecf5d34d6b8415da7970623e9fb7101",
            "72b3affae8fd4272b84a62e490194060",
            "6cd2e03bd4ae4fcda0ebbc180fb1069d",
            "fb17cf3ff635471eae0f8702b5bfd35e"
          ]
        },
        "outputId": "2d5bf859-d33d-41eb-d16a-c27d3190d2e4"
      },
      "source": [
        "from selenium.webdriver.common.by import By\n",
        "from selenium.webdriver.support.ui import WebDriverWait\n",
        "from selenium.webdriver.support import expected_conditions as EC\n",
        "import time\n",
        "details = []\n",
        "ds_detail_projects = ds_detail_projects.head(n = 100)\n",
        "for project_id, project in tqdm(ds_detail_projects.iterrows(), total=ds_detail_projects.shape[0]):\n",
        "    time.sleep(1)\n",
        "    link = project[\"url\"]\n",
        "    backers = 0\n",
        "    goal = 0\n",
        "    left = 0\n",
        "    location = \"\"\n",
        "    owner = \"\"\n",
        "    #print(link)\n",
        "    try:\n",
        "      wd.set_window_size(1920, 1080)\n",
        "      wd.get(link)\n",
        "      backers = wd.find_elements_by_css_selector(\".basicsGoalProgress-claimedOrBackers\")[0].text\n",
        "      goal = wd.find_elements_by_css_selector(\".basicsGoalProgress-progressDetails-detailsGoal-goalPercentageOrInitiallyRaised\")[0].text\n",
        "      left = wd.find_elements_by_css_selector(\".basicsGoalProgress-progressDetails-detailsTimeLeft\")[0].text\n",
        "      location = wd.find_elements_by_css_selector(\".basicsCampaignOwner-details-city\")[0].text\n",
        "      owner = wd.find_elements_by_css_selector(\".campaignOwnerName-tooltip\")[0].text\n",
        "    except Exception as e:\n",
        "      print(e)\n",
        "    details.append({'project_id': project_id,\n",
        "                    'backers': backers,\n",
        "                    'goal': goal,\n",
        "                    'left': left,\n",
        "                    'owner': owner,\n",
        "                    'location': location})\n",
        "  \n",
        "\n"
      ],
      "execution_count": null,
      "outputs": [
        {
          "output_type": "stream",
          "text": [
            "/usr/local/lib/python3.7/dist-packages/ipykernel_launcher.py:7: TqdmDeprecationWarning: This function will be removed in tqdm==5.0.0\n",
            "Please use `tqdm.notebook.tqdm` instead of `tqdm.tqdm_notebook`\n",
            "  import sys\n"
          ],
          "name": "stderr"
        },
        {
          "output_type": "display_data",
          "data": {
            "application/vnd.jupyter.widget-view+json": {
              "model_id": "022de65daae44f5ca0d3337b0d053e44",
              "version_minor": 0,
              "version_major": 2
            },
            "text/plain": [
              "HBox(children=(FloatProgress(value=0.0), HTML(value='')))"
            ]
          },
          "metadata": {
            "tags": []
          }
        },
        {
          "output_type": "stream",
          "text": [
            "list index out of range\n",
            "list index out of range\n",
            "list index out of range\n",
            "list index out of range\n",
            "list index out of range\n",
            "list index out of range\n",
            "list index out of range\n",
            "list index out of range\n",
            "list index out of range\n",
            "list index out of range\n",
            "list index out of range\n",
            "list index out of range\n",
            "list index out of range\n",
            "list index out of range\n",
            "list index out of range\n",
            "list index out of range\n",
            "list index out of range\n",
            "list index out of range\n",
            "list index out of range\n",
            "list index out of range\n",
            "list index out of range\n",
            "list index out of range\n",
            "list index out of range\n",
            "list index out of range\n",
            "list index out of range\n",
            "list index out of range\n",
            "list index out of range\n",
            "list index out of range\n",
            "list index out of range\n",
            "list index out of range\n",
            "list index out of range\n",
            "list index out of range\n",
            "list index out of range\n",
            "list index out of range\n",
            "list index out of range\n",
            "list index out of range\n",
            "\n"
          ],
          "name": "stdout"
        }
      ]
    },
    {
      "cell_type": "code",
      "metadata": {
        "id": "nmOdNznWXKtj",
        "colab": {
          "base_uri": "https://localhost:8080/"
        },
        "outputId": "67fc6352-7738-44d2-ea8c-b7571c2f762d"
      },
      "source": [
        "print(len(details))\n",
        "pprint.pprint(details[0:4])"
      ],
      "execution_count": null,
      "outputs": [
        {
          "output_type": "stream",
          "text": [
            "100\n",
            "[{'backers': '436 backers',\n",
            "  'goal': '61084% of $500',\n",
            "  'left': '30 days left',\n",
            "  'location': 'Verona, United States',\n",
            "  'owner': 'SIRUI USA',\n",
            "  'project_id': 'https://www.indiegogo.com/projects/sirui-75mm-anamorphic-lens-king-of-portrait/pica'},\n",
            " {'backers': '1,630 backers',\n",
            "  'goal': '2091% of $10,000',\n",
            "  'left': '19 days left',\n",
            "  'location': 'San Ramon, United States',\n",
            "  'owner': 'LIVALL Riding',\n",
            "  'project_id': 'https://www.indiegogo.com/projects/livall-evo21-smart-helmet-360-active-protection/pica'},\n",
            " {'backers': '163 backers',\n",
            "  'goal': '114% of $8,538',\n",
            "  'left': '24 days left',\n",
            "  'location': 'Zagreb, Croatia',\n",
            "  'owner': 'Maja Bujas',\n",
            "  'project_id': 'https://www.indiegogo.com/projects/me-mum-a-new-method-for-predicting-fertility/pica'},\n",
            " {'backers': 'by 7,232 backers',\n",
            "  'goal': '$2,484,603 USD by 7,161 backers',\n",
            "  'left': 0,\n",
            "  'location': '',\n",
            "  'owner': '',\n",
            "  'project_id': 'https://www.indiegogo.com/projects/gamma-all-season-graphene-infused-heated-jacket/pica'}]\n"
          ],
          "name": "stdout"
        }
      ]
    },
    {
      "cell_type": "markdown",
      "metadata": {
        "id": "fcfGcK4O4R2-"
      },
      "source": [
        "Store the data with *pandas*"
      ]
    },
    {
      "cell_type": "code",
      "metadata": {
        "id": "4xik7JIr4J-n",
        "colab": {
          "base_uri": "https://localhost:8080/",
          "height": 346
        },
        "outputId": "515ef82b-3595-42bc-cd96-6f90416ec181"
      },
      "source": [
        "import pandas as pd\n",
        "ds_details = pd.DataFrame(details)\n",
        "ds_details.set_index(\"project_id\")\n",
        "ds_details.head()"
      ],
      "execution_count": null,
      "outputs": [
        {
          "output_type": "execute_result",
          "data": {
            "text/html": [
              "<div>\n",
              "<style scoped>\n",
              "    .dataframe tbody tr th:only-of-type {\n",
              "        vertical-align: middle;\n",
              "    }\n",
              "\n",
              "    .dataframe tbody tr th {\n",
              "        vertical-align: top;\n",
              "    }\n",
              "\n",
              "    .dataframe thead th {\n",
              "        text-align: right;\n",
              "    }\n",
              "</style>\n",
              "<table border=\"1\" class=\"dataframe\">\n",
              "  <thead>\n",
              "    <tr style=\"text-align: right;\">\n",
              "      <th></th>\n",
              "      <th>project_id</th>\n",
              "      <th>backers</th>\n",
              "      <th>goal</th>\n",
              "      <th>left</th>\n",
              "      <th>owner</th>\n",
              "      <th>location</th>\n",
              "    </tr>\n",
              "  </thead>\n",
              "  <tbody>\n",
              "    <tr>\n",
              "      <th>0</th>\n",
              "      <td>https://www.indiegogo.com/projects/sirui-75mm-...</td>\n",
              "      <td>436 backers</td>\n",
              "      <td>61084% of $500</td>\n",
              "      <td>30 days left</td>\n",
              "      <td>SIRUI USA</td>\n",
              "      <td>Verona, United States</td>\n",
              "    </tr>\n",
              "    <tr>\n",
              "      <th>1</th>\n",
              "      <td>https://www.indiegogo.com/projects/livall-evo2...</td>\n",
              "      <td>1,630 backers</td>\n",
              "      <td>2091% of $10,000</td>\n",
              "      <td>19 days left</td>\n",
              "      <td>LIVALL Riding</td>\n",
              "      <td>San Ramon, United States</td>\n",
              "    </tr>\n",
              "    <tr>\n",
              "      <th>2</th>\n",
              "      <td>https://www.indiegogo.com/projects/me-mum-a-ne...</td>\n",
              "      <td>163 backers</td>\n",
              "      <td>114% of $8,538</td>\n",
              "      <td>24 days left</td>\n",
              "      <td>Maja Bujas</td>\n",
              "      <td>Zagreb, Croatia</td>\n",
              "    </tr>\n",
              "    <tr>\n",
              "      <th>3</th>\n",
              "      <td>https://www.indiegogo.com/projects/gamma-all-s...</td>\n",
              "      <td>by 7,232 backers</td>\n",
              "      <td>$2,484,603 USD by 7,161 backers</td>\n",
              "      <td>0</td>\n",
              "      <td></td>\n",
              "      <td></td>\n",
              "    </tr>\n",
              "    <tr>\n",
              "      <th>4</th>\n",
              "      <td>https://www.indiegogo.com/projects/edge-the-fi...</td>\n",
              "      <td>6,322 backers</td>\n",
              "      <td>3325% of $12,197</td>\n",
              "      <td>10 days left</td>\n",
              "      <td>Rolling Square</td>\n",
              "      <td>Lugano, Switzerland</td>\n",
              "    </tr>\n",
              "  </tbody>\n",
              "</table>\n",
              "</div>"
            ],
            "text/plain": [
              "                                          project_id  ...                  location\n",
              "0  https://www.indiegogo.com/projects/sirui-75mm-...  ...     Verona, United States\n",
              "1  https://www.indiegogo.com/projects/livall-evo2...  ...  San Ramon, United States\n",
              "2  https://www.indiegogo.com/projects/me-mum-a-ne...  ...           Zagreb, Croatia\n",
              "3  https://www.indiegogo.com/projects/gamma-all-s...  ...                          \n",
              "4  https://www.indiegogo.com/projects/edge-the-fi...  ...       Lugano, Switzerland\n",
              "\n",
              "[5 rows x 6 columns]"
            ]
          },
          "metadata": {
            "tags": []
          },
          "execution_count": 106
        }
      ]
    },
    {
      "cell_type": "code",
      "metadata": {
        "id": "pBkNRigl4b9G",
        "colab": {
          "base_uri": "https://localhost:8080/"
        },
        "outputId": "963751fe-de60-4abf-9077-cf926a5476ed"
      },
      "source": [
        "ds_details.info()"
      ],
      "execution_count": null,
      "outputs": [
        {
          "output_type": "stream",
          "text": [
            "<class 'pandas.core.frame.DataFrame'>\n",
            "RangeIndex: 100 entries, 0 to 99\n",
            "Data columns (total 6 columns):\n",
            " #   Column      Non-Null Count  Dtype \n",
            "---  ------      --------------  ----- \n",
            " 0   project_id  100 non-null    object\n",
            " 1   backers     100 non-null    object\n",
            " 2   goal        100 non-null    object\n",
            " 3   left        100 non-null    object\n",
            " 4   owner       100 non-null    object\n",
            " 5   location    100 non-null    object\n",
            "dtypes: object(6)\n",
            "memory usage: 4.8+ KB\n"
          ],
          "name": "stdout"
        }
      ]
    },
    {
      "cell_type": "code",
      "metadata": {
        "id": "YSlNICg94fKj"
      },
      "source": [
        "ds_details.to_csv(\"ds_project_details.csv\")"
      ],
      "execution_count": null,
      "outputs": []
    },
    {
      "cell_type": "markdown",
      "metadata": {
        "id": "dJdurd8345Jp"
      },
      "source": [
        "# Indiegogo Project images\n",
        "\n",
        "\n",
        "Now we're going to download Indiegogo images for each project.\n",
        "\n",
        "Our goal is to create a dataset of images and a `Dataframe` composed by:\n",
        "- `project_id`\n",
        "- `image_id`\n",
        "\n",
        "We will use the library `requests`.\n",
        "\n",
        "The `requests` library is python library for making HTTP requests.\n",
        "It abstracts the complexities of making requests behind a simple API so that you can focus on interacting with services and consuming data in your application."
      ]
    },
    {
      "cell_type": "code",
      "metadata": {
        "colab": {
          "base_uri": "https://localhost:8080/",
          "height": 631
        },
        "id": "aOqIaqtgGN2J",
        "outputId": "1761a12b-75f2-499b-c949-7acdda6bb337"
      },
      "source": [
        "# open csv file\n",
        "import pandas as pd\n",
        "ds_detail_projects = pd.read_csv(\"ds_projects.csv\", index_col=\"project_id\")\n",
        "ds_detail_projects.head()"
      ],
      "execution_count": null,
      "outputs": [
        {
          "output_type": "execute_result",
          "data": {
            "text/html": [
              "<div>\n",
              "<style scoped>\n",
              "    .dataframe tbody tr th:only-of-type {\n",
              "        vertical-align: middle;\n",
              "    }\n",
              "\n",
              "    .dataframe tbody tr th {\n",
              "        vertical-align: top;\n",
              "    }\n",
              "\n",
              "    .dataframe thead th {\n",
              "        text-align: right;\n",
              "    }\n",
              "</style>\n",
              "<table border=\"1\" class=\"dataframe\">\n",
              "  <thead>\n",
              "    <tr style=\"text-align: right;\">\n",
              "      <th></th>\n",
              "      <th>Unnamed: 0</th>\n",
              "      <th>url</th>\n",
              "      <th>title</th>\n",
              "      <th>image</th>\n",
              "      <th>description</th>\n",
              "      <th>category</th>\n",
              "      <th>balance</th>\n",
              "      <th>currency</th>\n",
              "      <th>progress</th>\n",
              "    </tr>\n",
              "    <tr>\n",
              "      <th>project_id</th>\n",
              "      <th></th>\n",
              "      <th></th>\n",
              "      <th></th>\n",
              "      <th></th>\n",
              "      <th></th>\n",
              "      <th></th>\n",
              "      <th></th>\n",
              "      <th></th>\n",
              "      <th></th>\n",
              "    </tr>\n",
              "  </thead>\n",
              "  <tbody>\n",
              "    <tr>\n",
              "      <th>https://www.indiegogo.com/projects/sirui-75mm-anamorphic-lens-king-of-portrait/pica</th>\n",
              "      <td>0</td>\n",
              "      <td>https://www.indiegogo.com/projects/sirui-75mm-...</td>\n",
              "      <td>SIRUI 75mm Anamorphic Lens King of Portrait</td>\n",
              "      <td>https://c1.iggcdn.com/indiegogo-media-prod-cld...</td>\n",
              "      <td>Enhance the artistic appeal of your footage an...</td>\n",
              "      <td>CAMERA GEAR</td>\n",
              "      <td>$305,424</td>\n",
              "      <td>USD raised</td>\n",
              "      <td>61,085%</td>\n",
              "    </tr>\n",
              "    <tr>\n",
              "      <th>https://www.indiegogo.com/projects/livall-evo21-smart-helmet-360-active-protection/pica</th>\n",
              "      <td>1</td>\n",
              "      <td>https://www.indiegogo.com/projects/livall-evo2...</td>\n",
              "      <td>LIVALL EVO21 Smart Helmet: 360 Active Protection</td>\n",
              "      <td>https://c1.iggcdn.com/indiegogo-media-prod-cld...</td>\n",
              "      <td>The world’s smartest lighting helmet with 270°...</td>\n",
              "      <td>TRAVEL &amp; OUTDOORS</td>\n",
              "      <td>$209,162</td>\n",
              "      <td>USD raised</td>\n",
              "      <td>2,092%</td>\n",
              "    </tr>\n",
              "    <tr>\n",
              "      <th>https://www.indiegogo.com/projects/me-mum-a-new-method-for-predicting-fertility/pica</th>\n",
              "      <td>2</td>\n",
              "      <td>https://www.indiegogo.com/projects/me-mum-a-ne...</td>\n",
              "      <td>me.mum: a new method for predicting fertility</td>\n",
              "      <td>https://c1.iggcdn.com/indiegogo-media-prod-cld...</td>\n",
              "      <td>From a drop of saliva, me.mum analyzes hormone...</td>\n",
              "      <td>HEALTH &amp; FITNESS</td>\n",
              "      <td>€8,028</td>\n",
              "      <td>EUR raised</td>\n",
              "      <td>115%</td>\n",
              "    </tr>\n",
              "    <tr>\n",
              "      <th>https://www.indiegogo.com/projects/gamma-all-season-graphene-infused-heated-jacket/pica</th>\n",
              "      <td>3</td>\n",
              "      <td>https://www.indiegogo.com/projects/gamma-all-s...</td>\n",
              "      <td>GAMMA: All-Season Graphene Infused Heated Jacket</td>\n",
              "      <td>https://c1.iggcdn.com/indiegogo-media-prod-cld...</td>\n",
              "      <td>The ultimate heated jacket: Graphene-infused, ...</td>\n",
              "      <td>TRAVEL &amp; OUTDOORS</td>\n",
              "      <td>$19,499,995</td>\n",
              "      <td>HKD raised</td>\n",
              "      <td>49,472%</td>\n",
              "    </tr>\n",
              "    <tr>\n",
              "      <th>https://www.indiegogo.com/projects/edge-the-first-modular-work-from-home-kit/pica</th>\n",
              "      <td>4</td>\n",
              "      <td>https://www.indiegogo.com/projects/edge-the-fi...</td>\n",
              "      <td>EDGE - The First Modular Work From Home Kit</td>\n",
              "      <td>https://c1.iggcdn.com/indiegogo-media-prod-cld...</td>\n",
              "      <td>Your workstation, anywhere. Guaranteed to boos...</td>\n",
              "      <td>PRODUCTIVITY</td>\n",
              "      <td>€332,588</td>\n",
              "      <td>EUR raised</td>\n",
              "      <td>3,326%</td>\n",
              "    </tr>\n",
              "  </tbody>\n",
              "</table>\n",
              "</div>"
            ],
            "text/plain": [
              "                                                    Unnamed: 0  ... progress\n",
              "project_id                                                      ...         \n",
              "https://www.indiegogo.com/projects/sirui-75mm-a...           0  ...  61,085%\n",
              "https://www.indiegogo.com/projects/livall-evo21...           1  ...   2,092%\n",
              "https://www.indiegogo.com/projects/me-mum-a-new...           2  ...     115%\n",
              "https://www.indiegogo.com/projects/gamma-all-se...           3  ...  49,472%\n",
              "https://www.indiegogo.com/projects/edge-the-fir...           4  ...   3,326%\n",
              "\n",
              "[5 rows x 9 columns]"
            ]
          },
          "metadata": {
            "tags": []
          },
          "execution_count": 109
        }
      ]
    },
    {
      "cell_type": "code",
      "metadata": {
        "id": "q1cy5Jzt6ab-",
        "colab": {
          "base_uri": "https://localhost:8080/",
          "height": 136,
          "referenced_widgets": [
            "375adec6885442458cc47c1cb6c9bada",
            "d9e139f6bd324c89b18667854f8d82c3",
            "b1fcc3543bcb43b59d215dcb60a96842",
            "0991f70f8d1047fcb656e70426b4524f",
            "63cdb0343d914ecabe5e8a409d0bf2a4",
            "fa963100e84444059393b622be4ac364",
            "8e7fdda7aa94453db2ece0881ca60f8b",
            "d2c3fff7378f4461b2de07a64a7b4921"
          ]
        },
        "outputId": "17cdf9bf-9fee-4a35-d299-730c90fd94ea"
      },
      "source": [
        "import time\n",
        "import requests\n",
        "\n",
        "detail_projects = []\n",
        "list_images = []\n",
        "num = 0\n",
        "for project_id, project in tqdm(ds_detail_projects.iterrows(), total=ds_detail_projects.shape[0]):\n",
        "  num = num + 1\n",
        "  try:\n",
        "    list_images.append({\"project_id\": project_id,\n",
        "                        \"img_file\": \"img_\" + str(num) + \".jpg\"})\n",
        "    src = project['image']\n",
        "    img_file = requests.get(src, stream=True)\n",
        "    if img_file.status_code == 200:\n",
        "      with open(\"/content/images/img_\" + str(num) + \".jpg\", 'wb') as f:\n",
        "        f.write(img_file.content)\n",
        "  except Exception as e:\n",
        "    print(e)\n",
        "\n"
      ],
      "execution_count": null,
      "outputs": [
        {
          "output_type": "stream",
          "text": [
            "/usr/local/lib/python3.7/dist-packages/ipykernel_launcher.py:7: TqdmDeprecationWarning: This function will be removed in tqdm==5.0.0\n",
            "Please use `tqdm.notebook.tqdm` instead of `tqdm.tqdm_notebook`\n",
            "  import sys\n"
          ],
          "name": "stderr"
        },
        {
          "output_type": "display_data",
          "data": {
            "application/vnd.jupyter.widget-view+json": {
              "model_id": "375adec6885442458cc47c1cb6c9bada",
              "version_minor": 0,
              "version_major": 2
            },
            "text/plain": [
              "HBox(children=(FloatProgress(value=0.0, max=116.0), HTML(value='')))"
            ]
          },
          "metadata": {
            "tags": []
          }
        },
        {
          "output_type": "stream",
          "text": [
            "\n"
          ],
          "name": "stdout"
        }
      ]
    },
    {
      "cell_type": "code",
      "metadata": {
        "id": "wy5AJ3iUj-DO",
        "colab": {
          "base_uri": "https://localhost:8080/"
        },
        "outputId": "60bd7ed0-2d3b-4368-baa4-6d3deadb800c"
      },
      "source": [
        "print(len(list_images))"
      ],
      "execution_count": null,
      "outputs": [
        {
          "output_type": "stream",
          "text": [
            "116\n"
          ],
          "name": "stdout"
        }
      ]
    },
    {
      "cell_type": "code",
      "metadata": {
        "id": "BSPk4TWtAvWj",
        "colab": {
          "base_uri": "https://localhost:8080/",
          "height": 356
        },
        "outputId": "276cca13-8f44-4064-e014-141a41f94cf4"
      },
      "source": [
        "%pylab inline\n",
        "import matplotlib.pyplot as plt\n",
        "import matplotlib.image as mpimg\n",
        "img=mpimg.imread('/content/images/img_1.jpg')\n",
        "imgplot = plt.imshow(img)\n",
        "plt.show()"
      ],
      "execution_count": null,
      "outputs": [
        {
          "output_type": "stream",
          "text": [
            "Populating the interactive namespace from numpy and matplotlib\n"
          ],
          "name": "stdout"
        },
        {
          "output_type": "stream",
          "text": [
            "/usr/local/lib/python3.7/dist-packages/IPython/core/magics/pylab.py:161: UserWarning: pylab import has clobbered these variables: ['f', 'title']\n",
            "`%matplotlib` prevents importing * from pylab and numpy\n",
            "  \"\\n`%matplotlib` prevents importing * from pylab and numpy\"\n"
          ],
          "name": "stderr"
        },
        {
          "output_type": "display_data",
          "data": {
            "image/png": "[encoded data removed]",
            "text/plain": [
              "<Figure size 432x288 with 1 Axes>"
            ]
          },
          "metadata": {
            "tags": [],
            "needs_background": "light"
          }
        }
      ]
    },
    {
      "cell_type": "code",
      "metadata": {
        "id": "9oq-mP-v8LZl",
        "colab": {
          "base_uri": "https://localhost:8080/",
          "height": 195
        },
        "outputId": "8879f6c7-6508-4035-ce54-1de085188442"
      },
      "source": [
        "import pandas as pd\n",
        "ds_images = pd.DataFrame(list_images)\n",
        "ds_images.set_index(\"project_id\")\n",
        "ds_images.head()"
      ],
      "execution_count": null,
      "outputs": [
        {
          "output_type": "execute_result",
          "data": {
            "text/html": [
              "<div>\n",
              "<style scoped>\n",
              "    .dataframe tbody tr th:only-of-type {\n",
              "        vertical-align: middle;\n",
              "    }\n",
              "\n",
              "    .dataframe tbody tr th {\n",
              "        vertical-align: top;\n",
              "    }\n",
              "\n",
              "    .dataframe thead th {\n",
              "        text-align: right;\n",
              "    }\n",
              "</style>\n",
              "<table border=\"1\" class=\"dataframe\">\n",
              "  <thead>\n",
              "    <tr style=\"text-align: right;\">\n",
              "      <th></th>\n",
              "      <th>project_id</th>\n",
              "      <th>img_file</th>\n",
              "    </tr>\n",
              "  </thead>\n",
              "  <tbody>\n",
              "    <tr>\n",
              "      <th>0</th>\n",
              "      <td>https://www.indiegogo.com/projects/sirui-75mm-...</td>\n",
              "      <td>img_1.jpg</td>\n",
              "    </tr>\n",
              "    <tr>\n",
              "      <th>1</th>\n",
              "      <td>https://www.indiegogo.com/projects/livall-evo2...</td>\n",
              "      <td>img_2.jpg</td>\n",
              "    </tr>\n",
              "    <tr>\n",
              "      <th>2</th>\n",
              "      <td>https://www.indiegogo.com/projects/me-mum-a-ne...</td>\n",
              "      <td>img_3.jpg</td>\n",
              "    </tr>\n",
              "    <tr>\n",
              "      <th>3</th>\n",
              "      <td>https://www.indiegogo.com/projects/gamma-all-s...</td>\n",
              "      <td>img_4.jpg</td>\n",
              "    </tr>\n",
              "    <tr>\n",
              "      <th>4</th>\n",
              "      <td>https://www.indiegogo.com/projects/edge-the-fi...</td>\n",
              "      <td>img_5.jpg</td>\n",
              "    </tr>\n",
              "  </tbody>\n",
              "</table>\n",
              "</div>"
            ],
            "text/plain": [
              "                                          project_id   img_file\n",
              "0  https://www.indiegogo.com/projects/sirui-75mm-...  img_1.jpg\n",
              "1  https://www.indiegogo.com/projects/livall-evo2...  img_2.jpg\n",
              "2  https://www.indiegogo.com/projects/me-mum-a-ne...  img_3.jpg\n",
              "3  https://www.indiegogo.com/projects/gamma-all-s...  img_4.jpg\n",
              "4  https://www.indiegogo.com/projects/edge-the-fi...  img_5.jpg"
            ]
          },
          "metadata": {
            "tags": []
          },
          "execution_count": 113
        }
      ]
    },
    {
      "cell_type": "code",
      "metadata": {
        "id": "v1A0HPUPhmdT",
        "colab": {
          "base_uri": "https://localhost:8080/"
        },
        "outputId": "7e349c77-16d4-4172-9993-4c2c55d6fa73"
      },
      "source": [
        "ds_images.info()"
      ],
      "execution_count": null,
      "outputs": [
        {
          "output_type": "stream",
          "text": [
            "<class 'pandas.core.frame.DataFrame'>\n",
            "RangeIndex: 116 entries, 0 to 115\n",
            "Data columns (total 2 columns):\n",
            " #   Column      Non-Null Count  Dtype \n",
            "---  ------      --------------  ----- \n",
            " 0   project_id  116 non-null    object\n",
            " 1   img_file    116 non-null    object\n",
            "dtypes: object(2)\n",
            "memory usage: 1.9+ KB\n"
          ],
          "name": "stdout"
        }
      ]
    },
    {
      "cell_type": "code",
      "metadata": {
        "id": "2CLUnkOW8O0Q"
      },
      "source": [
        "ds_images.to_csv(\"ds_images.csv\")\n"
      ],
      "execution_count": null,
      "outputs": []
    },
    {
      "cell_type": "code",
      "metadata": {
        "id": "v0F53Zz7JRN2",
        "colab": {
          "base_uri": "https://localhost:8080/"
        },
        "outputId": "40b97fd5-9f82-4f3f-8578-7f1fd9b44cdc"
      },
      "source": [
        "!zip -r \"/content/images.zip\" \"/content/images/\"\n"
      ],
      "execution_count": null,
      "outputs": [
        {
          "output_type": "stream",
          "text": [
            "updating: content/images/ (stored 0%)\n",
            "updating: content/images/img_47.jpg (deflated 0%)\n",
            "updating: content/images/img_20.jpg (deflated 0%)\n",
            "updating: content/images/img_29.jpg (deflated 1%)\n",
            "updating: content/images/img_14.jpg (deflated 0%)\n",
            "updating: content/images/img_5.jpg (deflated 2%)\n",
            "updating: content/images/img_17.jpg (deflated 0%)\n",
            "updating: content/images/img_44.jpg (deflated 1%)\n",
            "updating: content/images/img_27.jpg (deflated 0%)\n",
            "updating: content/images/img_36.jpg (deflated 1%)\n",
            "updating: content/images/img_12.jpg (deflated 2%)\n",
            "updating: content/images/img_30.jpg (deflated 2%)\n",
            "updating: content/images/img_40.jpg (deflated 4%)\n",
            "updating: content/images/img_2.jpg (deflated 0%)\n",
            "updating: content/images/img_23.jpg (deflated 4%)\n",
            "updating: content/images/img_6.jpg (deflated 0%)\n",
            "updating: content/images/img_16.jpg (deflated 0%)\n",
            "updating: content/images/img_35.jpg (deflated 0%)\n",
            "updating: content/images/img_51.jpg (deflated 0%)\n",
            "updating: content/images/img_7.jpg (deflated 2%)\n",
            "updating: content/images/img_8.jpg (deflated 2%)\n",
            "updating: content/images/img_22.jpg (deflated 8%)\n",
            "updating: content/images/img_21.jpg (deflated 3%)\n",
            "updating: content/images/img_39.jpg (deflated 0%)\n",
            "updating: content/images/img_26.jpg (deflated 0%)\n",
            "updating: content/images/img_24.jpg (deflated 0%)\n",
            "updating: content/images/img_48.jpg (deflated 2%)\n",
            "updating: content/images/img_3.jpg (deflated 0%)\n",
            "updating: content/images/img_43.jpg (deflated 0%)\n",
            "updating: content/images/img_41.jpg (deflated 0%)\n",
            "updating: content/images/img_10.jpg (deflated 0%)\n",
            "updating: content/images/img_18.jpg (deflated 0%)\n",
            "updating: content/images/img_13.jpg (deflated 2%)\n",
            "updating: content/images/img_50.jpg (deflated 1%)\n",
            "updating: content/images/img_45.jpg (deflated 0%)\n",
            "updating: content/images/img_32.jpg (deflated 0%)\n",
            "updating: content/images/img_9.jpg (deflated 3%)\n",
            "updating: content/images/img_49.jpg (deflated 2%)\n",
            "updating: content/images/img_1.jpg (deflated 0%)\n",
            "updating: content/images/img_38.jpg (deflated 0%)\n",
            "updating: content/images/img_33.jpg (deflated 0%)\n",
            "updating: content/images/img_31.jpg (deflated 0%)\n",
            "updating: content/images/img_28.jpg (deflated 0%)\n",
            "updating: content/images/img_19.jpg (deflated 2%)\n",
            "updating: content/images/img_15.jpg (deflated 2%)\n",
            "updating: content/images/img_25.jpg (deflated 0%)\n",
            "updating: content/images/img_4.jpg (deflated 0%)\n",
            "updating: content/images/img_11.jpg (deflated 1%)\n",
            "updating: content/images/img_37.jpg (deflated 0%)\n",
            "updating: content/images/img_42.jpg (deflated 0%)\n",
            "updating: content/images/img_34.jpg (deflated 0%)\n",
            "updating: content/images/img_46.jpg (deflated 3%)\n",
            "  adding: content/images/img_86.jpg (deflated 1%)\n",
            "  adding: content/images/img_87.jpg (deflated 0%)\n",
            "  adding: content/images/img_100.jpg (deflated 0%)\n",
            "  adding: content/images/img_91.jpg (deflated 1%)\n",
            "  adding: content/images/img_106.jpg (deflated 1%)\n",
            "  adding: content/images/img_110.jpg (deflated 0%)\n",
            "  adding: content/images/img_60.jpg (deflated 0%)\n",
            "  adding: content/images/img_79.jpg (deflated 1%)\n",
            "  adding: content/images/img_73.jpg (deflated 1%)\n",
            "  adding: content/images/img_97.jpg (deflated 0%)\n",
            "  adding: content/images/img_85.jpg (deflated 0%)\n",
            "  adding: content/images/img_108.jpg (deflated 1%)\n",
            "  adding: content/images/img_112.jpg (deflated 2%)\n",
            "  adding: content/images/img_99.jpg (deflated 0%)\n",
            "  adding: content/images/img_102.jpg (deflated 1%)\n",
            "  adding: content/images/img_98.jpg (deflated 0%)\n",
            "  adding: content/images/img_105.jpg (deflated 0%)\n",
            "  adding: content/images/img_101.jpg (deflated 4%)\n",
            "  adding: content/images/img_111.jpg (deflated 1%)\n",
            "  adding: content/images/img_93.jpg (deflated 0%)\n",
            "  adding: content/images/img_81.jpg (deflated 1%)\n",
            "  adding: content/images/img_103.jpg (deflated 0%)\n",
            "  adding: content/images/img_69.jpg (deflated 0%)\n",
            "  adding: content/images/img_104.jpg (deflated 0%)\n",
            "  adding: content/images/img_52.jpg (deflated 0%)\n",
            "  adding: content/images/img_115.jpg (deflated 21%)\n",
            "  adding: content/images/img_109.jpg (deflated 0%)\n",
            "  adding: content/images/img_113.jpg (deflated 2%)\n",
            "  adding: content/images/img_55.jpg (deflated 1%)\n",
            "  adding: content/images/img_70.jpg (deflated 0%)\n",
            "  adding: content/images/img_77.jpg (deflated 1%)\n",
            "  adding: content/images/img_58.jpg (deflated 2%)\n",
            "  adding: content/images/img_95.jpg (deflated 0%)\n",
            "  adding: content/images/img_54.jpg (deflated 1%)\n",
            "  adding: content/images/img_61.jpg (deflated 0%)\n",
            "  adding: content/images/img_89.jpg (deflated 0%)\n",
            "  adding: content/images/img_94.jpg (deflated 0%)\n",
            "  adding: content/images/img_114.jpg (deflated 11%)\n",
            "  adding: content/images/img_62.jpg (deflated 0%)\n",
            "  adding: content/images/img_75.jpg (deflated 1%)\n",
            "  adding: content/images/img_63.jpg (deflated 0%)\n",
            "  adding: content/images/img_74.jpg (deflated 5%)\n",
            "  adding: content/images/img_78.jpg (deflated 1%)\n",
            "  adding: content/images/img_56.jpg (deflated 1%)\n",
            "  adding: content/images/img_64.jpg (deflated 2%)\n",
            "  adding: content/images/img_65.jpg (deflated 2%)\n",
            "  adding: content/images/img_72.jpg (deflated 32%)\n",
            "  adding: content/images/img_92.jpg (deflated 1%)\n",
            "  adding: content/images/img_107.jpg (deflated 0%)\n",
            "  adding: content/images/img_90.jpg (deflated 1%)\n",
            "  adding: content/images/img_88.jpg (deflated 0%)\n",
            "  adding: content/images/img_59.jpg (deflated 2%)\n",
            "  adding: content/images/img_116.jpg (deflated 2%)\n",
            "  adding: content/images/img_84.jpg (deflated 2%)\n",
            "  adding: content/images/img_67.jpg (deflated 0%)\n",
            "  adding: content/images/img_66.jpg (deflated 2%)\n",
            "  adding: content/images/img_80.jpg (deflated 0%)\n",
            "  adding: content/images/img_83.jpg (deflated 0%)\n",
            "  adding: content/images/img_57.jpg (deflated 0%)\n",
            "  adding: content/images/img_76.jpg (deflated 0%)\n",
            "  adding: content/images/img_68.jpg (deflated 1%)\n",
            "  adding: content/images/img_71.jpg (deflated 1%)\n",
            "  adding: content/images/img_53.jpg (deflated 4%)\n",
            "  adding: content/images/img_96.jpg (deflated 7%)\n",
            "  adding: content/images/img_82.jpg (deflated 0%)\n"
          ],
          "name": "stdout"
        }
      ]
    },
    {
      "cell_type": "markdown",
      "metadata": {
        "id": "g_f5pD019XW6"
      },
      "source": [
        "# API\n",
        "\n",
        "Let's see how to use the **requests** library to hook APIs provided by our suppliers or colleagues."
      ]
    },
    {
      "cell_type": "markdown",
      "metadata": {
        "id": "GuDgoTW29jH_"
      },
      "source": [
        "## Crarifai\n",
        "\n",
        "Let's try the services provided by Clarifai to increase the data we have available.\n",
        "\n",
        "\n",
        "First, we need to install the `crarifai` python library.\n",
        "For more details, please visit https://github.com/Clarifai/clarifai-python-grpc\n",
        "\n",
        "To install the API client:\n",
        "\n",
        "\n",
        "```\n",
        "pip install clarifai-grpc\n",
        "```\n",
        "\n",
        "\n",
        "\n",
        "\n"
      ]
    },
    {
      "cell_type": "code",
      "metadata": {
        "id": "WgBUGy519fzQ",
        "colab": {
          "base_uri": "https://localhost:8080/"
        },
        "outputId": "f32427d3-7fd8-4e70-8c9a-82f3ff4bbbf3"
      },
      "source": [
        "##############################################################################\n",
        "# Installation\n",
        "##############################################################################\n",
        "\n",
        "!pip install clarifai-grpc --upgrade\n",
        "\n"
      ],
      "execution_count": null,
      "outputs": [
        {
          "output_type": "stream",
          "text": [
            "Requirement already up-to-date: clarifai-grpc in /usr/local/lib/python3.7/dist-packages (7.4.0)\n",
            "Requirement already satisfied, skipping upgrade: grpcio>=1.36.0 in /usr/local/lib/python3.7/dist-packages (from clarifai-grpc) (1.38.0)\n",
            "Requirement already satisfied, skipping upgrade: requests>=2.25.1 in /usr/local/lib/python3.7/dist-packages (from clarifai-grpc) (2.25.1)\n",
            "Requirement already satisfied, skipping upgrade: protobuf>=3.15.6 in /usr/local/lib/python3.7/dist-packages (from clarifai-grpc) (3.17.1)\n",
            "Requirement already satisfied, skipping upgrade: googleapis-common-protos>=1.53.0 in /usr/local/lib/python3.7/dist-packages (from clarifai-grpc) (1.53.0)\n",
            "Requirement already satisfied, skipping upgrade: six>=1.5.2 in /usr/local/lib/python3.7/dist-packages (from grpcio>=1.36.0->clarifai-grpc) (1.15.0)\n",
            "Requirement already satisfied, skipping upgrade: chardet<5,>=3.0.2 in /usr/local/lib/python3.7/dist-packages (from requests>=2.25.1->clarifai-grpc) (3.0.4)\n",
            "Requirement already satisfied, skipping upgrade: idna<3,>=2.5 in /usr/local/lib/python3.7/dist-packages (from requests>=2.25.1->clarifai-grpc) (2.10)\n",
            "Requirement already satisfied, skipping upgrade: certifi>=2017.4.17 in /usr/local/lib/python3.7/dist-packages (from requests>=2.25.1->clarifai-grpc) (2020.12.5)\n",
            "Requirement already satisfied, skipping upgrade: urllib3<1.27,>=1.21.1 in /usr/local/lib/python3.7/dist-packages (from requests>=2.25.1->clarifai-grpc) (1.24.3)\n"
          ],
          "name": "stdout"
        }
      ]
    },
    {
      "cell_type": "code",
      "metadata": {
        "id": "L-IGZIOzPECg"
      },
      "source": [
        "##############################################################################\n",
        "# Initialize client\n",
        "##############################################################################\n",
        "\n",
        "from clarifai_grpc.channel.clarifai_channel import ClarifaiChannel\n",
        "from clarifai_grpc.grpc.api import resources_pb2, service_pb2, service_pb2_grpc\n",
        "from clarifai_grpc.grpc.api.status import status_pb2, status_code_pb2\n",
        "\n",
        "channel = ClarifaiChannel.get_grpc_channel()\n",
        "\n",
        "# Note: You can also use a secure (encrypted) ClarifaiChannel.get_grpc_channel() however\n",
        "# it is currently not possible to use it with the latest gRPC version\n",
        "\n",
        "stub = service_pb2_grpc.V2Stub(channel)\n",
        "\n",
        "# This will be used by every Clarifai endpoint call.\n",
        "metadata = (('authorization', 'Key 05a84c8d24f44480bb93b289ac5a8e53'),)"
      ],
      "execution_count": null,
      "outputs": []
    },
    {
      "cell_type": "markdown",
      "metadata": {
        "id": "vi3vpTjo-JlU"
      },
      "source": [
        "We will use the `predict_by_filename` method to obtain the **concepts** within the page.\n"
      ]
    },
    {
      "cell_type": "code",
      "metadata": {
        "id": "PdE1bYOBPQPv"
      },
      "source": [
        "with open(\"/content/images/img_1.jpg\", \"rb\") as f:\n",
        "    file_bytes = f.read()\n",
        "\n",
        "post_model_outputs_response = stub.PostModelOutputs(\n",
        "    service_pb2.PostModelOutputsRequest(\n",
        "        model_id=\"aaa03c23b3724a16a56b629203edc62c\",\n",
        "        inputs=[\n",
        "            resources_pb2.Input(\n",
        "                data=resources_pb2.Data(\n",
        "                    image=resources_pb2.Image(\n",
        "                        base64=file_bytes\n",
        "                    )\n",
        "                )\n",
        "            )\n",
        "        ]\n",
        "    ),\n",
        "    metadata=metadata\n",
        ")\n",
        "\n",
        "if post_model_outputs_response.status.code != status_code_pb2.SUCCESS:\n",
        "    raise Exception(\"Post model outputs failed, status: \" + post_model_outputs_response.status.description)\n"
      ],
      "execution_count": null,
      "outputs": []
    },
    {
      "cell_type": "code",
      "metadata": {
        "colab": {
          "base_uri": "https://localhost:8080/"
        },
        "id": "HvIP0I5NTK09",
        "outputId": "72dfafc3-70c3-4e52-e787-fb7d31e16cda"
      },
      "source": [
        "post_model_outputs_response"
      ],
      "execution_count": null,
      "outputs": [
        {
          "output_type": "execute_result",
          "data": {
            "text/plain": [
              "status {\n",
              "  code: SUCCESS\n",
              "  description: \"Ok\"\n",
              "  req_id: \"f50085bc0c4d4eeea59848d67e706e2e\"\n",
              "}\n",
              "outputs {\n",
              "  id: \"563b5c2c60914178aa3e84ac9c43233c\"\n",
              "  status {\n",
              "    code: SUCCESS\n",
              "    description: \"Ok\"\n",
              "  }\n",
              "  created_at {\n",
              "    seconds: 1621893825\n",
              "    nanos: 296190306\n",
              "  }\n",
              "  model {\n",
              "    id: \"aaa03c23b3724a16a56b629203edc62c\"\n",
              "    name: \"general\"\n",
              "    created_at {\n",
              "      seconds: 1457543499\n",
              "      nanos: 608845000\n",
              "    }\n",
              "    app_id: \"main\"\n",
              "    output_info {\n",
              "      output_config {\n",
              "      }\n",
              "      message: \"Show output_info with: GET /models/{model_id}/output_info\"\n",
              "      type: \"concept\"\n",
              "      type_ext: \"concept\"\n",
              "      fields_map {\n",
              "        fields {\n",
              "          key: \"concepts\"\n",
              "          value {\n",
              "            string_value: \"softmax\"\n",
              "          }\n",
              "        }\n",
              "      }\n",
              "    }\n",
              "    model_version {\n",
              "      id: \"aa7f35c01e0642fda5cf400f543e7c40\"\n",
              "      created_at {\n",
              "        seconds: 1520370624\n",
              "        nanos: 454834000\n",
              "      }\n",
              "      status {\n",
              "        code: MODEL_TRAINED\n",
              "        description: \"Model is trained and ready\"\n",
              "      }\n",
              "      visibility {\n",
              "        gettable: PUBLIC\n",
              "      }\n",
              "      app_id: \"main\"\n",
              "      user_id: \"clarifai\"\n",
              "    }\n",
              "    display_name: \"General\"\n",
              "    user_id: \"clarifai\"\n",
              "    input_info {\n",
              "      fields_map {\n",
              "        fields {\n",
              "          key: \"image\"\n",
              "          value {\n",
              "            string_value: \"images\"\n",
              "          }\n",
              "        }\n",
              "      }\n",
              "    }\n",
              "    train_info {\n",
              "    }\n",
              "    model_type_id: \"visual-classifier\"\n",
              "    visibility {\n",
              "      gettable: PUBLIC\n",
              "    }\n",
              "    description: \"v1.3\"\n",
              "  }\n",
              "  input {\n",
              "    id: \"c8201e7fef924a4791a9f2ba07b5160b\"\n",
              "    data {\n",
              "      image {\n",
              "        url: \"https://samples.clarifai.com/placeholder.gif\"\n",
              "        base64: \"true\"\n",
              "      }\n",
              "    }\n",
              "  }\n",
              "  data {\n",
              "    concepts {\n",
              "      id: \"ai_ccZ7tNd3\"\n",
              "      name: \"illuminated\"\n",
              "      value: 0.9959329962730408\n",
              "      app_id: \"main\"\n",
              "    }\n",
              "    concepts {\n",
              "      id: \"ai_Bt2Q57Jw\"\n",
              "      name: \"lens\"\n",
              "      value: 0.9948413968086243\n",
              "      app_id: \"main\"\n",
              "    }\n",
              "    concepts {\n",
              "      id: \"ai_pWgxZCT7\"\n",
              "      name: \"discovery\"\n",
              "      value: 0.9902710914611816\n",
              "      app_id: \"main\"\n",
              "    }\n",
              "    concepts {\n",
              "      id: \"ai_62K34TR4\"\n",
              "      name: \"technology\"\n",
              "      value: 0.9879404306411743\n",
              "      app_id: \"main\"\n",
              "    }\n",
              "    concepts {\n",
              "      id: \"ai_LxrzLJmf\"\n",
              "      name: \"bright\"\n",
              "      value: 0.979631245136261\n",
              "      app_id: \"main\"\n",
              "    }\n",
              "    concepts {\n",
              "      id: \"ai_5TtgsF72\"\n",
              "      name: \"zoom\"\n",
              "      value: 0.9733275771141052\n",
              "      app_id: \"main\"\n",
              "    }\n",
              "    concepts {\n",
              "      id: \"ai_786Zr311\"\n",
              "      name: \"no person\"\n",
              "      value: 0.9646848440170288\n",
              "      app_id: \"main\"\n",
              "    }\n",
              "    concepts {\n",
              "      id: \"ai_4sJLn6nX\"\n",
              "      name: \"dark\"\n",
              "      value: 0.9567657113075256\n",
              "      app_id: \"main\"\n",
              "    }\n",
              "    concepts {\n",
              "      id: \"ai_bXcwPX3f\"\n",
              "      name: \"nightlife\"\n",
              "      value: 0.9555594325065613\n",
              "      app_id: \"main\"\n",
              "    }\n",
              "    concepts {\n",
              "      id: \"ai_hhjqQn9s\"\n",
              "      name: \"science\"\n",
              "      value: 0.9481212496757507\n",
              "      app_id: \"main\"\n",
              "    }\n",
              "    concepts {\n",
              "      id: \"ai_Q4PjqMWV\"\n",
              "      name: \"optometry\"\n",
              "      value: 0.9408710598945618\n",
              "      app_id: \"main\"\n",
              "    }\n",
              "    concepts {\n",
              "      id: \"ai_XjXrH3qf\"\n",
              "      name: \"electronics\"\n",
              "      value: 0.9391382336616516\n",
              "      app_id: \"main\"\n",
              "    }\n",
              "    concepts {\n",
              "      id: \"ai_6kNkCk7S\"\n",
              "      name: \"research\"\n",
              "      value: 0.9369080662727356\n",
              "      app_id: \"main\"\n",
              "    }\n",
              "    concepts {\n",
              "      id: \"ai_HP6qMkcb\"\n",
              "      name: \"creativity\"\n",
              "      value: 0.9303357005119324\n",
              "      app_id: \"main\"\n",
              "    }\n",
              "    concepts {\n",
              "      id: \"ai_GzNlpxwb\"\n",
              "      name: \"equipment\"\n",
              "      value: 0.9261088967323303\n",
              "      app_id: \"main\"\n",
              "    }\n",
              "    concepts {\n",
              "      id: \"ai_lslcnbCj\"\n",
              "      name: \"futuristic\"\n",
              "      value: 0.9200401902198792\n",
              "      app_id: \"main\"\n",
              "    }\n",
              "    concepts {\n",
              "      id: \"ai_1LvJFhKK\"\n",
              "      name: \"eyesight\"\n",
              "      value: 0.9159560203552246\n",
              "      app_id: \"main\"\n",
              "    }\n",
              "    concepts {\n",
              "      id: \"ai_mwxGzVPG\"\n",
              "      name: \"projection\"\n",
              "      value: 0.9117363691329956\n",
              "      app_id: \"main\"\n",
              "    }\n",
              "    concepts {\n",
              "      id: \"ai_NXlW8L7r\"\n",
              "      name: \"glazed\"\n",
              "      value: 0.9067481160163879\n",
              "      app_id: \"main\"\n",
              "    }\n",
              "    concepts {\n",
              "      id: \"ai_gB5qwrpr\"\n",
              "      name: \"glass items\"\n",
              "      value: 0.8873940706253052\n",
              "      app_id: \"main\"\n",
              "    }\n",
              "  }\n",
              "}"
            ]
          },
          "metadata": {
            "tags": []
          },
          "execution_count": 120
        }
      ]
    },
    {
      "cell_type": "markdown",
      "metadata": {
        "id": "6gNKcVLk-bU-"
      },
      "source": [
        "What type of data does that give us back?\n",
        "Let's have a look!"
      ]
    },
    {
      "cell_type": "code",
      "metadata": {
        "id": "vUKxISg_-kht",
        "colab": {
          "base_uri": "https://localhost:8080/"
        },
        "outputId": "92cda719-3532-4ff2-f1a9-434235850fbc"
      },
      "source": [
        "# Since we have one input, one output will exist here.\n",
        "output = post_model_outputs_response.outputs[0]\n",
        "\n",
        "print(\"Predicted concepts:\")\n",
        "for concept in output.data.concepts:\n",
        "    print(\"%s %.2f\" % (concept.name, concept.value))"
      ],
      "execution_count": null,
      "outputs": [
        {
          "output_type": "stream",
          "text": [
            "Predicted concepts:\n",
            "illuminated 1.00\n",
            "lens 0.99\n",
            "discovery 0.99\n",
            "technology 0.99\n",
            "bright 0.98\n",
            "zoom 0.97\n",
            "no person 0.96\n",
            "dark 0.96\n",
            "nightlife 0.96\n",
            "science 0.95\n",
            "optometry 0.94\n",
            "electronics 0.94\n",
            "research 0.94\n",
            "creativity 0.93\n",
            "equipment 0.93\n",
            "futuristic 0.92\n",
            "eyesight 0.92\n",
            "projection 0.91\n",
            "glazed 0.91\n",
            "glass items 0.89\n"
          ],
          "name": "stdout"
        }
      ]
    },
    {
      "cell_type": "code",
      "metadata": {
        "colab": {
          "base_uri": "https://localhost:8080/"
        },
        "id": "LfbwCHBAT-oH",
        "outputId": "da3b48ba-8332-46cd-d579-2b9698ddff50"
      },
      "source": [
        "output"
      ],
      "execution_count": null,
      "outputs": [
        {
          "output_type": "execute_result",
          "data": {
            "text/plain": [
              "id: \"563b5c2c60914178aa3e84ac9c43233c\"\n",
              "status {\n",
              "  code: SUCCESS\n",
              "  description: \"Ok\"\n",
              "}\n",
              "created_at {\n",
              "  seconds: 1621893825\n",
              "  nanos: 296190306\n",
              "}\n",
              "model {\n",
              "  id: \"aaa03c23b3724a16a56b629203edc62c\"\n",
              "  name: \"general\"\n",
              "  created_at {\n",
              "    seconds: 1457543499\n",
              "    nanos: 608845000\n",
              "  }\n",
              "  app_id: \"main\"\n",
              "  output_info {\n",
              "    output_config {\n",
              "    }\n",
              "    message: \"Show output_info with: GET /models/{model_id}/output_info\"\n",
              "    type: \"concept\"\n",
              "    type_ext: \"concept\"\n",
              "    fields_map {\n",
              "      fields {\n",
              "        key: \"concepts\"\n",
              "        value {\n",
              "          string_value: \"softmax\"\n",
              "        }\n",
              "      }\n",
              "    }\n",
              "  }\n",
              "  model_version {\n",
              "    id: \"aa7f35c01e0642fda5cf400f543e7c40\"\n",
              "    created_at {\n",
              "      seconds: 1520370624\n",
              "      nanos: 454834000\n",
              "    }\n",
              "    status {\n",
              "      code: MODEL_TRAINED\n",
              "      description: \"Model is trained and ready\"\n",
              "    }\n",
              "    visibility {\n",
              "      gettable: PUBLIC\n",
              "    }\n",
              "    app_id: \"main\"\n",
              "    user_id: \"clarifai\"\n",
              "  }\n",
              "  display_name: \"General\"\n",
              "  user_id: \"clarifai\"\n",
              "  input_info {\n",
              "    fields_map {\n",
              "      fields {\n",
              "        key: \"image\"\n",
              "        value {\n",
              "          string_value: \"images\"\n",
              "        }\n",
              "      }\n",
              "    }\n",
              "  }\n",
              "  train_info {\n",
              "  }\n",
              "  model_type_id: \"visual-classifier\"\n",
              "  visibility {\n",
              "    gettable: PUBLIC\n",
              "  }\n",
              "  description: \"v1.3\"\n",
              "}\n",
              "input {\n",
              "  id: \"c8201e7fef924a4791a9f2ba07b5160b\"\n",
              "  data {\n",
              "    image {\n",
              "      url: \"https://samples.clarifai.com/placeholder.gif\"\n",
              "      base64: \"true\"\n",
              "    }\n",
              "  }\n",
              "}\n",
              "data {\n",
              "  concepts {\n",
              "    id: \"ai_ccZ7tNd3\"\n",
              "    name: \"illuminated\"\n",
              "    value: 0.9959329962730408\n",
              "    app_id: \"main\"\n",
              "  }\n",
              "  concepts {\n",
              "    id: \"ai_Bt2Q57Jw\"\n",
              "    name: \"lens\"\n",
              "    value: 0.9948413968086243\n",
              "    app_id: \"main\"\n",
              "  }\n",
              "  concepts {\n",
              "    id: \"ai_pWgxZCT7\"\n",
              "    name: \"discovery\"\n",
              "    value: 0.9902710914611816\n",
              "    app_id: \"main\"\n",
              "  }\n",
              "  concepts {\n",
              "    id: \"ai_62K34TR4\"\n",
              "    name: \"technology\"\n",
              "    value: 0.9879404306411743\n",
              "    app_id: \"main\"\n",
              "  }\n",
              "  concepts {\n",
              "    id: \"ai_LxrzLJmf\"\n",
              "    name: \"bright\"\n",
              "    value: 0.979631245136261\n",
              "    app_id: \"main\"\n",
              "  }\n",
              "  concepts {\n",
              "    id: \"ai_5TtgsF72\"\n",
              "    name: \"zoom\"\n",
              "    value: 0.9733275771141052\n",
              "    app_id: \"main\"\n",
              "  }\n",
              "  concepts {\n",
              "    id: \"ai_786Zr311\"\n",
              "    name: \"no person\"\n",
              "    value: 0.9646848440170288\n",
              "    app_id: \"main\"\n",
              "  }\n",
              "  concepts {\n",
              "    id: \"ai_4sJLn6nX\"\n",
              "    name: \"dark\"\n",
              "    value: 0.9567657113075256\n",
              "    app_id: \"main\"\n",
              "  }\n",
              "  concepts {\n",
              "    id: \"ai_bXcwPX3f\"\n",
              "    name: \"nightlife\"\n",
              "    value: 0.9555594325065613\n",
              "    app_id: \"main\"\n",
              "  }\n",
              "  concepts {\n",
              "    id: \"ai_hhjqQn9s\"\n",
              "    name: \"science\"\n",
              "    value: 0.9481212496757507\n",
              "    app_id: \"main\"\n",
              "  }\n",
              "  concepts {\n",
              "    id: \"ai_Q4PjqMWV\"\n",
              "    name: \"optometry\"\n",
              "    value: 0.9408710598945618\n",
              "    app_id: \"main\"\n",
              "  }\n",
              "  concepts {\n",
              "    id: \"ai_XjXrH3qf\"\n",
              "    name: \"electronics\"\n",
              "    value: 0.9391382336616516\n",
              "    app_id: \"main\"\n",
              "  }\n",
              "  concepts {\n",
              "    id: \"ai_6kNkCk7S\"\n",
              "    name: \"research\"\n",
              "    value: 0.9369080662727356\n",
              "    app_id: \"main\"\n",
              "  }\n",
              "  concepts {\n",
              "    id: \"ai_HP6qMkcb\"\n",
              "    name: \"creativity\"\n",
              "    value: 0.9303357005119324\n",
              "    app_id: \"main\"\n",
              "  }\n",
              "  concepts {\n",
              "    id: \"ai_GzNlpxwb\"\n",
              "    name: \"equipment\"\n",
              "    value: 0.9261088967323303\n",
              "    app_id: \"main\"\n",
              "  }\n",
              "  concepts {\n",
              "    id: \"ai_lslcnbCj\"\n",
              "    name: \"futuristic\"\n",
              "    value: 0.9200401902198792\n",
              "    app_id: \"main\"\n",
              "  }\n",
              "  concepts {\n",
              "    id: \"ai_1LvJFhKK\"\n",
              "    name: \"eyesight\"\n",
              "    value: 0.9159560203552246\n",
              "    app_id: \"main\"\n",
              "  }\n",
              "  concepts {\n",
              "    id: \"ai_mwxGzVPG\"\n",
              "    name: \"projection\"\n",
              "    value: 0.9117363691329956\n",
              "    app_id: \"main\"\n",
              "  }\n",
              "  concepts {\n",
              "    id: \"ai_NXlW8L7r\"\n",
              "    name: \"glazed\"\n",
              "    value: 0.9067481160163879\n",
              "    app_id: \"main\"\n",
              "  }\n",
              "  concepts {\n",
              "    id: \"ai_gB5qwrpr\"\n",
              "    name: \"glass items\"\n",
              "    value: 0.8873940706253052\n",
              "    app_id: \"main\"\n",
              "  }\n",
              "}"
            ]
          },
          "metadata": {
            "tags": []
          },
          "execution_count": 122
        }
      ]
    },
    {
      "cell_type": "markdown",
      "metadata": {
        "id": "0RiAZbNkB5Au"
      },
      "source": [
        "Now let's go and identify all the concepts for each image of each project."
      ]
    },
    {
      "cell_type": "code",
      "metadata": {
        "id": "uu3J01GhB_w4",
        "colab": {
          "base_uri": "https://localhost:8080/",
          "height": 153,
          "referenced_widgets": [
            "816d246dd52d4ac58161eee7a44f6253",
            "f907e35c233548be931132d4ef9d1bca",
            "d0e0803ddab3431cb927fbeb3e7e7266",
            "4b73f02c7c414ab985e9afa4c980587c",
            "8936e0ea6ab348d8874475988043dd0a",
            "62367c27189f47a5b3ea74de2252fc62",
            "b7d39d97f22140e2a43bc55ee3296f9a",
            "071cc3bd43a9498cb5f7c2d78c76ac16"
          ]
        },
        "outputId": "c6b54cc4-9e84-4dcb-de85-3c4c7b183a64"
      },
      "source": [
        "ds_images = pd.read_csv(\"ds_images.csv\", index_col=\"project_id\")\n",
        "\n",
        "img_details = []\n",
        "for project_id, image in tqdm(ds_images.iterrows(), total=ds_images.shape[0]):\n",
        "  try:\n",
        "    with open('/content/images/' + image['img_file'], \"rb\") as f:\n",
        "      file_bytes = f.read()\n",
        "    response = stub.PostModelOutputs(\n",
        "        service_pb2.PostModelOutputsRequest(\n",
        "            model_id=\"aaa03c23b3724a16a56b629203edc62c\",\n",
        "            inputs=[\n",
        "                resources_pb2.Input(\n",
        "                    data=resources_pb2.Data(\n",
        "                        image=resources_pb2.Image(\n",
        "                            base64=file_bytes\n",
        "                        )\n",
        "                    )\n",
        "                )\n",
        "            ]\n",
        "        ),\n",
        "        metadata=metadata\n",
        "    ).outputs[0]\n",
        "    if(response.status.description == \"Ok\"):\n",
        "      for concept in response.data.concepts:\n",
        "          name = concept.name\n",
        "          value = concept.value\n",
        "          img_details.append({\n",
        "            \"project_id\": project_id,\n",
        "            \"image\": image['img_file'],\n",
        "            \"name\": name,\n",
        "            \"value\": value\n",
        "          })\n",
        "  except Exception as e:\n",
        "    print(e)\n",
        "\n",
        "print(len(img_details))"
      ],
      "execution_count": null,
      "outputs": [
        {
          "output_type": "stream",
          "text": [
            "/usr/local/lib/python3.7/dist-packages/ipykernel_launcher.py:4: TqdmDeprecationWarning: This function will be removed in tqdm==5.0.0\n",
            "Please use `tqdm.notebook.tqdm` instead of `tqdm.tqdm_notebook`\n",
            "  after removing the cwd from sys.path.\n"
          ],
          "name": "stderr"
        },
        {
          "output_type": "display_data",
          "data": {
            "application/vnd.jupyter.widget-view+json": {
              "model_id": "816d246dd52d4ac58161eee7a44f6253",
              "version_minor": 0,
              "version_major": 2
            },
            "text/plain": [
              "HBox(children=(FloatProgress(value=0.0, max=116.0), HTML(value='')))"
            ]
          },
          "metadata": {
            "tags": []
          }
        },
        {
          "output_type": "stream",
          "text": [
            "\n",
            "2320\n"
          ],
          "name": "stdout"
        }
      ]
    },
    {
      "cell_type": "code",
      "metadata": {
        "id": "5nIUezSrDTKK",
        "colab": {
          "base_uri": "https://localhost:8080/",
          "height": 195
        },
        "outputId": "96604766-fbf8-42c5-8772-9c75ced843cf"
      },
      "source": [
        "import pandas as pd\n",
        "ds_img_details = pd.DataFrame(img_details)\n",
        "ds_img_details.set_index(\"image\")\n",
        "ds_img_details.head()"
      ],
      "execution_count": null,
      "outputs": [
        {
          "output_type": "execute_result",
          "data": {
            "text/html": [
              "<div>\n",
              "<style scoped>\n",
              "    .dataframe tbody tr th:only-of-type {\n",
              "        vertical-align: middle;\n",
              "    }\n",
              "\n",
              "    .dataframe tbody tr th {\n",
              "        vertical-align: top;\n",
              "    }\n",
              "\n",
              "    .dataframe thead th {\n",
              "        text-align: right;\n",
              "    }\n",
              "</style>\n",
              "<table border=\"1\" class=\"dataframe\">\n",
              "  <thead>\n",
              "    <tr style=\"text-align: right;\">\n",
              "      <th></th>\n",
              "      <th>project_id</th>\n",
              "      <th>image</th>\n",
              "      <th>name</th>\n",
              "      <th>value</th>\n",
              "    </tr>\n",
              "  </thead>\n",
              "  <tbody>\n",
              "    <tr>\n",
              "      <th>0</th>\n",
              "      <td>https://www.indiegogo.com/projects/sirui-75mm-...</td>\n",
              "      <td>img_1.jpg</td>\n",
              "      <td>illuminated</td>\n",
              "      <td>0.995933</td>\n",
              "    </tr>\n",
              "    <tr>\n",
              "      <th>1</th>\n",
              "      <td>https://www.indiegogo.com/projects/sirui-75mm-...</td>\n",
              "      <td>img_1.jpg</td>\n",
              "      <td>lens</td>\n",
              "      <td>0.994841</td>\n",
              "    </tr>\n",
              "    <tr>\n",
              "      <th>2</th>\n",
              "      <td>https://www.indiegogo.com/projects/sirui-75mm-...</td>\n",
              "      <td>img_1.jpg</td>\n",
              "      <td>discovery</td>\n",
              "      <td>0.990271</td>\n",
              "    </tr>\n",
              "    <tr>\n",
              "      <th>3</th>\n",
              "      <td>https://www.indiegogo.com/projects/sirui-75mm-...</td>\n",
              "      <td>img_1.jpg</td>\n",
              "      <td>technology</td>\n",
              "      <td>0.987940</td>\n",
              "    </tr>\n",
              "    <tr>\n",
              "      <th>4</th>\n",
              "      <td>https://www.indiegogo.com/projects/sirui-75mm-...</td>\n",
              "      <td>img_1.jpg</td>\n",
              "      <td>bright</td>\n",
              "      <td>0.979631</td>\n",
              "    </tr>\n",
              "  </tbody>\n",
              "</table>\n",
              "</div>"
            ],
            "text/plain": [
              "                                          project_id  ...     value\n",
              "0  https://www.indiegogo.com/projects/sirui-75mm-...  ...  0.995933\n",
              "1  https://www.indiegogo.com/projects/sirui-75mm-...  ...  0.994841\n",
              "2  https://www.indiegogo.com/projects/sirui-75mm-...  ...  0.990271\n",
              "3  https://www.indiegogo.com/projects/sirui-75mm-...  ...  0.987940\n",
              "4  https://www.indiegogo.com/projects/sirui-75mm-...  ...  0.979631\n",
              "\n",
              "[5 rows x 4 columns]"
            ]
          },
          "metadata": {
            "tags": []
          },
          "execution_count": 124
        }
      ]
    },
    {
      "cell_type": "code",
      "metadata": {
        "id": "VXJF8-Q4ljK7",
        "colab": {
          "base_uri": "https://localhost:8080/"
        },
        "outputId": "eae98bbe-a5ee-4e9e-d8e8-017d4bf26457"
      },
      "source": [
        "ds_img_details.info()"
      ],
      "execution_count": null,
      "outputs": [
        {
          "output_type": "stream",
          "text": [
            "<class 'pandas.core.frame.DataFrame'>\n",
            "RangeIndex: 2320 entries, 0 to 2319\n",
            "Data columns (total 4 columns):\n",
            " #   Column      Non-Null Count  Dtype  \n",
            "---  ------      --------------  -----  \n",
            " 0   project_id  2320 non-null   object \n",
            " 1   image       2320 non-null   object \n",
            " 2   name        2320 non-null   object \n",
            " 3   value       2320 non-null   float64\n",
            "dtypes: float64(1), object(3)\n",
            "memory usage: 72.6+ KB\n"
          ],
          "name": "stdout"
        }
      ]
    },
    {
      "cell_type": "code",
      "metadata": {
        "id": "1WR4kQBsDXwx"
      },
      "source": [
        "ds_img_details.to_csv('ds_img_details.csv')"
      ],
      "execution_count": null,
      "outputs": []
    },
    {
      "cell_type": "markdown",
      "metadata": {
        "id": "Kt_AIhQM-6zi"
      },
      "source": [
        "# Geocoding\n",
        "\n",
        "What's geocoding?\n",
        "\n"
      ]
    },
    {
      "cell_type": "markdown",
      "metadata": {
        "id": "tBcxapgb_lGp"
      },
      "source": [
        "Let's try to geolocalize the projects..."
      ]
    },
    {
      "cell_type": "code",
      "metadata": {
        "id": "B4IO9haO_o7W",
        "colab": {
          "base_uri": "https://localhost:8080/"
        },
        "outputId": "27ad24a9-2f77-4e4f-a0e8-d752bc0e9951"
      },
      "source": [
        "import requests\n",
        "import json\n",
        "import pprint\n",
        "import pandas as pd\n",
        "from tqdm import tqdm_notebook as tqdm\n",
        "\n",
        "address = \"New Orleans, LA\"\n",
        "key = \"r3xgNwBAviBMdOj4Op90kvyy2iO1CDGz\"\n",
        "geocode_url = f\"http://www.mapquestapi.com/geocoding/v1/address?key={key}&location={address}\"\n",
        "response = requests.get(geocode_url)\n",
        "\n",
        "import json\n",
        "geo = json.loads(response.text)\n",
        "pprint.pprint(response.text)"
      ],
      "execution_count": null,
      "outputs": [
        {
          "output_type": "stream",
          "text": [
            "('{\"info\":{\"statuscode\":0,\"copyright\":{\"text\":\"\\\\u00A9 2021 MapQuest, '\n",
            " 'Inc.\",\"imageUrl\":\"http://api.mqcdn.com/res/mqlogo.gif\",\"imageAltText\":\"\\\\u00A9 '\n",
            " '2021 MapQuest, '\n",
            " 'Inc.\"},\"messages\":[]},\"options\":{\"maxResults\":-1,\"thumbMaps\":true,\"ignoreLatLngInput\":false},\"results\":[{\"providedLocation\":{\"location\":\"New '\n",
            " 'Orleans, '\n",
            " 'LA\"},\"locations\":[{\"street\":\"\",\"adminArea6\":\"\",\"adminArea6Type\":\"Neighborhood\",\"adminArea5\":\"New '\n",
            " 'Orleans\",\"adminArea5Type\":\"City\",\"adminArea4\":\"Orleans '\n",
            " 'Parish\",\"adminArea4Type\":\"County\",\"adminArea3\":\"LA\",\"adminArea3Type\":\"State\",\"adminArea1\":\"US\",\"adminArea1Type\":\"Country\",\"postalCode\":\"\",\"geocodeQualityCode\":\"A5XAX\",\"geocodeQuality\":\"CITY\",\"dragPoint\":false,\"sideOfStreet\":\"N\",\"linkId\":\"282038950\",\"unknownInput\":\"\",\"type\":\"s\",\"latLng\":{\"lat\":29.950621,\"lng\":-90.074948},\"displayLatLng\":{\"lat\":29.950621,\"lng\":-90.074948},\"mapUrl\":\"http://www.mapquestapi.com/staticmap/v5/map?key=r3xgNwBAviBMdOj4Op90kvyy2iO1CDGz&type=map&size=225,160&locations=29.950621,-90.074948|marker-sm-50318A-1&scalebar=true&zoom=12&rand=948754192\"}]}]}')\n"
          ],
          "name": "stdout"
        }
      ]
    },
    {
      "cell_type": "code",
      "metadata": {
        "id": "LRQ24oZf_0XB",
        "colab": {
          "base_uri": "https://localhost:8080/"
        },
        "outputId": "14a1a162-ba48-4d59-819e-94e3218dd3db"
      },
      "source": [
        "print(geo['results'][0]['locations'][0]['latLng']['lat'])\n",
        "print(geo['results'][0]['locations'][0]['latLng']['lng'])"
      ],
      "execution_count": null,
      "outputs": [
        {
          "output_type": "stream",
          "text": [
            "29.950621\n",
            "-90.074948\n"
          ],
          "name": "stdout"
        }
      ]
    },
    {
      "cell_type": "code",
      "metadata": {
        "id": "GQNKNIi1988g",
        "colab": {
          "base_uri": "https://localhost:8080/"
        },
        "outputId": "3015468e-b806-4154-a344-b16796a737ce"
      },
      "source": [
        "ds_projects = pd.read_csv(\"ds_project_details.csv\", index_col=\"project_id\")\n",
        "ds_projects.info()"
      ],
      "execution_count": null,
      "outputs": [
        {
          "output_type": "stream",
          "text": [
            "<class 'pandas.core.frame.DataFrame'>\n",
            "Index: 100 entries, https://www.indiegogo.com/projects/sirui-75mm-anamorphic-lens-king-of-portrait/pica to https://www.indiegogo.com/projects/aaron-sinclair-nature-album-trees-and-turtles/pica\n",
            "Data columns (total 6 columns):\n",
            " #   Column      Non-Null Count  Dtype \n",
            "---  ------      --------------  ----- \n",
            " 0   Unnamed: 0  100 non-null    int64 \n",
            " 1   backers     100 non-null    object\n",
            " 2   goal        100 non-null    object\n",
            " 3   left        100 non-null    object\n",
            " 4   owner       64 non-null     object\n",
            " 5   location    64 non-null     object\n",
            "dtypes: int64(1), object(5)\n",
            "memory usage: 5.5+ KB\n"
          ],
          "name": "stdout"
        }
      ]
    },
    {
      "cell_type": "code",
      "metadata": {
        "id": "feuWng0zDudp",
        "colab": {
          "base_uri": "https://localhost:8080/",
          "height": 153,
          "referenced_widgets": [
            "e6631c65cfaf4ffbabd08367bf74de4e",
            "c3791a127f874cff99a0089be56405ea",
            "1c4ebcda2a02430e954ecf8725775b6c",
            "c050b27732f341a0bfca5d294ed94cf0",
            "38a1c435416a4bb1894825439ccf1322",
            "9473bdf27d76416c93fdbbe512855c8b",
            "9f886d761f6c46ec96cd4a6f09e09315",
            "6ac585d042504464a672c04d94783a88"
          ]
        },
        "outputId": "9ce5a3d8-c504-41e5-a189-68f5b7084f76"
      },
      "source": [
        "ds_projects = pd.read_csv(\"ds_project_details.csv\", index_col=\"project_id\")\n",
        "\n",
        "import time\n",
        "project_location = []\n",
        "for project_id, project in tqdm(ds_projects.iterrows(), total=ds_projects.shape[0]):\n",
        "  address = project['location']\n",
        "  if(address is None):\n",
        "    print(str(project_id) + \"- \" + project['location'])\n",
        "  else:\n",
        "    key = \"r3xgNwBAviBMdOj4Op90kvyy2iO1CDGz\"\n",
        "    try:\n",
        "      geocode_url = f\"http://www.mapquestapi.com/geocoding/v1/address?key={key}&location={address}\"\n",
        "      response = requests.get(geocode_url)\n",
        "      if(response.status_code == 200):\n",
        "        geo = json.loads(response.text)\n",
        "        lat = geo['results'][0]['locations'][0]['latLng']['lat']\n",
        "        lng = geo['results'][0]['locations'][0]['latLng']['lng']\n",
        "        project_location.append({\n",
        "              \"project_id\": project_id,\n",
        "              \"lat\": lat,\n",
        "              \"lng\": lng\n",
        "            })\n",
        "    except Exception as e:\n",
        "      print(e)\n",
        "    \n",
        "\n",
        "print(len(project_location))"
      ],
      "execution_count": null,
      "outputs": [
        {
          "output_type": "stream",
          "text": [
            "/usr/local/lib/python3.7/dist-packages/ipykernel_launcher.py:5: TqdmDeprecationWarning: This function will be removed in tqdm==5.0.0\n",
            "Please use `tqdm.notebook.tqdm` instead of `tqdm.tqdm_notebook`\n",
            "  \"\"\"\n"
          ],
          "name": "stderr"
        },
        {
          "output_type": "display_data",
          "data": {
            "application/vnd.jupyter.widget-view+json": {
              "model_id": "e6631c65cfaf4ffbabd08367bf74de4e",
              "version_minor": 0,
              "version_major": 2
            },
            "text/plain": [
              "HBox(children=(FloatProgress(value=0.0), HTML(value='')))"
            ]
          },
          "metadata": {
            "tags": []
          }
        },
        {
          "output_type": "stream",
          "text": [
            "\n",
            "100\n"
          ],
          "name": "stdout"
        }
      ]
    },
    {
      "cell_type": "code",
      "metadata": {
        "id": "KdlXXE24E9Es",
        "colab": {
          "base_uri": "https://localhost:8080/",
          "height": 639
        },
        "outputId": "80cbec01-1283-4944-876a-f31d40423f69"
      },
      "source": [
        "import pandas as pd\n",
        "ds_project_location = pd.DataFrame(project_location)\n",
        "ds_project_location.set_index(\"project_id\")\n",
        "ds_project_location.head(20)"
      ],
      "execution_count": null,
      "outputs": [
        {
          "output_type": "execute_result",
          "data": {
            "text/html": [
              "<div>\n",
              "<style scoped>\n",
              "    .dataframe tbody tr th:only-of-type {\n",
              "        vertical-align: middle;\n",
              "    }\n",
              "\n",
              "    .dataframe tbody tr th {\n",
              "        vertical-align: top;\n",
              "    }\n",
              "\n",
              "    .dataframe thead th {\n",
              "        text-align: right;\n",
              "    }\n",
              "</style>\n",
              "<table border=\"1\" class=\"dataframe\">\n",
              "  <thead>\n",
              "    <tr style=\"text-align: right;\">\n",
              "      <th></th>\n",
              "      <th>project_id</th>\n",
              "      <th>lat</th>\n",
              "      <th>lng</th>\n",
              "    </tr>\n",
              "  </thead>\n",
              "  <tbody>\n",
              "    <tr>\n",
              "      <th>0</th>\n",
              "      <td>https://www.indiegogo.com/projects/sirui-75mm-...</td>\n",
              "      <td>40.504004</td>\n",
              "      <td>-79.843219</td>\n",
              "    </tr>\n",
              "    <tr>\n",
              "      <th>1</th>\n",
              "      <td>https://www.indiegogo.com/projects/livall-evo2...</td>\n",
              "      <td>37.764907</td>\n",
              "      <td>-121.951061</td>\n",
              "    </tr>\n",
              "    <tr>\n",
              "      <th>2</th>\n",
              "      <td>https://www.indiegogo.com/projects/me-mum-a-ne...</td>\n",
              "      <td>45.813155</td>\n",
              "      <td>15.977030</td>\n",
              "    </tr>\n",
              "    <tr>\n",
              "      <th>3</th>\n",
              "      <td>https://www.indiegogo.com/projects/gamma-all-s...</td>\n",
              "      <td>18.784635</td>\n",
              "      <td>100.777315</td>\n",
              "    </tr>\n",
              "    <tr>\n",
              "      <th>4</th>\n",
              "      <td>https://www.indiegogo.com/projects/edge-the-fi...</td>\n",
              "      <td>46.005010</td>\n",
              "      <td>8.952028</td>\n",
              "    </tr>\n",
              "    <tr>\n",
              "      <th>5</th>\n",
              "      <td>https://www.indiegogo.com/projects/gosun-chill...</td>\n",
              "      <td>39.104427</td>\n",
              "      <td>-84.513808</td>\n",
              "    </tr>\n",
              "    <tr>\n",
              "      <th>6</th>\n",
              "      <td>https://www.indiegogo.com/projects/olive-pro-2...</td>\n",
              "      <td>18.784635</td>\n",
              "      <td>100.777315</td>\n",
              "    </tr>\n",
              "    <tr>\n",
              "      <th>7</th>\n",
              "      <td>https://www.indiegogo.com/projects/oyeet-nex-p...</td>\n",
              "      <td>22.264412</td>\n",
              "      <td>114.167061</td>\n",
              "    </tr>\n",
              "    <tr>\n",
              "      <th>8</th>\n",
              "      <td>https://www.indiegogo.com/projects/aawireless/...</td>\n",
              "      <td>18.784635</td>\n",
              "      <td>100.777315</td>\n",
              "    </tr>\n",
              "    <tr>\n",
              "      <th>9</th>\n",
              "      <td>https://www.indiegogo.com/projects/kylgor-in-t...</td>\n",
              "      <td>44.164013</td>\n",
              "      <td>-77.382466</td>\n",
              "    </tr>\n",
              "    <tr>\n",
              "      <th>10</th>\n",
              "      <td>https://www.indiegogo.com/projects/center-cam-...</td>\n",
              "      <td>18.784635</td>\n",
              "      <td>100.777315</td>\n",
              "    </tr>\n",
              "    <tr>\n",
              "      <th>11</th>\n",
              "      <td>https://www.indiegogo.com/projects/cinema-now-...</td>\n",
              "      <td>51.507276</td>\n",
              "      <td>-0.127660</td>\n",
              "    </tr>\n",
              "    <tr>\n",
              "      <th>12</th>\n",
              "      <td>https://www.indiegogo.com/projects/cinema-now-...</td>\n",
              "      <td>51.507276</td>\n",
              "      <td>-0.127660</td>\n",
              "    </tr>\n",
              "    <tr>\n",
              "      <th>13</th>\n",
              "      <td>https://www.indiegogo.com/projects/detroit-rea...</td>\n",
              "      <td>32.776470</td>\n",
              "      <td>-79.931027</td>\n",
              "    </tr>\n",
              "    <tr>\n",
              "      <th>14</th>\n",
              "      <td>https://www.indiegogo.com/projects/onexplayer-...</td>\n",
              "      <td>22.300620</td>\n",
              "      <td>114.073880</td>\n",
              "    </tr>\n",
              "    <tr>\n",
              "      <th>15</th>\n",
              "      <td>https://www.indiegogo.com/projects/the-lifegua...</td>\n",
              "      <td>32.080590</td>\n",
              "      <td>-81.090103</td>\n",
              "    </tr>\n",
              "    <tr>\n",
              "      <th>16</th>\n",
              "      <td>https://www.indiegogo.com/projects/revolutioni...</td>\n",
              "      <td>37.656667</td>\n",
              "      <td>-121.878923</td>\n",
              "    </tr>\n",
              "    <tr>\n",
              "      <th>17</th>\n",
              "      <td>https://www.indiegogo.com/projects/cimino-home...</td>\n",
              "      <td>34.052238</td>\n",
              "      <td>-118.243344</td>\n",
              "    </tr>\n",
              "    <tr>\n",
              "      <th>18</th>\n",
              "      <td>https://www.indiegogo.com/projects/lomi-turn-w...</td>\n",
              "      <td>49.883706</td>\n",
              "      <td>-119.493496</td>\n",
              "    </tr>\n",
              "    <tr>\n",
              "      <th>19</th>\n",
              "      <td>https://www.indiegogo.com/projects/ladies-nigh...</td>\n",
              "      <td>40.713054</td>\n",
              "      <td>-74.007228</td>\n",
              "    </tr>\n",
              "  </tbody>\n",
              "</table>\n",
              "</div>"
            ],
            "text/plain": [
              "                                           project_id        lat         lng\n",
              "0   https://www.indiegogo.com/projects/sirui-75mm-...  40.504004  -79.843219\n",
              "1   https://www.indiegogo.com/projects/livall-evo2...  37.764907 -121.951061\n",
              "2   https://www.indiegogo.com/projects/me-mum-a-ne...  45.813155   15.977030\n",
              "3   https://www.indiegogo.com/projects/gamma-all-s...  18.784635  100.777315\n",
              "4   https://www.indiegogo.com/projects/edge-the-fi...  46.005010    8.952028\n",
              "5   https://www.indiegogo.com/projects/gosun-chill...  39.104427  -84.513808\n",
              "6   https://www.indiegogo.com/projects/olive-pro-2...  18.784635  100.777315\n",
              "7   https://www.indiegogo.com/projects/oyeet-nex-p...  22.264412  114.167061\n",
              "8   https://www.indiegogo.com/projects/aawireless/...  18.784635  100.777315\n",
              "9   https://www.indiegogo.com/projects/kylgor-in-t...  44.164013  -77.382466\n",
              "10  https://www.indiegogo.com/projects/center-cam-...  18.784635  100.777315\n",
              "11  https://www.indiegogo.com/projects/cinema-now-...  51.507276   -0.127660\n",
              "12  https://www.indiegogo.com/projects/cinema-now-...  51.507276   -0.127660\n",
              "13  https://www.indiegogo.com/projects/detroit-rea...  32.776470  -79.931027\n",
              "14  https://www.indiegogo.com/projects/onexplayer-...  22.300620  114.073880\n",
              "15  https://www.indiegogo.com/projects/the-lifegua...  32.080590  -81.090103\n",
              "16  https://www.indiegogo.com/projects/revolutioni...  37.656667 -121.878923\n",
              "17  https://www.indiegogo.com/projects/cimino-home...  34.052238 -118.243344\n",
              "18  https://www.indiegogo.com/projects/lomi-turn-w...  49.883706 -119.493496\n",
              "19  https://www.indiegogo.com/projects/ladies-nigh...  40.713054  -74.007228"
            ]
          },
          "metadata": {
            "tags": []
          },
          "execution_count": 131
        }
      ]
    },
    {
      "cell_type": "code",
      "metadata": {
        "id": "abHeZZM0mXmL",
        "colab": {
          "base_uri": "https://localhost:8080/"
        },
        "outputId": "62cd48b5-49b5-4652-e764-7b1c6a590ebd"
      },
      "source": [
        "ds_project_location.info()"
      ],
      "execution_count": null,
      "outputs": [
        {
          "output_type": "stream",
          "text": [
            "<class 'pandas.core.frame.DataFrame'>\n",
            "RangeIndex: 100 entries, 0 to 99\n",
            "Data columns (total 3 columns):\n",
            " #   Column      Non-Null Count  Dtype  \n",
            "---  ------      --------------  -----  \n",
            " 0   project_id  100 non-null    object \n",
            " 1   lat         100 non-null    float64\n",
            " 2   lng         100 non-null    float64\n",
            "dtypes: float64(2), object(1)\n",
            "memory usage: 2.5+ KB\n"
          ],
          "name": "stdout"
        }
      ]
    },
    {
      "cell_type": "code",
      "metadata": {
        "id": "sg8TZopsFC3b"
      },
      "source": [
        "ds_project_location.to_csv('ds_project_location.csv')"
      ],
      "execution_count": null,
      "outputs": []
    },
    {
      "cell_type": "code",
      "metadata": {
        "id": "_n01de28Kb8q"
      },
      "source": [
        ""
      ],
      "execution_count": null,
      "outputs": []
    },
    {
      "cell_type": "markdown",
      "metadata": {
        "id": "vqfnlwdBXluM"
      },
      "source": [
        "# Use API to get data from Indiegogo"
      ]
    },
    {
      "cell_type": "code",
      "metadata": {
        "id": "UYc3v1PbI8me"
      },
      "source": [
        "!pip install selenium\n",
        "!apt-get update\n",
        "!apt install chromium-chromedriver\n",
        "!cp /usr/lib/chromium-browser/chromedriver /usr/bin"
      ],
      "execution_count": null,
      "outputs": []
    },
    {
      "cell_type": "code",
      "metadata": {
        "id": "DMkOAepZXr9J"
      },
      "source": [
        "import sys\n",
        "import logging\n",
        "from selenium.webdriver.remote.remote_connection import LOGGER\n",
        "LOGGER.setLevel(logging.WARNING)\n",
        "sys.path.insert(0,'/usr/lib/chromium-browser/chromedriver')\n",
        "from selenium import webdriver\n",
        "\n",
        "import requests\n",
        "from tqdm import tqdm_notebook as tqdm\n",
        "import pandas\n",
        "import pprint\n",
        "import pandas as pd\n",
        "import json"
      ],
      "execution_count": 43,
      "outputs": []
    },
    {
      "cell_type": "code",
      "metadata": {
        "id": "R6ywKimrYCbD",
        "colab": {
          "base_uri": "https://localhost:8080/",
          "height": 117,
          "referenced_widgets": [
            "02c58be444854cc4988bc9e12beaa70d",
            "7918d601638142cb9519520a84c959ee",
            "1fd1d2c27a1f48f099c413c30be352b2",
            "2a68d16e47aa4e6f9669d488a837c62c",
            "ce11276c0e6b4f3b9dc704dc7511e9c8",
            "11578089fb10462aa51a702f3d27ecd4",
            "c3735942fe7d4af8ae0efba84d42bc51",
            "8a8d27aefa454931980f1426bb372b14"
          ]
        },
        "outputId": "ddf637ee-bb12-4476-ffd0-61f7c8bc3469"
      },
      "source": [
        "project_list = []\n",
        "for page in tqdm(range(1, 50)):\n",
        "  payload = {\"sort\": \"most_funded\",\n",
        "            \"category_main\": None,\n",
        "            \"category_top_level\": \"Creative Works\",\n",
        "            \"project_timing\": \"all\",\n",
        "            \"project_type\": \"campaign\",\n",
        "            \"tags\":[],\n",
        "            \"page_num\": page,\n",
        "            \"per_page\": 100,\n",
        "            \"q\": \"\"}\n",
        "  r = requests.post('https://www.indiegogo.com/private_api/discover',\n",
        "                  headers={'Content-type': 'application/json; charset=UTF-8', \"User-Agent\": \"curl/7.64.1\"},\n",
        "                  json=payload)\n",
        "  my_projects = r.json()['response']['discoverables']\n",
        "  project_list.extend(my_projects)"
      ],
      "execution_count": 6,
      "outputs": [
        {
          "output_type": "stream",
          "text": [
            "/usr/local/lib/python3.7/dist-packages/ipykernel_launcher.py:2: TqdmDeprecationWarning: This function will be removed in tqdm==5.0.0\n",
            "Please use `tqdm.notebook.tqdm` instead of `tqdm.tqdm_notebook`\n",
            "  \n"
          ],
          "name": "stderr"
        },
        {
          "output_type": "display_data",
          "data": {
            "application/vnd.jupyter.widget-view+json": {
              "model_id": "02c58be444854cc4988bc9e12beaa70d",
              "version_minor": 0,
              "version_major": 2
            },
            "text/plain": [
              "HBox(children=(FloatProgress(value=0.0, max=49.0), HTML(value='')))"
            ]
          },
          "metadata": {
            "tags": []
          }
        },
        {
          "output_type": "stream",
          "text": [
            "\n"
          ],
          "name": "stdout"
        }
      ]
    },
    {
      "cell_type": "code",
      "metadata": {
        "colab": {
          "base_uri": "https://localhost:8080/"
        },
        "id": "Y5HnCa7mdr-y",
        "outputId": "33f4c232-fc2b-4054-fedc-0afecd1853a7"
      },
      "source": [
        "len(project_list)"
      ],
      "execution_count": 7,
      "outputs": [
        {
          "output_type": "execute_result",
          "data": {
            "text/plain": [
              "4900"
            ]
          },
          "metadata": {
            "tags": []
          },
          "execution_count": 7
        }
      ]
    },
    {
      "cell_type": "code",
      "metadata": {
        "colab": {
          "base_uri": "https://localhost:8080/"
        },
        "id": "yP3pghryXwqf",
        "outputId": "4c8ad559-9c12-4823-b364-a833e9d102d8"
      },
      "source": [
        "print(project_list[0:2])"
      ],
      "execution_count": 8,
      "outputs": [
        {
          "output_type": "stream",
          "text": [
            "[{'bullet_point': None, 'category': 'Film', 'category_url': '/explore/film', 'clickthrough_url': '/projects/super-troopers-2', 'close_date': '2015-04-24T23:59:59-07:00', 'currency': 'USD', 'funds_raised_amount': 4617223, 'funds_raised_percent': 2.081839, 'image_url': 'https://c1.iggcdn.com/indiegogo-media-prod-cld/image/upload/c_fill,f_auto,h_273,w_273/ihngkgslmmpbwcaxurio.jpg', 'is_indemand': False, 'is_pre_launch': False, 'offered_by': None, 'open_date': '2015-03-24T10:00:57-07:00', 'perk_goal_percentage': None, 'perks_claimed': None, 'price_offered': None, 'price_retail': None, 'product_stage': None, 'project_id': 1166581, 'project_type': 'campaign', 'tagline': 'The #SuperTroopers2 campaign is over, but the movie will be out in theaters on 4/20/18!', 'tags': ['other'], 'title': 'Super Troopers 2'}, {'bullet_point': None, 'category': 'Web Series & TV Shows', 'category_url': '/explore/web-series-tv-shows', 'clickthrough_url': '/projects/con-man', 'close_date': '2015-04-10T23:59:59-07:00', 'currency': 'USD', 'funds_raised_amount': 3156178, 'funds_raised_percent': 7.347458823529411, 'image_url': 'https://c1.iggcdn.com/indiegogo-media-prod-cld/image/upload/c_fill,f_auto,h_273,w_273/fxniv9n1jtye9da7gyhq.jpg', 'is_indemand': False, 'is_pre_launch': False, 'offered_by': None, 'open_date': '2015-03-10T14:48:01-07:00', 'perk_goal_percentage': None, 'perks_claimed': None, 'price_offered': None, 'price_retail': None, 'product_stage': None, 'project_id': 1143140, 'project_type': 'campaign', 'tagline': 'A new comedy from Alan Tudyk and Nathan Fillion produced by YOU!', 'tags': ['other'], 'title': 'Con Man'}]\n"
          ],
          "name": "stdout"
        }
      ]
    },
    {
      "cell_type": "code",
      "metadata": {
        "colab": {
          "base_uri": "https://localhost:8080/",
          "height": 564
        },
        "id": "BoSlD8TbZPwr",
        "outputId": "3816fea8-f375-4ba5-b12b-aa862e1aecbf"
      },
      "source": [
        "import pandas as pd\n",
        "ds_detail_projects = pd.DataFrame(project_list)\n",
        "ds_detail_projects.set_index(\"project_id\")\n",
        "ds_detail_projects.head()"
      ],
      "execution_count": 9,
      "outputs": [
        {
          "output_type": "execute_result",
          "data": {
            "text/html": [
              "<div>\n",
              "<style scoped>\n",
              "    .dataframe tbody tr th:only-of-type {\n",
              "        vertical-align: middle;\n",
              "    }\n",
              "\n",
              "    .dataframe tbody tr th {\n",
              "        vertical-align: top;\n",
              "    }\n",
              "\n",
              "    .dataframe thead th {\n",
              "        text-align: right;\n",
              "    }\n",
              "</style>\n",
              "<table border=\"1\" class=\"dataframe\">\n",
              "  <thead>\n",
              "    <tr style=\"text-align: right;\">\n",
              "      <th></th>\n",
              "      <th>bullet_point</th>\n",
              "      <th>category</th>\n",
              "      <th>category_url</th>\n",
              "      <th>clickthrough_url</th>\n",
              "      <th>close_date</th>\n",
              "      <th>currency</th>\n",
              "      <th>funds_raised_amount</th>\n",
              "      <th>funds_raised_percent</th>\n",
              "      <th>image_url</th>\n",
              "      <th>is_indemand</th>\n",
              "      <th>is_pre_launch</th>\n",
              "      <th>offered_by</th>\n",
              "      <th>open_date</th>\n",
              "      <th>perk_goal_percentage</th>\n",
              "      <th>perks_claimed</th>\n",
              "      <th>price_offered</th>\n",
              "      <th>price_retail</th>\n",
              "      <th>product_stage</th>\n",
              "      <th>project_id</th>\n",
              "      <th>project_type</th>\n",
              "      <th>tagline</th>\n",
              "      <th>tags</th>\n",
              "      <th>title</th>\n",
              "    </tr>\n",
              "  </thead>\n",
              "  <tbody>\n",
              "    <tr>\n",
              "      <th>0</th>\n",
              "      <td>None</td>\n",
              "      <td>Film</td>\n",
              "      <td>/explore/film</td>\n",
              "      <td>/projects/super-troopers-2</td>\n",
              "      <td>2015-04-24T23:59:59-07:00</td>\n",
              "      <td>USD</td>\n",
              "      <td>4617223</td>\n",
              "      <td>2.081839</td>\n",
              "      <td>https://c1.iggcdn.com/indiegogo-media-prod-cld...</td>\n",
              "      <td>False</td>\n",
              "      <td>False</td>\n",
              "      <td>None</td>\n",
              "      <td>2015-03-24T10:00:57-07:00</td>\n",
              "      <td>NaN</td>\n",
              "      <td>NaN</td>\n",
              "      <td>None</td>\n",
              "      <td>None</td>\n",
              "      <td>None</td>\n",
              "      <td>1166581</td>\n",
              "      <td>campaign</td>\n",
              "      <td>The #SuperTroopers2 campaign is over, but the ...</td>\n",
              "      <td>[other]</td>\n",
              "      <td>Super Troopers 2</td>\n",
              "    </tr>\n",
              "    <tr>\n",
              "      <th>1</th>\n",
              "      <td>None</td>\n",
              "      <td>Web Series &amp; TV Shows</td>\n",
              "      <td>/explore/web-series-tv-shows</td>\n",
              "      <td>/projects/con-man</td>\n",
              "      <td>2015-04-10T23:59:59-07:00</td>\n",
              "      <td>USD</td>\n",
              "      <td>3156178</td>\n",
              "      <td>7.347459</td>\n",
              "      <td>https://c1.iggcdn.com/indiegogo-media-prod-cld...</td>\n",
              "      <td>False</td>\n",
              "      <td>False</td>\n",
              "      <td>None</td>\n",
              "      <td>2015-03-10T14:48:01-07:00</td>\n",
              "      <td>NaN</td>\n",
              "      <td>NaN</td>\n",
              "      <td>None</td>\n",
              "      <td>None</td>\n",
              "      <td>None</td>\n",
              "      <td>1143140</td>\n",
              "      <td>campaign</td>\n",
              "      <td>A new comedy from Alan Tudyk and Nathan Fillio...</td>\n",
              "      <td>[other]</td>\n",
              "      <td>Con Man</td>\n",
              "    </tr>\n",
              "    <tr>\n",
              "      <th>2</th>\n",
              "      <td>None</td>\n",
              "      <td>Photography</td>\n",
              "      <td>/explore/photography</td>\n",
              "      <td>/projects/the-camera-pack-peter-mckinnon-x-nom...</td>\n",
              "      <td>2019-11-14T23:59:59-08:00</td>\n",
              "      <td>USD</td>\n",
              "      <td>2677592</td>\n",
              "      <td>22.861930</td>\n",
              "      <td>https://c1.iggcdn.com/indiegogo-media-prod-cld...</td>\n",
              "      <td>False</td>\n",
              "      <td>False</td>\n",
              "      <td>None</td>\n",
              "      <td>2019-11-13T23:59:59-08:00</td>\n",
              "      <td>NaN</td>\n",
              "      <td>NaN</td>\n",
              "      <td>None</td>\n",
              "      <td>None</td>\n",
              "      <td>None</td>\n",
              "      <td>2558245</td>\n",
              "      <td>campaign</td>\n",
              "      <td>A Functional Camera Pack for all types of trav...</td>\n",
              "      <td>[backpacks, design, luggage, professional]</td>\n",
              "      <td>The Camera Pack: Peter McKinnon X NOMATIC</td>\n",
              "    </tr>\n",
              "    <tr>\n",
              "      <th>3</th>\n",
              "      <td>None</td>\n",
              "      <td>Writing &amp; Publishing</td>\n",
              "      <td>/explore/writing-publishing</td>\n",
              "      <td>/projects/the-book--28</td>\n",
              "      <td>2021-01-04T23:59:59-08:00</td>\n",
              "      <td>USD</td>\n",
              "      <td>2621668</td>\n",
              "      <td>293.336625</td>\n",
              "      <td>https://c1.iggcdn.com/indiegogo-media-prod-cld...</td>\n",
              "      <td>True</td>\n",
              "      <td>False</td>\n",
              "      <td>None</td>\n",
              "      <td>2021-01-03T23:59:59-08:00</td>\n",
              "      <td>NaN</td>\n",
              "      <td>NaN</td>\n",
              "      <td>None</td>\n",
              "      <td>None</td>\n",
              "      <td>None</td>\n",
              "      <td>2650630</td>\n",
              "      <td>campaign</td>\n",
              "      <td>The Ultimate Guide To Rebuilding A Civilizatio...</td>\n",
              "      <td>[books, burning man, design]</td>\n",
              "      <td>The Book</td>\n",
              "    </tr>\n",
              "    <tr>\n",
              "      <th>4</th>\n",
              "      <td>None</td>\n",
              "      <td>Film</td>\n",
              "      <td>/explore/film</td>\n",
              "      <td>/projects/code-8-a-film-from-robbie-stephen-amell</td>\n",
              "      <td>2016-04-23T23:59:59-07:00</td>\n",
              "      <td>USD</td>\n",
              "      <td>2501972</td>\n",
              "      <td>8.600755</td>\n",
              "      <td>https://c1.iggcdn.com/indiegogo-media-prod-cld...</td>\n",
              "      <td>False</td>\n",
              "      <td>False</td>\n",
              "      <td>None</td>\n",
              "      <td>2016-03-22T08:06:31-07:00</td>\n",
              "      <td>NaN</td>\n",
              "      <td>NaN</td>\n",
              "      <td>None</td>\n",
              "      <td>None</td>\n",
              "      <td>None</td>\n",
              "      <td>1676513</td>\n",
              "      <td>campaign</td>\n",
              "      <td>Help Robbie &amp; Stephen Amell make their first f...</td>\n",
              "      <td>[robots]</td>\n",
              "      <td>Code 8 - a film from Robbie &amp; Stephen Amell</td>\n",
              "    </tr>\n",
              "  </tbody>\n",
              "</table>\n",
              "</div>"
            ],
            "text/plain": [
              "  bullet_point  ...                                        title\n",
              "0         None  ...                             Super Troopers 2\n",
              "1         None  ...                                      Con Man\n",
              "2         None  ...    The Camera Pack: Peter McKinnon X NOMATIC\n",
              "3         None  ...                                     The Book\n",
              "4         None  ...  Code 8 - a film from Robbie & Stephen Amell\n",
              "\n",
              "[5 rows x 23 columns]"
            ]
          },
          "metadata": {
            "tags": []
          },
          "execution_count": 9
        }
      ]
    },
    {
      "cell_type": "code",
      "metadata": {
        "colab": {
          "base_uri": "https://localhost:8080/"
        },
        "id": "-3mbSUvmIguO",
        "outputId": "1bf1375c-7fdb-4ce2-e548-d95db1691825"
      },
      "source": [
        "from google.colab import drive\n",
        "drive.mount('/content/drive')"
      ],
      "execution_count": 10,
      "outputs": [
        {
          "output_type": "stream",
          "text": [
            "Mounted at /content/drive\n"
          ],
          "name": "stdout"
        }
      ]
    },
    {
      "cell_type": "code",
      "metadata": {
        "id": "pzSRqiMcZRGb"
      },
      "source": [
        "ds_detail_projects.to_csv(\"/content/drive/MyDrive/indiegogo/1_ds_project_details_full.csv\")"
      ],
      "execution_count": 13,
      "outputs": []
    },
    {
      "cell_type": "code",
      "metadata": {
        "id": "XY3Fr-m-KarS"
      },
      "source": [
        "ds_detail_projects = pd.read_csv(\"/content/drive/MyDrive/indiegogo/1_ds_project_details_full.csv\", index_col=\"project_id\")\n"
      ],
      "execution_count": 6,
      "outputs": []
    },
    {
      "cell_type": "code",
      "metadata": {
        "id": "xo2tZM_nJH7g"
      },
      "source": [
        "chrome_options = webdriver.ChromeOptions()\n",
        "chrome_options.add_argument('--headless')\n",
        "chrome_options.add_argument('--no-sandbox')\n",
        "chrome_options.add_argument('--disable-dev-shm-usage')\n",
        "chrome_options.add_argument(\"user-agent=Mozilla/5.0 (Macintosh; Intel Mac OS X 10_15_7) AppleWebKit/537.36 (KHTML, like Gecko) Chrome/90.0.4430.212 Safari/537.36\")"
      ],
      "execution_count": 7,
      "outputs": []
    },
    {
      "cell_type": "code",
      "metadata": {
        "colab": {
          "base_uri": "https://localhost:8080/",
          "height": 542,
          "referenced_widgets": [
            "a3a165c326d9448596afe14dfa57927c",
            "b768a77730984241a28a291fa81c19cb",
            "bafb0b1564424a55a913a30a09d5bbec",
            "f6a2fb165901482e9ca5961b65f0191b",
            "b67f26dc70444d80a46f36a73ec8f54d",
            "4c74795d99114dea9f323a0d3442b571",
            "5edc9ae04d3048a398078d0ffa0e74be",
            "c4bd2cbe639d4891b749c0c1b90a4f23"
          ]
        },
        "id": "vxUS-HzyZKJQ",
        "outputId": "b1e907f6-fdd4-4911-82cd-fa4d280b2067"
      },
      "source": [
        "wd = webdriver.Chrome('chromedriver',chrome_options=chrome_options)\n",
        "import time\n",
        "project_location = []\n",
        "for project_id, project in tqdm(ds_detail_projects.iterrows(), total=ds_detail_projects.shape[0]):\n",
        "  key = \"r3xgNwBAviBMdOj4Op90kvyy2iO1CDGz\"\n",
        "  try:\n",
        "    project_url = project[\"clickthrough_url\"]\n",
        "    wd.get(f\"https://www.indiegogo.com/{project_url}\")\n",
        "    address = wd.find_elements_by_css_selector(\".basicsCampaignOwner-details-city\")[0].text\n",
        "    geocode_url = f\"http://www.mapquestapi.com/geocoding/v1/address?key={key}&location={address}\"\n",
        "    response = requests.get(geocode_url)\n",
        "    if (response.status_code == 200):\n",
        "      geo = json.loads(response.text)\n",
        "      lat = geo['results'][0]['locations'][0]['latLng']['lat']\n",
        "      lng = geo['results'][0]['locations'][0]['latLng']['lng']\n",
        "      project_location.append({\n",
        "            \"project_id\": project_id,\n",
        "            \"lat\": lat,\n",
        "            \"lng\": lng\n",
        "          })\n",
        "  except Exception as e:\n",
        "    print(e)"
      ],
      "execution_count": null,
      "outputs": [
        {
          "output_type": "stream",
          "text": [
            "/usr/local/lib/python3.7/dist-packages/ipykernel_launcher.py:1: DeprecationWarning: use options instead of chrome_options\n",
            "  \"\"\"Entry point for launching an IPython kernel.\n",
            "/usr/local/lib/python3.7/dist-packages/ipykernel_launcher.py:4: TqdmDeprecationWarning: This function will be removed in tqdm==5.0.0\n",
            "Please use `tqdm.notebook.tqdm` instead of `tqdm.tqdm_notebook`\n",
            "  after removing the cwd from sys.path.\n"
          ],
          "name": "stderr"
        },
        {
          "output_type": "display_data",
          "data": {
            "application/vnd.jupyter.widget-view+json": {
              "model_id": "a3a165c326d9448596afe14dfa57927c",
              "version_minor": 0,
              "version_major": 2
            },
            "text/plain": [
              "HBox(children=(FloatProgress(value=0.0, max=4900.0), HTML(value='')))"
            ]
          },
          "metadata": {
            "tags": []
          }
        },
        {
          "output_type": "stream",
          "text": [
            "list index out of range\n",
            "list index out of range\n",
            "list index out of range\n",
            "list index out of range\n",
            "list index out of range\n",
            "list index out of range\n",
            "list index out of range\n",
            "list index out of range\n",
            "list index out of range\n",
            "list index out of range\n",
            "list index out of range\n",
            "list index out of range\n",
            "list index out of range\n",
            "list index out of range\n",
            "list index out of range\n",
            "list index out of range\n",
            "list index out of range\n",
            "list index out of range\n",
            "list index out of range\n",
            "list index out of range\n",
            "list index out of range\n",
            "list index out of range\n",
            "list index out of range\n",
            "list index out of range\n"
          ],
          "name": "stdout"
        }
      ]
    },
    {
      "cell_type": "code",
      "metadata": {
        "id": "jsxdlYC-JRQg"
      },
      "source": [
        "# project_location"
      ],
      "execution_count": null,
      "outputs": []
    },
    {
      "cell_type": "code",
      "metadata": {
        "id": "DGBoRIWIgRkj"
      },
      "source": [
        "print(len(project_location))"
      ],
      "execution_count": null,
      "outputs": []
    },
    {
      "cell_type": "code",
      "metadata": {
        "id": "Ikhm6pzLZm80"
      },
      "source": [
        "import pandas as pd\n",
        "ds_project_location = pd.DataFrame(project_location)\n",
        "ds_project_location.set_index(\"project_id\")\n",
        "ds_project_location.head(20)"
      ],
      "execution_count": null,
      "outputs": []
    },
    {
      "cell_type": "code",
      "metadata": {
        "id": "BJDDdn7AZocU"
      },
      "source": [
        "ds_project_location.to_csv(\"/content/drive/MyDrive/indiegogo/2_ds_project_location_full.csv\")"
      ],
      "execution_count": null,
      "outputs": []
    },
    {
      "cell_type": "code",
      "metadata": {
        "id": "B1adjPW9J0Mh"
      },
      "source": [
        "!mkdir /content/drive/MyDrive/indiegogo/images/"
      ],
      "execution_count": null,
      "outputs": []
    },
    {
      "cell_type": "code",
      "metadata": {
        "id": "sqCucb1cZGWs"
      },
      "source": [
        "detail_projects = []\n",
        "list_images = []\n",
        "num = 0\n",
        "for project_id, project in tqdm(ds_detail_projects.iterrows(), total=ds_detail_projects.shape[0]):\n",
        "  num = num + 1\n",
        "  try:\n",
        "    list_images.append({\"project_id\": project_id,\n",
        "                        \"img_file\": \"img_\" + str(num) + \".jpg\"})\n",
        "    src = project['image_url']\n",
        "    img_file = requests.get(src, stream=True)\n",
        "    if img_file.status_code == 200:\n",
        "      with open(\"/content/drive/MyDrive/indiegogo/images/img_\" + str(num) + \".jpg\", 'wb') as f:\n",
        "        f.write(img_file.content)\n",
        "  except Exception as e:\n",
        "    print(e)"
      ],
      "execution_count": null,
      "outputs": []
    },
    {
      "cell_type": "code",
      "metadata": {
        "id": "yR1EovvlJ_Tb"
      },
      "source": [
        "# list_images"
      ],
      "execution_count": null,
      "outputs": []
    },
    {
      "cell_type": "code",
      "metadata": {
        "id": "cVb-JxkgZtdk"
      },
      "source": [
        "import pandas as pd\n",
        "ds_images = pd.DataFrame(list_images)\n",
        "ds_images.set_index(\"project_id\")\n",
        "ds_images.head()"
      ],
      "execution_count": null,
      "outputs": []
    },
    {
      "cell_type": "code",
      "metadata": {
        "id": "99fsubzYZzWJ"
      },
      "source": [
        "ds_images.to_csv(\"/content/drive/MyDrive/indiegogo/3_ds_images_full.csv\")"
      ],
      "execution_count": null,
      "outputs": []
    },
    {
      "cell_type": "code",
      "metadata": {
        "id": "m4koOtiJKQTh"
      },
      "source": [
        "# !pip install clarifai-grpc --upgrade"
      ],
      "execution_count": null,
      "outputs": []
    },
    {
      "cell_type": "code",
      "metadata": {
        "id": "cH38lqwmY4PK"
      },
      "source": [
        "from clarifai_grpc.channel.clarifai_channel import ClarifaiChannel\n",
        "from clarifai_grpc.grpc.api import resources_pb2, service_pb2, service_pb2_grpc\n",
        "from clarifai_grpc.grpc.api.status import status_pb2, status_code_pb2\n",
        "\n",
        "channel = ClarifaiChannel.get_grpc_channel()\n",
        "\n",
        "# Note: You can also use a secure (encrypted) ClarifaiChannel.get_grpc_channel() however\n",
        "# it is currently not possible to use it with the latest gRPC version\n",
        "\n",
        "stub = service_pb2_grpc.V2Stub(channel)\n",
        "\n",
        "# This will be used by every Clarifai endpoint call.\n",
        "metadata = (('authorization', 'Key 41a0bb727c0c462d8cd09aa359fa9649'),)"
      ],
      "execution_count": null,
      "outputs": []
    },
    {
      "cell_type": "code",
      "metadata": {
        "id": "AdF3P2q9e-h4"
      },
      "source": [
        "!zip -r \"/content/drive/MyDrive/indiegogo/images_full.zip\" \"/content/drive/MyDrive/indiegogo/images/\""
      ],
      "execution_count": null,
      "outputs": []
    },
    {
      "cell_type": "code",
      "metadata": {
        "id": "80-jiMJ8LGI6"
      },
      "source": [
        "ds_images = pd.read_csv(\"/content/drive/MyDrive/indiegogo/3_ds_images_full.csv\", index_col=\"project_id\")\n",
        "ds_images.head()"
      ],
      "execution_count": null,
      "outputs": []
    },
    {
      "cell_type": "code",
      "metadata": {
        "id": "pZPGgcbWZ6ul"
      },
      "source": [
        "\n",
        "img_details = []\n",
        "for project_id, image in tqdm(ds_images.iterrows(), total=ds_images.shape[0]):\n",
        "  try:\n",
        "    with open('/content/drive/MyDrive/indiegogo/images/' + image['img_file'], \"rb\") as f:\n",
        "      file_bytes = f.read()\n",
        "    response = stub.PostModelOutputs(\n",
        "        service_pb2.PostModelOutputsRequest(\n",
        "            model_id=\"aaa03c23b3724a16a56b629203edc62c\",\n",
        "            inputs=[\n",
        "                resources_pb2.Input(\n",
        "                    data=resources_pb2.Data(\n",
        "                        image=resources_pb2.Image(\n",
        "                            base64=file_bytes\n",
        "                        )\n",
        "                    )\n",
        "                )\n",
        "            ]\n",
        "        ),\n",
        "        metadata=metadata\n",
        "    ).outputs[0]\n",
        "    print(response.status)\n",
        "    if(response.status.description == \"Ok\"):\n",
        "      for concept in response.data.concepts:\n",
        "          name = concept.name\n",
        "          value = concept.value\n",
        "          img_details.append({\n",
        "            \"project_id\": project_id,\n",
        "            \"image\": image['img_file'],\n",
        "            \"name\": name,\n",
        "            \"value\": value\n",
        "          })\n",
        "  except Exception as e:\n",
        "    print(e)"
      ],
      "execution_count": null,
      "outputs": []
    },
    {
      "cell_type": "code",
      "metadata": {
        "id": "RsZE3XcALO0w"
      },
      "source": [
        "# img_details"
      ],
      "execution_count": null,
      "outputs": []
    },
    {
      "cell_type": "code",
      "metadata": {
        "id": "JQ-qR4Y7aEbM"
      },
      "source": [
        "import pandas as pd\n",
        "ds_img_details = pd.DataFrame(img_details)\n",
        "ds_img_details.set_index(\"image\")\n",
        "ds_img_details.head()"
      ],
      "execution_count": null,
      "outputs": []
    },
    {
      "cell_type": "code",
      "metadata": {
        "id": "PrhKjhrqfM7z"
      },
      "source": [
        "ds_img_details.to_csv('/content/drive/MyDrive/indiegogo/4_ds_img_details_full.csv')"
      ],
      "execution_count": null,
      "outputs": []
    },
    {
      "cell_type": "code",
      "metadata": {
        "id": "QcF0f1aNfQEY"
      },
      "source": [
        ""
      ],
      "execution_count": null,
      "outputs": []
    }
  ]
}